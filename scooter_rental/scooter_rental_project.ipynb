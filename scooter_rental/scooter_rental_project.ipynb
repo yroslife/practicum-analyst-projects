{
 "cells": [
  {
   "cell_type": "markdown",
   "id": "da9a67d1",
   "metadata": {},
   "source": [
    "# Исследование аренды самокатов сервиса GoFast\n",
    "\n",
    "Нам предоставлены данные о некоторых пользователей сервиса **GoFast** из нескольких городов и об их поездках. Чтобы совершать поездки по городу, пользователи сервиса GoFast пользуются мобильным приложением. Сервисом можно пользоваться:\n",
    "* без подписки\n",
    " * абонентская плата отсутствует;\n",
    " * стоимость одной минуты поездки — 8 рублей;\n",
    " * стоимость старта (начала поездки) — 50 рублей;\n",
    "* с подпиской Ultra\n",
    " * абонентская плата — 199 рублей в месяц;\n",
    " * стоимость одной минуты поездки — 6 рублей;\n",
    " * стоимость старта — бесплатно.\n",
    " \n",
    "**Цель проекта** - проанализировать данные и провести статистический анализ, проверив некоторые гипотезы, которые помогут бизнесу вырасти.\n",
    "\n",
    "**Ход исследования**\n",
    "\n",
    "Данные представлены в нескольких датафреймах:\n",
    " * `/datasets/users_go.csv` - данные о пользователях;\n",
    " * `/datasets/rides_go.csv` - данные о совершенных ими поездках;\n",
    " * `/datasets/subscriptions_go.csv` - данные о подписках.\n",
    " \n",
    "Проведем обзор и предобработку данных, выявим проблемы в данных и опишем возможные причины их появления:\n",
    "* возможные ошибки (неверный тип данных, названия столбцов);\n",
    "* наличие дубликатов, пропусков;\n",
    "\n",
    "Выполним исследовательский анализ, опишем и визуализируем общую информацию о пользователях и поездках. Произведем объединение данных для дальнейшей работы с ними. Проведем подсчет выручки, после чего проверим несколько гипотез, а также сформулируем ответы по вопросам реализации акций и push-уведомлений."
   ]
  },
  {
   "cell_type": "markdown",
   "id": "5393cc75",
   "metadata": {},
   "source": [
    "# Оглавление\n",
    "\n",
    "**[1. Обзор данных](#view)**\n",
    "\n",
    "**[2. Предобработка данных](#preprocessing)**\n",
    "\n",
    "&emsp; [2.1. Обработка типов данных](#data_types)\n",
    "\n",
    "&emsp; [2.2. Обработка дубликатов](#miss_diplicates)\n",
    "\n",
    "**[3. Исследовательский анализ](#research)**\n",
    "\n",
    "**[4. Объединение данных](#merging)**\n",
    "\n",
    "**[5. Подсчет выручки](#gain_count)**\n",
    "\n",
    "**[6. Проверка гипотез](#hypotheses)**\n",
    "\n",
    "&emsp; [6.1. Гипотеза о времени поездки](#hypothesis_duration)\n",
    "\n",
    "&emsp; [6.2. Гипотеза о расстоянии поездки](#hypothesis_distance)\n",
    "\n",
    "&emsp; [6.3. Гипотеза о выручке](#hypothesis_gain)\n",
    "\n",
    "&emsp; [6.4. Гипотеза об обновлении сервера](#hypothesis_servers)\n",
    "\n",
    "**[7 Распределения](#distribution)**\n",
    "\n",
    "&emsp; [7.1. Распределение акционных подписок](#sub_sale)\n",
    "\n",
    "&emsp; [7.2. Распределение для push-уведомлений](#push)\n",
    "\n",
    "**[8. Выводы](#calculations)**"
   ]
  },
  {
   "cell_type": "markdown",
   "id": "ddfedfac",
   "metadata": {},
   "source": [
    "<a id=\"view\"></a>\n",
    "## Обзор данных"
   ]
  },
  {
   "cell_type": "markdown",
   "id": "81a405dc",
   "metadata": {},
   "source": [
    "Ознакомимся с данными. Выведем несколько первых строк по каждому датафрейму:"
   ]
  },
  {
   "cell_type": "code",
   "execution_count": 1,
   "id": "b5dea763",
   "metadata": {},
   "outputs": [],
   "source": [
    "# Импорт необходимых библиотек\n",
    "import pandas as pd\n",
    "pd.set_option('display.max_columns', None)\n",
    "pd.options.mode.chained_assignment = None # Отключение предупреждения о ссылке\n",
    "import matplotlib.pyplot as plt\n",
    "from scipy import stats as st\n",
    "import seaborn as sb\n",
    "import numpy as np\n",
    "from math import sqrt"
   ]
  },
  {
   "cell_type": "code",
   "execution_count": 2,
   "id": "656ef5dc",
   "metadata": {},
   "outputs": [
    {
     "data": {
      "text/html": [
       "<div>\n",
       "<style scoped>\n",
       "    .dataframe tbody tr th:only-of-type {\n",
       "        vertical-align: middle;\n",
       "    }\n",
       "\n",
       "    .dataframe tbody tr th {\n",
       "        vertical-align: top;\n",
       "    }\n",
       "\n",
       "    .dataframe thead th {\n",
       "        text-align: right;\n",
       "    }\n",
       "</style>\n",
       "<table border=\"1\" class=\"dataframe\">\n",
       "  <thead>\n",
       "    <tr style=\"text-align: right;\">\n",
       "      <th></th>\n",
       "      <th>user_id</th>\n",
       "      <th>name</th>\n",
       "      <th>age</th>\n",
       "      <th>city</th>\n",
       "      <th>subscription_type</th>\n",
       "    </tr>\n",
       "  </thead>\n",
       "  <tbody>\n",
       "    <tr>\n",
       "      <th>0</th>\n",
       "      <td>1</td>\n",
       "      <td>Кира</td>\n",
       "      <td>22</td>\n",
       "      <td>Тюмень</td>\n",
       "      <td>ultra</td>\n",
       "    </tr>\n",
       "    <tr>\n",
       "      <th>1</th>\n",
       "      <td>2</td>\n",
       "      <td>Станислав</td>\n",
       "      <td>31</td>\n",
       "      <td>Омск</td>\n",
       "      <td>ultra</td>\n",
       "    </tr>\n",
       "    <tr>\n",
       "      <th>2</th>\n",
       "      <td>3</td>\n",
       "      <td>Алексей</td>\n",
       "      <td>20</td>\n",
       "      <td>Москва</td>\n",
       "      <td>ultra</td>\n",
       "    </tr>\n",
       "    <tr>\n",
       "      <th>3</th>\n",
       "      <td>4</td>\n",
       "      <td>Константин</td>\n",
       "      <td>26</td>\n",
       "      <td>Ростов-на-Дону</td>\n",
       "      <td>ultra</td>\n",
       "    </tr>\n",
       "    <tr>\n",
       "      <th>4</th>\n",
       "      <td>5</td>\n",
       "      <td>Адель</td>\n",
       "      <td>28</td>\n",
       "      <td>Омск</td>\n",
       "      <td>ultra</td>\n",
       "    </tr>\n",
       "  </tbody>\n",
       "</table>\n",
       "</div>"
      ],
      "text/plain": [
       "   user_id        name  age            city subscription_type\n",
       "0        1        Кира   22          Тюмень             ultra\n",
       "1        2   Станислав   31            Омск             ultra\n",
       "2        3     Алексей   20          Москва             ultra\n",
       "3        4  Константин   26  Ростов-на-Дону             ultra\n",
       "4        5       Адель   28            Омск             ultra"
      ]
     },
     "metadata": {},
     "output_type": "display_data"
    },
    {
     "data": {
      "text/html": [
       "<div>\n",
       "<style scoped>\n",
       "    .dataframe tbody tr th:only-of-type {\n",
       "        vertical-align: middle;\n",
       "    }\n",
       "\n",
       "    .dataframe tbody tr th {\n",
       "        vertical-align: top;\n",
       "    }\n",
       "\n",
       "    .dataframe thead th {\n",
       "        text-align: right;\n",
       "    }\n",
       "</style>\n",
       "<table border=\"1\" class=\"dataframe\">\n",
       "  <thead>\n",
       "    <tr style=\"text-align: right;\">\n",
       "      <th></th>\n",
       "      <th>user_id</th>\n",
       "      <th>distance</th>\n",
       "      <th>duration</th>\n",
       "      <th>date</th>\n",
       "    </tr>\n",
       "  </thead>\n",
       "  <tbody>\n",
       "    <tr>\n",
       "      <th>0</th>\n",
       "      <td>1</td>\n",
       "      <td>4409.919140</td>\n",
       "      <td>25.599769</td>\n",
       "      <td>2021-01-01</td>\n",
       "    </tr>\n",
       "    <tr>\n",
       "      <th>1</th>\n",
       "      <td>1</td>\n",
       "      <td>2617.592153</td>\n",
       "      <td>15.816871</td>\n",
       "      <td>2021-01-18</td>\n",
       "    </tr>\n",
       "    <tr>\n",
       "      <th>2</th>\n",
       "      <td>1</td>\n",
       "      <td>754.159807</td>\n",
       "      <td>6.232113</td>\n",
       "      <td>2021-04-20</td>\n",
       "    </tr>\n",
       "    <tr>\n",
       "      <th>3</th>\n",
       "      <td>1</td>\n",
       "      <td>2694.783254</td>\n",
       "      <td>18.511000</td>\n",
       "      <td>2021-08-11</td>\n",
       "    </tr>\n",
       "    <tr>\n",
       "      <th>4</th>\n",
       "      <td>1</td>\n",
       "      <td>4028.687306</td>\n",
       "      <td>26.265803</td>\n",
       "      <td>2021-08-28</td>\n",
       "    </tr>\n",
       "  </tbody>\n",
       "</table>\n",
       "</div>"
      ],
      "text/plain": [
       "   user_id     distance   duration        date\n",
       "0        1  4409.919140  25.599769  2021-01-01\n",
       "1        1  2617.592153  15.816871  2021-01-18\n",
       "2        1   754.159807   6.232113  2021-04-20\n",
       "3        1  2694.783254  18.511000  2021-08-11\n",
       "4        1  4028.687306  26.265803  2021-08-28"
      ]
     },
     "metadata": {},
     "output_type": "display_data"
    },
    {
     "data": {
      "text/html": [
       "<div>\n",
       "<style scoped>\n",
       "    .dataframe tbody tr th:only-of-type {\n",
       "        vertical-align: middle;\n",
       "    }\n",
       "\n",
       "    .dataframe tbody tr th {\n",
       "        vertical-align: top;\n",
       "    }\n",
       "\n",
       "    .dataframe thead th {\n",
       "        text-align: right;\n",
       "    }\n",
       "</style>\n",
       "<table border=\"1\" class=\"dataframe\">\n",
       "  <thead>\n",
       "    <tr style=\"text-align: right;\">\n",
       "      <th></th>\n",
       "      <th>subscription_type</th>\n",
       "      <th>minute_price</th>\n",
       "      <th>start_ride_price</th>\n",
       "      <th>subscription_fee</th>\n",
       "    </tr>\n",
       "  </thead>\n",
       "  <tbody>\n",
       "    <tr>\n",
       "      <th>0</th>\n",
       "      <td>free</td>\n",
       "      <td>8</td>\n",
       "      <td>50</td>\n",
       "      <td>0</td>\n",
       "    </tr>\n",
       "    <tr>\n",
       "      <th>1</th>\n",
       "      <td>ultra</td>\n",
       "      <td>6</td>\n",
       "      <td>0</td>\n",
       "      <td>199</td>\n",
       "    </tr>\n",
       "  </tbody>\n",
       "</table>\n",
       "</div>"
      ],
      "text/plain": [
       "  subscription_type  minute_price  start_ride_price  subscription_fee\n",
       "0              free             8                50                 0\n",
       "1             ultra             6                 0               199"
      ]
     },
     "metadata": {},
     "output_type": "display_data"
    }
   ],
   "source": [
    "# Считаем данные и выведем первые 5 строк каждого датафрейма\n",
    "data_users = pd.read_csv('/datasets/users_go.csv')\n",
    "data_rides = pd.read_csv('/datasets/rides_go.csv')\n",
    "data_sub = pd.read_csv('/datasets/subscriptions_go.csv')\n",
    "\n",
    "display(data_users.head())\n",
    "display(data_rides.head())\n",
    "display(data_sub)"
   ]
  },
  {
   "cell_type": "markdown",
   "id": "c499737d",
   "metadata": {},
   "source": [
    "<a id='round'></a>\n",
    "Единственное что можно пока что заметить - большое количество знаков после запятой в столбцах `distance` и `duration` датафрейма `rides_go.csv`. Позже округлим их для большей наглядности.\n",
    "\n",
    "Выведем общую информацию о каждом датафрейме:"
   ]
  },
  {
   "cell_type": "code",
   "execution_count": 3,
   "id": "906aed0f",
   "metadata": {},
   "outputs": [
    {
     "name": "stdout",
     "output_type": "stream",
     "text": [
      "<class 'pandas.core.frame.DataFrame'>\n",
      "RangeIndex: 1565 entries, 0 to 1564\n",
      "Data columns (total 5 columns):\n",
      " #   Column             Non-Null Count  Dtype \n",
      "---  ------             --------------  ----- \n",
      " 0   user_id            1565 non-null   int64 \n",
      " 1   name               1565 non-null   object\n",
      " 2   age                1565 non-null   int64 \n",
      " 3   city               1565 non-null   object\n",
      " 4   subscription_type  1565 non-null   object\n",
      "dtypes: int64(2), object(3)\n",
      "memory usage: 61.3+ KB\n",
      "\n",
      "<class 'pandas.core.frame.DataFrame'>\n",
      "RangeIndex: 18068 entries, 0 to 18067\n",
      "Data columns (total 4 columns):\n",
      " #   Column    Non-Null Count  Dtype  \n",
      "---  ------    --------------  -----  \n",
      " 0   user_id   18068 non-null  int64  \n",
      " 1   distance  18068 non-null  float64\n",
      " 2   duration  18068 non-null  float64\n",
      " 3   date      18068 non-null  object \n",
      "dtypes: float64(2), int64(1), object(1)\n",
      "memory usage: 564.8+ KB\n",
      "\n",
      "<class 'pandas.core.frame.DataFrame'>\n",
      "RangeIndex: 2 entries, 0 to 1\n",
      "Data columns (total 4 columns):\n",
      " #   Column             Non-Null Count  Dtype \n",
      "---  ------             --------------  ----- \n",
      " 0   subscription_type  2 non-null      object\n",
      " 1   minute_price       2 non-null      int64 \n",
      " 2   start_ride_price   2 non-null      int64 \n",
      " 3   subscription_fee   2 non-null      int64 \n",
      "dtypes: int64(3), object(1)\n",
      "memory usage: 192.0+ bytes\n"
     ]
    }
   ],
   "source": [
    "# Отобразим общую информацию по датафреймам\n",
    "data_users.info()\n",
    "print()\n",
    "data_rides.info()\n",
    "print()\n",
    "data_sub.info()"
   ]
  },
  {
   "cell_type": "markdown",
   "id": "ebed7d4e",
   "metadata": {},
   "source": [
    "Датафрейм `users_go.csv` объемом 1565 строк содержит информацию об именах, возрасте и городе пользователей, также приведены их id. Каждый из столбцов имеет корректный тип данных. \n",
    "\n",
    "В датафрейме `rides_go.csv` приведены данные о дальности, длительности и дате поездок пользователей, имеется столбец с id пользователей. Объем данных 18068 строк, что значительно больше объема `users_go.csv`, скорее всего многие имеющиеся пользователи произвели более одной поездки. Типы данных верные, за исключением столбца `date`, его необходимо в дальнейшем исправить на корректные. \n",
    "\n",
    "В последнем датафрейме `subscriptions_go.csv` приведена информация по типу подписки, стоимости минуты аренды, цены начала поездки и ежемесячный платеж по ней. Имеется всего 2 строки, что соответствует двум типам подписки - *free, ultra*. Типы данных верные.\n",
    "\n",
    "Ни в одной таблице не имеется пропусков в каждом столбце, что облегчает задачу предобработки данных."
   ]
  },
  {
   "cell_type": "markdown",
   "id": "da3204de",
   "metadata": {},
   "source": [
    "<a id=\"preprocessing\"></a>\n",
    "## Предобработка данных\n"
   ]
  },
  {
   "cell_type": "markdown",
   "id": "68e15812",
   "metadata": {},
   "source": [
    "<a id='data_types'></a>\n",
    "### Обработка типов данных"
   ]
  },
  {
   "cell_type": "markdown",
   "id": "e7336fdb",
   "metadata": {},
   "source": [
    "Как было сказано [ранее](#round), округлим значения в столбцах `distance` и `duration` датафрейма `rides_go.csv` до 2 знаков после запятой:"
   ]
  },
  {
   "cell_type": "code",
   "execution_count": 4,
   "id": "e0a82a09",
   "metadata": {},
   "outputs": [],
   "source": [
    "# Округлим значения в столбцах 'distance' и 'duration'\n",
    "data_rides['distance'] = data_rides['distance'].round(2)\n",
    "data_rides['duration'] = data_rides['duration'].round(2)"
   ]
  },
  {
   "cell_type": "markdown",
   "id": "aeb45f83",
   "metadata": {},
   "source": [
    "Изменим тип данных в столбце `date` датафрейма `rides_go.csv` на *datetime64*:"
   ]
  },
  {
   "cell_type": "code",
   "execution_count": 5,
   "id": "1e5901cd",
   "metadata": {},
   "outputs": [],
   "source": [
    "data_rides['date'] = pd.to_datetime(\n",
    "    data_rides['date'], format='%Y-%m-%d'\n",
    ")"
   ]
  },
  {
   "cell_type": "markdown",
   "id": "64ddd9b7",
   "metadata": {},
   "source": [
    "Определим, за какой период по времени предоставлены данные:"
   ]
  },
  {
   "cell_type": "code",
   "execution_count": 6,
   "id": "4f01e28a",
   "metadata": {},
   "outputs": [
    {
     "name": "stdout",
     "output_type": "stream",
     "text": [
      "Данные предоставлены за период от 2021-01-01 до 2021-12-30\n"
     ]
    }
   ],
   "source": [
    "print(\n",
    "    'Данные предоставлены за период от',\n",
    "    data_rides['date'].dt.to_period(freq='D').min(),\n",
    "    'до',\n",
    "    data_rides['date'].dt.to_period(freq='D').max())"
   ]
  },
  {
   "cell_type": "markdown",
   "id": "90704375",
   "metadata": {},
   "source": [
    "Данные предоставлены за период в рамках 2021 года. Можем создать на основе столбца `date` новый столбец с номером месяца:"
   ]
  },
  {
   "cell_type": "code",
   "execution_count": 7,
   "id": "1099742d",
   "metadata": {},
   "outputs": [],
   "source": [
    "data_rides['date_month'] = pd.DatetimeIndex(data_rides['date']).month"
   ]
  },
  {
   "cell_type": "markdown",
   "id": "9ee1605c",
   "metadata": {},
   "source": [
    "<a id='miss_diplicates'></a>\n",
    "### Обработка дубликатов"
   ]
  },
  {
   "cell_type": "markdown",
   "id": "03930072",
   "metadata": {},
   "source": [
    "Пропусков нет, проверим наличие явных дубликатов в столбце `user_id` и полных дубликатов в датафрейме `rides_go.csv`. Сначала выведем явные дубликаты и удалим их:"
   ]
  },
  {
   "cell_type": "code",
   "execution_count": 8,
   "id": "38e68338",
   "metadata": {},
   "outputs": [
    {
     "name": "stdout",
     "output_type": "stream",
     "text": [
      "Количество дубликатов в столбце \"user_id\": 31\n"
     ]
    }
   ],
   "source": [
    "# Посчитаем количество явных дубликатов\n",
    "print('Количество дубликатов в столбце \"user_id\":',\n",
    "      data_users['user_id'].duplicated().sum())\n",
    "\n",
    "# Удалим все строки, где есть дубликаты в столбце 'user_id'\n",
    "data_users = data_users.drop_duplicates(subset='user_id').reset_index(drop=True)"
   ]
  },
  {
   "cell_type": "markdown",
   "id": "e7e35b61",
   "metadata": {},
   "source": [
    "Проверим полные дубликаты в `rides_go.csv` и удалим их, если такие есть:"
   ]
  },
  {
   "cell_type": "code",
   "execution_count": 9,
   "id": "ccf6e954",
   "metadata": {},
   "outputs": [
    {
     "name": "stdout",
     "output_type": "stream",
     "text": [
      "Количество полных дубликатов в датафрейме \"rides_go.csv\": 0\n"
     ]
    }
   ],
   "source": [
    "# Посчитаем количество полных дубликатов\n",
    "print('Количество полных дубликатов в датафрейме \"rides_go.csv\":',\n",
    "      data_rides.duplicated().sum())\n",
    "\n",
    "# Удалим все строки, где есть дубликаты в столбце 'user_id'\n",
    "data_rides = data_rides.drop_duplicates().reset_index(drop=True)"
   ]
  },
  {
   "cell_type": "markdown",
   "id": "0deddaf2",
   "metadata": {},
   "source": [
    "Определим количество неявных дубликатов в столбце `city` датафрейма `users_go.csv`. Выведем количество уникальных значений столбца `city`:"
   ]
  },
  {
   "cell_type": "code",
   "execution_count": 10,
   "id": "f6cfdc4e",
   "metadata": {},
   "outputs": [
    {
     "data": {
      "text/plain": [
       "Пятигорск         219\n",
       "Екатеринбург      204\n",
       "Ростов-на-Дону    198\n",
       "Краснодар         193\n",
       "Сочи              189\n",
       "Омск              183\n",
       "Тюмень            180\n",
       "Москва            168\n",
       "Name: city, dtype: int64"
      ]
     },
     "execution_count": 10,
     "metadata": {},
     "output_type": "execute_result"
    }
   ],
   "source": [
    "data_users['city'].value_counts()"
   ]
  },
  {
   "cell_type": "markdown",
   "id": "bff37da1",
   "metadata": {},
   "source": [
    "Неявных и полных дубликатов нет, явные обработаны, пропусков не наблюдали - можем идти дальше."
   ]
  },
  {
   "cell_type": "markdown",
   "id": "58efcdea",
   "metadata": {},
   "source": [
    "<a id='research'></a>\n",
    "## Исследовательский анализ"
   ]
  },
  {
   "cell_type": "markdown",
   "id": "f432f056",
   "metadata": {},
   "source": [
    "Изобразим столбчатую диаграмму, на которой покажем количество пользователей в разных городах:"
   ]
  },
  {
   "cell_type": "code",
   "execution_count": 11,
   "id": "0befb289",
   "metadata": {},
   "outputs": [
    {
     "data": {
      "image/png": "[encoded data removed]",
      "text/plain": [
       "<Figure size 864x360 with 1 Axes>"
      ]
     },
     "metadata": {
      "needs_background": "light"
     },
     "output_type": "display_data"
    }
   ],
   "source": [
    "plt.figure(figsize=(12, 5))\n",
    "sb.countplot(\n",
    "    x='city', \n",
    "    data = data_users,\n",
    "    palette='Blues',\n",
    "    order=data_users['city'].value_counts(ascending=False).index\n",
    ").set_xlabel('Город')\n",
    "plt.ylabel('Количество пользователей')\n",
    "plt.title('Количество пользователей в городах')\n",
    "plt.grid(True)\n",
    "plt.show()"
   ]
  },
  {
   "cell_type": "markdown",
   "id": "3ce7776f",
   "metadata": {},
   "source": [
    "Все города встречаются примерно одинаковое количество раз, однако необычно, что данных из Москвы меньше всего. Изобразим круговую диаграмму по пользователям с подпиской и без нее:"
   ]
  },
  {
   "cell_type": "code",
   "execution_count": 12,
   "id": "ea052440",
   "metadata": {},
   "outputs": [
    {
     "data": {
      "image/png": "[encoded data removed]",
      "text/plain": [
       "<Figure size 504x504 with 1 Axes>"
      ]
     },
     "metadata": {},
     "output_type": "display_data"
    }
   ],
   "source": [
    "data_users.pivot_table(\n",
    "    index='subscription_type', values='user_id', aggfunc='count'\n",
    ").plot(\n",
    "    kind='pie',\n",
    "    y='user_id',\n",
    "    title='Тип подписки пользователей',\n",
    "    ylabel='',\n",
    "    shadow=True,\n",
    "    autopct='%1.0f%%',\n",
    "    colors=['cornflowerblue', 'chartreuse'],\n",
    "    figsize=(7, 7),\n",
    "    labels=['', '']\n",
    ")\n",
    "plt.legend(bbox_to_anchor = (0.9, 0.9),\n",
    "           labels=['Бесплатная подписка', 'Подписка $ultra$'])\n",
    "plt.show()"
   ]
  },
  {
   "cell_type": "markdown",
   "id": "ceb9ee20",
   "metadata": {},
   "source": [
    "Большая часть пользователей не используют платную подписку `ultra`, однако оба типа подписки встречаются среди пользователей часто, что является достаточно типичной ситуацией. \n",
    "\n",
    "Далее будут рассмотрены количественные данные. Выведем на экран таблицу характерных значений для распределения количественных данных (возраста, дальности поездки и ее длительности). Также изобразим гистограмму, на которой отобразим возраста пользователей:"
   ]
  },
  {
   "cell_type": "code",
   "execution_count": 13,
   "id": "4972a760",
   "metadata": {},
   "outputs": [
    {
     "data": {
      "text/html": [
       "<div>\n",
       "<style scoped>\n",
       "    .dataframe tbody tr th:only-of-type {\n",
       "        vertical-align: middle;\n",
       "    }\n",
       "\n",
       "    .dataframe tbody tr th {\n",
       "        vertical-align: top;\n",
       "    }\n",
       "\n",
       "    .dataframe thead th {\n",
       "        text-align: right;\n",
       "    }\n",
       "</style>\n",
       "<table border=\"1\" class=\"dataframe\">\n",
       "  <thead>\n",
       "    <tr style=\"text-align: right;\">\n",
       "      <th></th>\n",
       "      <th>distance</th>\n",
       "      <th>duration</th>\n",
       "      <th>age</th>\n",
       "    </tr>\n",
       "  </thead>\n",
       "  <tbody>\n",
       "    <tr>\n",
       "      <th>count</th>\n",
       "      <td>18068.000000</td>\n",
       "      <td>18068.000000</td>\n",
       "      <td>1534.000000</td>\n",
       "    </tr>\n",
       "    <tr>\n",
       "      <th>mean</th>\n",
       "      <td>3070.659992</td>\n",
       "      <td>17.805017</td>\n",
       "      <td>24.903520</td>\n",
       "    </tr>\n",
       "    <tr>\n",
       "      <th>std</th>\n",
       "      <td>1116.831222</td>\n",
       "      <td>6.091071</td>\n",
       "      <td>4.572367</td>\n",
       "    </tr>\n",
       "    <tr>\n",
       "      <th>min</th>\n",
       "      <td>0.860000</td>\n",
       "      <td>0.500000</td>\n",
       "      <td>12.000000</td>\n",
       "    </tr>\n",
       "    <tr>\n",
       "      <th>25%</th>\n",
       "      <td>2543.227500</td>\n",
       "      <td>13.600000</td>\n",
       "      <td>22.000000</td>\n",
       "    </tr>\n",
       "    <tr>\n",
       "      <th>50%</th>\n",
       "      <td>3133.610000</td>\n",
       "      <td>17.680000</td>\n",
       "      <td>25.000000</td>\n",
       "    </tr>\n",
       "    <tr>\n",
       "      <th>75%</th>\n",
       "      <td>3776.220000</td>\n",
       "      <td>21.722500</td>\n",
       "      <td>28.000000</td>\n",
       "    </tr>\n",
       "    <tr>\n",
       "      <th>max</th>\n",
       "      <td>7211.010000</td>\n",
       "      <td>40.820000</td>\n",
       "      <td>43.000000</td>\n",
       "    </tr>\n",
       "  </tbody>\n",
       "</table>\n",
       "</div>"
      ],
      "text/plain": [
       "           distance      duration          age\n",
       "count  18068.000000  18068.000000  1534.000000\n",
       "mean    3070.659992     17.805017    24.903520\n",
       "std     1116.831222      6.091071     4.572367\n",
       "min        0.860000      0.500000    12.000000\n",
       "25%     2543.227500     13.600000    22.000000\n",
       "50%     3133.610000     17.680000    25.000000\n",
       "75%     3776.220000     21.722500    28.000000\n",
       "max     7211.010000     40.820000    43.000000"
      ]
     },
     "metadata": {},
     "output_type": "display_data"
    },
    {
     "data": {
      "image/png": "[encoded data removed]",
      "text/plain": [
       "<Figure size 576x288 with 1 Axes>"
      ]
     },
     "metadata": {
      "needs_background": "light"
     },
     "output_type": "display_data"
    }
   ],
   "source": [
    "# Выведем таблицу характерных значений\n",
    "display(\n",
    "    data_rides[['distance', 'duration']].describe().join(data_users['age'].describe())\n",
    ")\n",
    "\n",
    "# Выведем гистограмму количества пользователей по возрастам\n",
    "data_users.plot(\n",
    "    kind='hist',\n",
    "    y='age',\n",
    "    bins=data_users['age'].max() - data_users['age'].min(),\n",
    "    title='Количество пользователей по возрастам',\n",
    "    legend=False,\n",
    "    edgecolor='black',\n",
    "    color='cornflowerblue',\n",
    "    grid=True,\n",
    "    figsize=(8, 4)\n",
    ")\n",
    "plt.ylabel('Количество пользователей')\n",
    "plt.xlabel('(кол-во лет)')\n",
    "plt.show()"
   ]
  },
  {
   "cell_type": "markdown",
   "id": "5b2db99c",
   "metadata": {},
   "source": [
    "Распределение возраста пользователей очень напоминает нормальное с пиком 25 лет. Пользователей старше 40 лет практически не встречается. Изобразим гистограмму по расстоянию, которое преодолел пользователь за поездку:"
   ]
  },
  {
   "cell_type": "code",
   "execution_count": 14,
   "id": "b0d6af07",
   "metadata": {},
   "outputs": [
    {
     "data": {
      "image/png": "[encoded data removed]",
      "text/plain": [
       "<Figure size 576x288 with 1 Axes>"
      ]
     },
     "metadata": {
      "needs_background": "light"
     },
     "output_type": "display_data"
    }
   ],
   "source": [
    "data_rides.plot(\n",
    "    kind='hist',\n",
    "    y='distance',\n",
    "    bins=40,\n",
    "    title='Расстояние поездки',\n",
    "    legend=False,\n",
    "    edgecolor='black',\n",
    "    color='cornflowerblue',\n",
    "    grid=True,\n",
    "    figsize=(8, 4)\n",
    ")\n",
    "plt.ylabel('Количество поездок')\n",
    "plt.xlabel('(м)')\n",
    "plt.show()"
   ]
  },
  {
   "cell_type": "markdown",
   "id": "2e0a9b52",
   "metadata": {},
   "source": [
    "Наблюдаем два пика на распределении:\n",
    "* в районе 600 метров (слишком короткие поездки)\n",
    "* в районе 3000 метров (обычные поездки)\n",
    "\n",
    "<a id='theory'></a>\n",
    "Есть предположение, что наличие второго пика может быть связано с платной подпиской, которая позволяет бесплатно начинать поездку, поэтому пользователь может брать в аренду самокат даже на незначительные расстояния без потери \"лишних\" средств. Отсутствие подписки обязывает вносить плату за начало аренды, поэтому пользователь постарается совершить более длинную поездку. Проверим это предположение [позже](#too_short). Изобразим гистограмму по длительности поездки:"
   ]
  },
  {
   "cell_type": "code",
   "execution_count": 15,
   "id": "4f338fde",
   "metadata": {},
   "outputs": [
    {
     "data": {
      "image/png": "[encoded data removed]",
      "text/plain": [
       "<Figure size 576x288 with 1 Axes>"
      ]
     },
     "metadata": {
      "needs_background": "light"
     },
     "output_type": "display_data"
    }
   ],
   "source": [
    "data_rides.plot(\n",
    "    kind='hist',\n",
    "    y='duration',\n",
    "    bins=60,\n",
    "    title='Время поездки',\n",
    "    legend=False,\n",
    "    edgecolor='black',\n",
    "    color='cornflowerblue',\n",
    "    grid=True,\n",
    "    figsize=(8, 4)\n",
    ")\n",
    "plt.ylabel('Количество поездок')\n",
    "plt.xlabel('(мин)')\n",
    "plt.show()"
   ]
  },
  {
   "cell_type": "markdown",
   "id": "811f5de6",
   "metadata": {},
   "source": [
    "Чаще всего поедки завершают за 18 минут, время поездок распределено нормально. наблюдается небольшой пик возле 1 минуты. Очень похоже на отмену поездки сразу после ее начала. Причиной мог выступить человеческий фактор - человек не разобрался в интерфейсе мобильного приложения и решил отменить поездку. Технические неполадки в самом приложении могли послужить причинами такого пика, также человеку мог попасться севший, грязный или дефектный самокат."
   ]
  },
  {
   "cell_type": "markdown",
   "id": "574033da",
   "metadata": {},
   "source": [
    "<a id='merging'></a>\n",
    "## Объединение данных"
   ]
  },
  {
   "cell_type": "markdown",
   "id": "1bbca280",
   "metadata": {},
   "source": [
    "Объединим данные о пользователях, поездках и подписках в один датафрейм для удобства дальнейшего анализа, также создадим новый столбец `speed_avg`, в который поместим средние скорости во время поездки поделив столбец `distance` на столбец `duration`. Также переведем скорость в привычную размерность - км/ч и произведем проверку объединения - совпадает ли количество строк наибольшей таблицы (таблица с поездками) с количеством строк в объединенной таблице. Также проверим количество пропусков"
   ]
  },
  {
   "cell_type": "code",
   "execution_count": 16,
   "id": "6fd7efb1",
   "metadata": {},
   "outputs": [
    {
     "data": {
      "text/html": [
       "<div>\n",
       "<style scoped>\n",
       "    .dataframe tbody tr th:only-of-type {\n",
       "        vertical-align: middle;\n",
       "    }\n",
       "\n",
       "    .dataframe tbody tr th {\n",
       "        vertical-align: top;\n",
       "    }\n",
       "\n",
       "    .dataframe thead th {\n",
       "        text-align: right;\n",
       "    }\n",
       "</style>\n",
       "<table border=\"1\" class=\"dataframe\">\n",
       "  <thead>\n",
       "    <tr style=\"text-align: right;\">\n",
       "      <th></th>\n",
       "      <th>user_id</th>\n",
       "      <th>distance</th>\n",
       "      <th>duration</th>\n",
       "      <th>date</th>\n",
       "      <th>date_month</th>\n",
       "      <th>name</th>\n",
       "      <th>age</th>\n",
       "      <th>city</th>\n",
       "      <th>subscription_type</th>\n",
       "      <th>minute_price</th>\n",
       "      <th>start_ride_price</th>\n",
       "      <th>subscription_fee</th>\n",
       "      <th>speed_avg</th>\n",
       "    </tr>\n",
       "  </thead>\n",
       "  <tbody>\n",
       "    <tr>\n",
       "      <th>0</th>\n",
       "      <td>1</td>\n",
       "      <td>4409.92</td>\n",
       "      <td>25.60</td>\n",
       "      <td>2021-01-01</td>\n",
       "      <td>1</td>\n",
       "      <td>Кира</td>\n",
       "      <td>22</td>\n",
       "      <td>Тюмень</td>\n",
       "      <td>ultra</td>\n",
       "      <td>6</td>\n",
       "      <td>0</td>\n",
       "      <td>199</td>\n",
       "      <td>10.335750</td>\n",
       "    </tr>\n",
       "    <tr>\n",
       "      <th>1</th>\n",
       "      <td>1</td>\n",
       "      <td>2617.59</td>\n",
       "      <td>15.82</td>\n",
       "      <td>2021-01-18</td>\n",
       "      <td>1</td>\n",
       "      <td>Кира</td>\n",
       "      <td>22</td>\n",
       "      <td>Тюмень</td>\n",
       "      <td>ultra</td>\n",
       "      <td>6</td>\n",
       "      <td>0</td>\n",
       "      <td>199</td>\n",
       "      <td>9.927649</td>\n",
       "    </tr>\n",
       "    <tr>\n",
       "      <th>2</th>\n",
       "      <td>1</td>\n",
       "      <td>754.16</td>\n",
       "      <td>6.23</td>\n",
       "      <td>2021-04-20</td>\n",
       "      <td>4</td>\n",
       "      <td>Кира</td>\n",
       "      <td>22</td>\n",
       "      <td>Тюмень</td>\n",
       "      <td>ultra</td>\n",
       "      <td>6</td>\n",
       "      <td>0</td>\n",
       "      <td>199</td>\n",
       "      <td>7.263178</td>\n",
       "    </tr>\n",
       "    <tr>\n",
       "      <th>3</th>\n",
       "      <td>1</td>\n",
       "      <td>2694.78</td>\n",
       "      <td>18.51</td>\n",
       "      <td>2021-08-11</td>\n",
       "      <td>8</td>\n",
       "      <td>Кира</td>\n",
       "      <td>22</td>\n",
       "      <td>Тюмень</td>\n",
       "      <td>ultra</td>\n",
       "      <td>6</td>\n",
       "      <td>0</td>\n",
       "      <td>199</td>\n",
       "      <td>8.735105</td>\n",
       "    </tr>\n",
       "    <tr>\n",
       "      <th>4</th>\n",
       "      <td>1</td>\n",
       "      <td>4028.69</td>\n",
       "      <td>26.27</td>\n",
       "      <td>2021-08-28</td>\n",
       "      <td>8</td>\n",
       "      <td>Кира</td>\n",
       "      <td>22</td>\n",
       "      <td>Тюмень</td>\n",
       "      <td>ultra</td>\n",
       "      <td>6</td>\n",
       "      <td>0</td>\n",
       "      <td>199</td>\n",
       "      <td>9.201424</td>\n",
       "    </tr>\n",
       "  </tbody>\n",
       "</table>\n",
       "</div>"
      ],
      "text/plain": [
       "   user_id  distance  duration       date  date_month  name  age    city  \\\n",
       "0        1   4409.92     25.60 2021-01-01           1  Кира   22  Тюмень   \n",
       "1        1   2617.59     15.82 2021-01-18           1  Кира   22  Тюмень   \n",
       "2        1    754.16      6.23 2021-04-20           4  Кира   22  Тюмень   \n",
       "3        1   2694.78     18.51 2021-08-11           8  Кира   22  Тюмень   \n",
       "4        1   4028.69     26.27 2021-08-28           8  Кира   22  Тюмень   \n",
       "\n",
       "  subscription_type  minute_price  start_ride_price  subscription_fee  \\\n",
       "0             ultra             6                 0               199   \n",
       "1             ultra             6                 0               199   \n",
       "2             ultra             6                 0               199   \n",
       "3             ultra             6                 0               199   \n",
       "4             ultra             6                 0               199   \n",
       "\n",
       "   speed_avg  \n",
       "0  10.335750  \n",
       "1   9.927649  \n",
       "2   7.263178  \n",
       "3   8.735105  \n",
       "4   9.201424  "
      ]
     },
     "metadata": {},
     "output_type": "display_data"
    },
    {
     "name": "stdout",
     "output_type": "stream",
     "text": [
      "Сумма строк в двух таблицах: 18068\n",
      "Количество строк в объединенной таблице: 18068\n",
      "\n",
      "Количество пропусков в объединенном датафрейме:\n"
     ]
    },
    {
     "data": {
      "text/plain": [
       "user_id              0\n",
       "distance             0\n",
       "duration             0\n",
       "date                 0\n",
       "date_month           0\n",
       "name                 0\n",
       "age                  0\n",
       "city                 0\n",
       "subscription_type    0\n",
       "minute_price         0\n",
       "start_ride_price     0\n",
       "subscription_fee     0\n",
       "speed_avg            0\n",
       "dtype: int64"
      ]
     },
     "execution_count": 16,
     "metadata": {},
     "output_type": "execute_result"
    }
   ],
   "source": [
    "# Объединим методом merge\n",
    "data_full = data_rides.merge(data_users, on='user_id')\n",
    "data_full = data_full.merge(data_sub, on='subscription_type')\n",
    "\n",
    "# Создадим столбец со скоростями\n",
    "data_full['speed_avg'] = (data_full['distance'] / data_full['duration']) * 60 / 1000\n",
    "\n",
    "# Выведем первые 5 строк для ознакомления\n",
    "display(data_full.head())\n",
    "\n",
    "# Произведем проверку объединения наглядно\n",
    "print('Сумма строк в двух таблицах:', data_rides.shape[0])\n",
    "print('Количество строк в объединенной таблице:', data_full.shape[0])\n",
    "print()\n",
    "\n",
    "print('Количество пропусков в объединенном датафрейме:')\n",
    "data_full.isna().sum()"
   ]
  },
  {
   "cell_type": "markdown",
   "id": "80ef8089",
   "metadata": {},
   "source": [
    "len(data_full)"
   ]
  },
  {
   "cell_type": "markdown",
   "id": "05feb6d9",
   "metadata": {},
   "source": [
    "Количество строк совпало, объединение выполнено корректно. Изобразим гистограмму средних скоростей:"
   ]
  },
  {
   "cell_type": "code",
   "execution_count": 17,
   "id": "add12033",
   "metadata": {},
   "outputs": [
    {
     "data": {
      "image/png": "[encoded data removed]",
      "text/plain": [
       "<Figure size 576x288 with 1 Axes>"
      ]
     },
     "metadata": {
      "needs_background": "light"
     },
     "output_type": "display_data"
    }
   ],
   "source": [
    "data_full.plot(\n",
    "    kind='hist',\n",
    "    y='speed_avg',\n",
    "    bins=60,\n",
    "    title='Средняя скорость поездки',\n",
    "    legend=False,\n",
    "    edgecolor='black',\n",
    "    color='cornflowerblue',\n",
    "    grid=True,\n",
    "    figsize=(8, 4)\n",
    ")\n",
    "plt.ylabel('Количество поездок')\n",
    "plt.xlabel('(км/ч)')\n",
    "plt.show()"
   ]
  },
  {
   "cell_type": "markdown",
   "id": "4739b8e1",
   "metadata": {},
   "source": [
    "Определенно что-то не так с данными, таких значений средних скоростей явно не может достичь электрический самокат. Посмотрим на значения столбцов ` duration`, `distance` и `speed_avg` там, где средняя скорость больше типичных 25 км/ч:"
   ]
  },
  {
   "cell_type": "code",
   "execution_count": 18,
   "id": "f313dacc",
   "metadata": {},
   "outputs": [
    {
     "data": {
      "text/html": [
       "<div>\n",
       "<style scoped>\n",
       "    .dataframe tbody tr th:only-of-type {\n",
       "        vertical-align: middle;\n",
       "    }\n",
       "\n",
       "    .dataframe tbody tr th {\n",
       "        vertical-align: top;\n",
       "    }\n",
       "\n",
       "    .dataframe thead th {\n",
       "        text-align: right;\n",
       "    }\n",
       "</style>\n",
       "<table border=\"1\" class=\"dataframe\">\n",
       "  <thead>\n",
       "    <tr style=\"text-align: right;\">\n",
       "      <th></th>\n",
       "      <th>duration</th>\n",
       "      <th>distance</th>\n",
       "      <th>speed_avg</th>\n",
       "    </tr>\n",
       "  </thead>\n",
       "  <tbody>\n",
       "    <tr>\n",
       "      <th>6531</th>\n",
       "      <td>0.5</td>\n",
       "      <td>4196.45</td>\n",
       "      <td>503.5740</td>\n",
       "    </tr>\n",
       "    <tr>\n",
       "      <th>6570</th>\n",
       "      <td>0.5</td>\n",
       "      <td>4830.82</td>\n",
       "      <td>579.6984</td>\n",
       "    </tr>\n",
       "    <tr>\n",
       "      <th>6680</th>\n",
       "      <td>0.5</td>\n",
       "      <td>4684.00</td>\n",
       "      <td>562.0800</td>\n",
       "    </tr>\n",
       "    <tr>\n",
       "      <th>6695</th>\n",
       "      <td>0.5</td>\n",
       "      <td>5215.64</td>\n",
       "      <td>625.8768</td>\n",
       "    </tr>\n",
       "    <tr>\n",
       "      <th>6768</th>\n",
       "      <td>0.5</td>\n",
       "      <td>5197.44</td>\n",
       "      <td>623.6928</td>\n",
       "    </tr>\n",
       "    <tr>\n",
       "      <th>...</th>\n",
       "      <td>...</td>\n",
       "      <td>...</td>\n",
       "      <td>...</td>\n",
       "    </tr>\n",
       "    <tr>\n",
       "      <th>17004</th>\n",
       "      <td>0.5</td>\n",
       "      <td>5531.34</td>\n",
       "      <td>663.7608</td>\n",
       "    </tr>\n",
       "    <tr>\n",
       "      <th>17242</th>\n",
       "      <td>0.5</td>\n",
       "      <td>6724.93</td>\n",
       "      <td>806.9916</td>\n",
       "    </tr>\n",
       "    <tr>\n",
       "      <th>17314</th>\n",
       "      <td>0.5</td>\n",
       "      <td>4445.48</td>\n",
       "      <td>533.4576</td>\n",
       "    </tr>\n",
       "    <tr>\n",
       "      <th>17505</th>\n",
       "      <td>0.5</td>\n",
       "      <td>5722.55</td>\n",
       "      <td>686.7060</td>\n",
       "    </tr>\n",
       "    <tr>\n",
       "      <th>17909</th>\n",
       "      <td>0.5</td>\n",
       "      <td>4104.00</td>\n",
       "      <td>492.4800</td>\n",
       "    </tr>\n",
       "  </tbody>\n",
       "</table>\n",
       "<p>99 rows × 3 columns</p>\n",
       "</div>"
      ],
      "text/plain": [
       "       duration  distance  speed_avg\n",
       "6531        0.5   4196.45   503.5740\n",
       "6570        0.5   4830.82   579.6984\n",
       "6680        0.5   4684.00   562.0800\n",
       "6695        0.5   5215.64   625.8768\n",
       "6768        0.5   5197.44   623.6928\n",
       "...         ...       ...        ...\n",
       "17004       0.5   5531.34   663.7608\n",
       "17242       0.5   6724.93   806.9916\n",
       "17314       0.5   4445.48   533.4576\n",
       "17505       0.5   5722.55   686.7060\n",
       "17909       0.5   4104.00   492.4800\n",
       "\n",
       "[99 rows x 3 columns]"
      ]
     },
     "metadata": {},
     "output_type": "display_data"
    },
    {
     "name": "stdout",
     "output_type": "stream",
     "text": [
      "Доля поездок со средней скоростью больше 25 км/ч: 0.005479300420633164\n"
     ]
    }
   ],
   "source": [
    "# Изобразим строки, где скорость превышает 25 км/ч\n",
    "display(\n",
    "    data_full[['duration', 'distance', 'speed_avg']].query('speed_avg > 25')\n",
    ")\n",
    "\n",
    "# Изобразим долю таких поездок\n",
    "print(\n",
    "    'Доля поездок со средней скоростью больше 25 км/ч:',\n",
    "    len(data_full.query('speed_avg > 25')) / len(data_full)\n",
    ")"
   ]
  },
  {
   "cell_type": "markdown",
   "id": "6fff383a",
   "metadata": {},
   "source": [
    "Во всех таких столбцах одинаковое время поездки в пол минуты, что очень подозрительно при таких расстояниях. Возможно специальные сотрудники сервиса **GoFast** перемещали самокаты в зоны, в которых их не хватало, либо на зарядную станцию или по иной другой причине и такие перемещения проходят в системе как поездки. Также возможно таким образом была реализована акция для пользователей. Данную информацию необходимо уточнять, прежде чем как то ее обрабатывать. Оставим эти строки как есть. Заново изобразим гистограмму средних скоростей в диапазоне от 0 до 25 км/ч."
   ]
  },
  {
   "cell_type": "code",
   "execution_count": 19,
   "id": "c7b337a2",
   "metadata": {
    "scrolled": true
   },
   "outputs": [
    {
     "data": {
      "image/png": "[encoded data removed]",
      "text/plain": [
       "<Figure size 576x288 with 1 Axes>"
      ]
     },
     "metadata": {
      "needs_background": "light"
     },
     "output_type": "display_data"
    }
   ],
   "source": [
    "# Изобразим гистограмму средних скоростей\n",
    "data_full.plot(\n",
    "    kind='hist',\n",
    "    y='speed_avg',\n",
    "    bins=60,\n",
    "    title='Средняя скорость поездки',\n",
    "    legend=False,\n",
    "    edgecolor='black',\n",
    "    color='cornflowerblue',\n",
    "    grid=True,\n",
    "    range=(0, 25),\n",
    "    figsize=(8, 4)\n",
    ")\n",
    "plt.ylabel('Количество поездок')\n",
    "plt.xlabel('(км/ч)')\n",
    "plt.show()"
   ]
  },
  {
   "cell_type": "markdown",
   "id": "d0902907",
   "metadata": {},
   "source": [
    "<a id='low_speed'></a>\n",
    "Присутствует достаточно равномерный участок скоростей до 5 км/ч. Такая маленькая скорость может быть обусловлена высокой плотностью людей в зоне поездки."
   ]
  },
  {
   "cell_type": "markdown",
   "id": "c6c9d9e2",
   "metadata": {},
   "source": [
    "Создадим два отдельных датафрейма, в которых будет информация только по пользователям с подпиской и без нее:"
   ]
  },
  {
   "cell_type": "code",
   "execution_count": 20,
   "id": "ee437969",
   "metadata": {},
   "outputs": [],
   "source": [
    "# Создадим датафрейм с пользователями без подписки\n",
    "data_free = data_full.query('subscription_type == \"free\"').reset_index(drop=True)\n",
    "\n",
    "# Создадим датафрейм с пользователями с подпиской ultra\n",
    "data_ultra = data_full.query('subscription_type == \"ultra\"').reset_index(drop=True)"
   ]
  },
  {
   "cell_type": "markdown",
   "id": "3f9409ac",
   "metadata": {},
   "source": [
    "Посмотрим как распределены расстояния поездок среди пользователей с подпиской/без нее:"
   ]
  },
  {
   "cell_type": "code",
   "execution_count": 21,
   "id": "6da8b082",
   "metadata": {},
   "outputs": [
    {
     "data": {
      "image/png": "[encoded data removed]",
      "text/plain": [
       "<Figure size 576x288 with 1 Axes>"
      ]
     },
     "metadata": {
      "needs_background": "light"
     },
     "output_type": "display_data"
    }
   ],
   "source": [
    "# Создадим функцию построения гистограммы\n",
    "def double_sub_hist(data_1, data_2, col_name, n, title, xlabel):\n",
    "    ax = data_1.plot(\n",
    "        y=col_name,\n",
    "        kind='hist',\n",
    "        bins=n,\n",
    "        histtype='step',\n",
    "        linewidth=3,\n",
    "        alpha=0.7,\n",
    "        figsize=(8,4)\n",
    "    )\n",
    "\n",
    "    data_2.plot(\n",
    "        y=col_name,\n",
    "        kind='hist',\n",
    "        bins=n,\n",
    "        histtype='step',\n",
    "        linewidth=3,\n",
    "        ax=ax,\n",
    "        alpha=0.7,\n",
    "        grid=True,\n",
    "        figsize=(8,4)\n",
    "    )\n",
    "    plt.title(title)\n",
    "    plt.xlabel(xlabel)\n",
    "    plt.ylabel('Количество поездок')\n",
    "    plt.legend(['Без подписки', 'С подпиской'])\n",
    "    plt.show()\n",
    "\n",
    "# Вызовем функцию построения гистограмм\n",
    "double_sub_hist(\n",
    "    data_free, data_ultra, 'distance', 50, 'Расстояние поездки', '(м)'\n",
    ")    "
   ]
  },
  {
   "cell_type": "code",
   "execution_count": 22,
   "id": "f45ad96d",
   "metadata": {},
   "outputs": [
    {
     "data": {
      "image/png": "[encoded data removed]",
      "text/plain": [
       "<Figure size 576x288 with 1 Axes>"
      ]
     },
     "metadata": {
      "needs_background": "light"
     },
     "output_type": "display_data"
    }
   ],
   "source": [
    "double_sub_hist(\n",
    "    data_free, data_ultra, 'duration', 50, 'Продолжительность поездки', 'мин'\n",
    ")    "
   ]
  },
  {
   "cell_type": "markdown",
   "id": "fb9c3c9c",
   "metadata": {},
   "source": [
    "<a id='too_short'></a>\n",
    "Озвученное [ранее](#theory) предположение не подтвердилось. \"Слишком короткие\" поездки присутствуют как среди пользователей с подпиской, так и среди тех, кто ее не приобрел, причем таких поездок больше у последних. \n",
    "\n",
    "Короткие поездки, должны быть очень быстрыми, что неизбежно бы вызвало пик на гистограмме времени, однако такого мы не наблюдали. Можем предположить, что такие короткие поездки совершались в очень людных местах, где быстро ездить не получится. Изобразим гистограммы средних скоростей пользователей с обоими видами подписок."
   ]
  },
  {
   "cell_type": "code",
   "execution_count": 23,
   "id": "0b083c57",
   "metadata": {},
   "outputs": [
    {
     "data": {
      "image/png": "[encoded data removed]",
      "text/plain": [
       "<Figure size 576x288 with 1 Axes>"
      ]
     },
     "metadata": {
      "needs_background": "light"
     },
     "output_type": "display_data"
    }
   ],
   "source": [
    "# Вызовем функцию построения гистограмм\n",
    "double_sub_hist(\n",
    "    data_free, data_ultra, 'speed_avg', 50, 'Средняя скорость поездки', '(км/ч)'\n",
    ")    "
   ]
  },
  {
   "cell_type": "markdown",
   "id": "288cef3c",
   "metadata": {},
   "source": [
    "Не похоже, что наличие подписки как то влияет на скорость перемещения. Видим весомое количество поездок до 5 км/ч. О причинах такого распределения говорили [ранее](#low_speed). Изобразим гистограммы по времени поездки."
   ]
  },
  {
   "cell_type": "code",
   "execution_count": 24,
   "id": "843edfb5",
   "metadata": {},
   "outputs": [
    {
     "data": {
      "image/png": "[encoded data removed]",
      "text/plain": [
       "<Figure size 576x288 with 1 Axes>"
      ]
     },
     "metadata": {
      "needs_background": "light"
     },
     "output_type": "display_data"
    }
   ],
   "source": [
    "# Вызовем функцию построения гистограмм\n",
    "double_sub_hist(\n",
    "    data_free, data_ultra, 'duration', 50, 'Продолжительность поездки', '(мин)'\n",
    ")    "
   ]
  },
  {
   "cell_type": "markdown",
   "id": "cc14db73",
   "metadata": {},
   "source": [
    "Характер распределения идентичен у обоих групп пользователей."
   ]
  },
  {
   "cell_type": "markdown",
   "id": "f8f71b99",
   "metadata": {},
   "source": [
    "<a id='gain_count'></a>\n",
    "## Подсчет выручки"
   ]
  },
  {
   "cell_type": "markdown",
   "id": "cc18d123",
   "metadata": {},
   "source": [
    "Создадим новый датафрейм с агрегированными данными по количеству поездок, общей длительности и общему расстоянию поездок за каждый месяц для каждого пользователя. Необходимо создать сводную таблицу с мультииндексом: первым будет id пользователя, вторым будет месяц, в который осуществлялись поездки. Для удобства, после создания таблицы избавимся от мультииндекса. Также округлим значения из столбца `duration` вверх."
   ]
  },
  {
   "cell_type": "code",
   "execution_count": 25,
   "id": "eb196c81",
   "metadata": {
    "scrolled": true
   },
   "outputs": [
    {
     "data": {
      "text/html": [
       "<div>\n",
       "<style scoped>\n",
       "    .dataframe tbody tr th:only-of-type {\n",
       "        vertical-align: middle;\n",
       "    }\n",
       "\n",
       "    .dataframe tbody tr th {\n",
       "        vertical-align: top;\n",
       "    }\n",
       "\n",
       "    .dataframe thead th {\n",
       "        text-align: right;\n",
       "    }\n",
       "</style>\n",
       "<table border=\"1\" class=\"dataframe\">\n",
       "  <thead>\n",
       "    <tr style=\"text-align: right;\">\n",
       "      <th></th>\n",
       "      <th>user_id</th>\n",
       "      <th>date_month</th>\n",
       "      <th>distance_total</th>\n",
       "      <th>duration_total</th>\n",
       "      <th>count</th>\n",
       "    </tr>\n",
       "  </thead>\n",
       "  <tbody>\n",
       "    <tr>\n",
       "      <th>0</th>\n",
       "      <td>1</td>\n",
       "      <td>1</td>\n",
       "      <td>7027.51</td>\n",
       "      <td>42.0</td>\n",
       "      <td>2</td>\n",
       "    </tr>\n",
       "    <tr>\n",
       "      <th>1</th>\n",
       "      <td>1</td>\n",
       "      <td>4</td>\n",
       "      <td>754.16</td>\n",
       "      <td>7.0</td>\n",
       "      <td>1</td>\n",
       "    </tr>\n",
       "    <tr>\n",
       "      <th>2</th>\n",
       "      <td>1</td>\n",
       "      <td>8</td>\n",
       "      <td>6723.47</td>\n",
       "      <td>46.0</td>\n",
       "      <td>2</td>\n",
       "    </tr>\n",
       "    <tr>\n",
       "      <th>3</th>\n",
       "      <td>1</td>\n",
       "      <td>10</td>\n",
       "      <td>5809.91</td>\n",
       "      <td>32.0</td>\n",
       "      <td>2</td>\n",
       "    </tr>\n",
       "    <tr>\n",
       "      <th>4</th>\n",
       "      <td>1</td>\n",
       "      <td>11</td>\n",
       "      <td>7003.50</td>\n",
       "      <td>56.0</td>\n",
       "      <td>3</td>\n",
       "    </tr>\n",
       "  </tbody>\n",
       "</table>\n",
       "</div>"
      ],
      "text/plain": [
       "   user_id  date_month  distance_total  duration_total  count\n",
       "0        1           1         7027.51            42.0      2\n",
       "1        1           4          754.16             7.0      1\n",
       "2        1           8         6723.47            46.0      2\n",
       "3        1          10         5809.91            32.0      2\n",
       "4        1          11         7003.50            56.0      3"
      ]
     },
     "execution_count": 25,
     "metadata": {},
     "output_type": "execute_result"
    }
   ],
   "source": [
    "# Округлим значение столбца 'duration' вверх\n",
    "data_full['duration'] = np.ceil(data_full['duration'])\n",
    "\n",
    "# Создадим сводную таблицу с суммой времени и дальности поездок\n",
    "data_agg_full = data_full.pivot_table(\n",
    "    index=['user_id', 'date_month'],\n",
    "    values=['duration', 'distance'],\n",
    "    aggfunc='sum'\n",
    ").reset_index()\n",
    "\n",
    "# Создадим сводную таблицу для слияния по индексам с общим числом поездок\n",
    "data_to_join = data_full.pivot_table(\n",
    "    index=['user_id', 'date_month'],\n",
    "    values='name',\n",
    "    aggfunc='count'\n",
    ").reset_index()['name']\n",
    "\n",
    "# Объединим исходную таблицу со столбцом общего количества поездок\n",
    "data_agg_full = data_agg_full.join(data_to_join)\n",
    "\n",
    "# переименуем столбцы\n",
    "data_agg_full.columns = ['user_id', 'date_month', 'distance_total', 'duration_total', 'count']\n",
    "\n",
    "# Выведем первые 5 строк получившегося датафрейма\n",
    "data_agg_full.head(5)"
   ]
  },
  {
   "cell_type": "code",
   "execution_count": 26,
   "id": "4e7ba76b",
   "metadata": {},
   "outputs": [
    {
     "data": {
      "text/html": [
       "<div>\n",
       "<style scoped>\n",
       "    .dataframe tbody tr th:only-of-type {\n",
       "        vertical-align: middle;\n",
       "    }\n",
       "\n",
       "    .dataframe tbody tr th {\n",
       "        vertical-align: top;\n",
       "    }\n",
       "\n",
       "    .dataframe thead th {\n",
       "        text-align: right;\n",
       "    }\n",
       "</style>\n",
       "<table border=\"1\" class=\"dataframe\">\n",
       "  <thead>\n",
       "    <tr style=\"text-align: right;\">\n",
       "      <th></th>\n",
       "      <th>user_id</th>\n",
       "      <th>date_month</th>\n",
       "      <th>subscription_type</th>\n",
       "      <th>duration</th>\n",
       "      <th>distance</th>\n",
       "      <th>date</th>\n",
       "      <th>minute_price</th>\n",
       "      <th>start_ride_price</th>\n",
       "      <th>subscription_fee</th>\n",
       "    </tr>\n",
       "  </thead>\n",
       "  <tbody>\n",
       "    <tr>\n",
       "      <th>0</th>\n",
       "      <td>1</td>\n",
       "      <td>1</td>\n",
       "      <td>ultra</td>\n",
       "      <td>42.0</td>\n",
       "      <td>7027.51</td>\n",
       "      <td>2</td>\n",
       "      <td>6</td>\n",
       "      <td>0</td>\n",
       "      <td>199</td>\n",
       "    </tr>\n",
       "    <tr>\n",
       "      <th>1</th>\n",
       "      <td>1</td>\n",
       "      <td>4</td>\n",
       "      <td>ultra</td>\n",
       "      <td>7.0</td>\n",
       "      <td>754.16</td>\n",
       "      <td>1</td>\n",
       "      <td>6</td>\n",
       "      <td>0</td>\n",
       "      <td>199</td>\n",
       "    </tr>\n",
       "    <tr>\n",
       "      <th>2</th>\n",
       "      <td>1</td>\n",
       "      <td>8</td>\n",
       "      <td>ultra</td>\n",
       "      <td>46.0</td>\n",
       "      <td>6723.47</td>\n",
       "      <td>2</td>\n",
       "      <td>6</td>\n",
       "      <td>0</td>\n",
       "      <td>199</td>\n",
       "    </tr>\n",
       "    <tr>\n",
       "      <th>3</th>\n",
       "      <td>1</td>\n",
       "      <td>10</td>\n",
       "      <td>ultra</td>\n",
       "      <td>32.0</td>\n",
       "      <td>5809.91</td>\n",
       "      <td>2</td>\n",
       "      <td>6</td>\n",
       "      <td>0</td>\n",
       "      <td>199</td>\n",
       "    </tr>\n",
       "    <tr>\n",
       "      <th>4</th>\n",
       "      <td>1</td>\n",
       "      <td>11</td>\n",
       "      <td>ultra</td>\n",
       "      <td>56.0</td>\n",
       "      <td>7003.50</td>\n",
       "      <td>3</td>\n",
       "      <td>6</td>\n",
       "      <td>0</td>\n",
       "      <td>199</td>\n",
       "    </tr>\n",
       "  </tbody>\n",
       "</table>\n",
       "</div>"
      ],
      "text/plain": [
       "   user_id  date_month subscription_type  duration  distance  date  \\\n",
       "0        1           1             ultra      42.0   7027.51     2   \n",
       "1        1           4             ultra       7.0    754.16     1   \n",
       "2        1           8             ultra      46.0   6723.47     2   \n",
       "3        1          10             ultra      32.0   5809.91     2   \n",
       "4        1          11             ultra      56.0   7003.50     3   \n",
       "\n",
       "   minute_price  start_ride_price  subscription_fee  \n",
       "0             6                 0               199  \n",
       "1             6                 0               199  \n",
       "2             6                 0               199  \n",
       "3             6                 0               199  \n",
       "4             6                 0               199  "
      ]
     },
     "metadata": {},
     "output_type": "display_data"
    }
   ],
   "source": [
    "# код ревьюера\n",
    "\n",
    "agg_tbl = data_full.groupby(['user_id', 'date_month']).agg({'subscription_type' : 'first'\n",
    "                                        , 'duration' : 'sum'\n",
    "                                        , 'distance' : 'sum'\n",
    "                                        , 'date' : 'count'\n",
    "                                       }\n",
    "                                      ).reset_index() # формируем сводную таблицу\n",
    "\n",
    "rev_table = agg_tbl.merge(data_sub, on='subscription_type') # добавляем данные о тарифах\n",
    "\n",
    "\n",
    "display(rev_table.head())"
   ]
  },
  {
   "cell_type": "markdown",
   "id": "218f15f0",
   "metadata": {},
   "source": [
    "Подсчитаем ежемесячную выручку для каждого пользователя. Для этого доабвим необходимую информацию о тарифном плане пользователя в сводную таблицу:"
   ]
  },
  {
   "cell_type": "code",
   "execution_count": 27,
   "id": "56826a1c",
   "metadata": {
    "scrolled": true
   },
   "outputs": [
    {
     "data": {
      "text/html": [
       "<div>\n",
       "<style scoped>\n",
       "    .dataframe tbody tr th:only-of-type {\n",
       "        vertical-align: middle;\n",
       "    }\n",
       "\n",
       "    .dataframe tbody tr th {\n",
       "        vertical-align: top;\n",
       "    }\n",
       "\n",
       "    .dataframe thead th {\n",
       "        text-align: right;\n",
       "    }\n",
       "</style>\n",
       "<table border=\"1\" class=\"dataframe\">\n",
       "  <thead>\n",
       "    <tr style=\"text-align: right;\">\n",
       "      <th></th>\n",
       "      <th>user_id</th>\n",
       "      <th>date_month</th>\n",
       "      <th>distance_total</th>\n",
       "      <th>duration_total</th>\n",
       "      <th>count</th>\n",
       "      <th>minute_price</th>\n",
       "      <th>start_ride_price</th>\n",
       "      <th>subscription_fee</th>\n",
       "      <th>subscription_type</th>\n",
       "    </tr>\n",
       "  </thead>\n",
       "  <tbody>\n",
       "    <tr>\n",
       "      <th>0</th>\n",
       "      <td>1</td>\n",
       "      <td>1</td>\n",
       "      <td>7027.51</td>\n",
       "      <td>42.0</td>\n",
       "      <td>2</td>\n",
       "      <td>6</td>\n",
       "      <td>0</td>\n",
       "      <td>199</td>\n",
       "      <td>ultra</td>\n",
       "    </tr>\n",
       "    <tr>\n",
       "      <th>1</th>\n",
       "      <td>1</td>\n",
       "      <td>4</td>\n",
       "      <td>754.16</td>\n",
       "      <td>7.0</td>\n",
       "      <td>1</td>\n",
       "      <td>6</td>\n",
       "      <td>0</td>\n",
       "      <td>199</td>\n",
       "      <td>ultra</td>\n",
       "    </tr>\n",
       "    <tr>\n",
       "      <th>2</th>\n",
       "      <td>1</td>\n",
       "      <td>8</td>\n",
       "      <td>6723.47</td>\n",
       "      <td>46.0</td>\n",
       "      <td>2</td>\n",
       "      <td>6</td>\n",
       "      <td>0</td>\n",
       "      <td>199</td>\n",
       "      <td>ultra</td>\n",
       "    </tr>\n",
       "    <tr>\n",
       "      <th>3</th>\n",
       "      <td>1</td>\n",
       "      <td>10</td>\n",
       "      <td>5809.91</td>\n",
       "      <td>32.0</td>\n",
       "      <td>2</td>\n",
       "      <td>6</td>\n",
       "      <td>0</td>\n",
       "      <td>199</td>\n",
       "      <td>ultra</td>\n",
       "    </tr>\n",
       "    <tr>\n",
       "      <th>4</th>\n",
       "      <td>1</td>\n",
       "      <td>11</td>\n",
       "      <td>7003.50</td>\n",
       "      <td>56.0</td>\n",
       "      <td>3</td>\n",
       "      <td>6</td>\n",
       "      <td>0</td>\n",
       "      <td>199</td>\n",
       "      <td>ultra</td>\n",
       "    </tr>\n",
       "  </tbody>\n",
       "</table>\n",
       "</div>"
      ],
      "text/plain": [
       "   user_id  date_month  distance_total  duration_total  count  minute_price  \\\n",
       "0        1           1         7027.51            42.0      2             6   \n",
       "1        1           4          754.16             7.0      1             6   \n",
       "2        1           8         6723.47            46.0      2             6   \n",
       "3        1          10         5809.91            32.0      2             6   \n",
       "4        1          11         7003.50            56.0      3             6   \n",
       "\n",
       "   start_ride_price  subscription_fee subscription_type  \n",
       "0                 0               199             ultra  \n",
       "1                 0               199             ultra  \n",
       "2                 0               199             ultra  \n",
       "3                 0               199             ultra  \n",
       "4                 0               199             ultra  "
      ]
     },
     "execution_count": 27,
     "metadata": {},
     "output_type": "execute_result"
    }
   ],
   "source": [
    "# Создадим датафрейм с тарифным планом\n",
    "data_tariff = data_full.pivot_table(\n",
    "    index=['user_id', 'date_month'],\n",
    "    values=['minute_price', 'start_ride_price', 'subscription_fee', 'subscription_type'],\n",
    "    aggfunc='first'\n",
    ").reset_index()[['minute_price', 'start_ride_price', 'subscription_fee', 'subscription_type']]\n",
    "\n",
    "# Объединим сводные таблицы\n",
    "data_agg_full = data_agg_full.join(data_tariff)\n",
    "data_agg_full.head()"
   ]
  },
  {
   "cell_type": "markdown",
   "id": "b5932fc2",
   "metadata": {},
   "source": [
    "Теперь можем посчитать ежемесячную выручку каждого юзера. Она складывается из цены за время аренды, цены за начало поездки и цены подписки:"
   ]
  },
  {
   "cell_type": "code",
   "execution_count": 28,
   "id": "69d5398d",
   "metadata": {},
   "outputs": [
    {
     "data": {
      "text/html": [
       "<div>\n",
       "<style scoped>\n",
       "    .dataframe tbody tr th:only-of-type {\n",
       "        vertical-align: middle;\n",
       "    }\n",
       "\n",
       "    .dataframe tbody tr th {\n",
       "        vertical-align: top;\n",
       "    }\n",
       "\n",
       "    .dataframe thead th {\n",
       "        text-align: right;\n",
       "    }\n",
       "</style>\n",
       "<table border=\"1\" class=\"dataframe\">\n",
       "  <thead>\n",
       "    <tr style=\"text-align: right;\">\n",
       "      <th></th>\n",
       "      <th>user_id</th>\n",
       "      <th>date_month</th>\n",
       "      <th>distance_total</th>\n",
       "      <th>duration_total</th>\n",
       "      <th>count</th>\n",
       "      <th>minute_price</th>\n",
       "      <th>start_ride_price</th>\n",
       "      <th>subscription_fee</th>\n",
       "      <th>subscription_type</th>\n",
       "      <th>gain_month</th>\n",
       "    </tr>\n",
       "  </thead>\n",
       "  <tbody>\n",
       "    <tr>\n",
       "      <th>0</th>\n",
       "      <td>1</td>\n",
       "      <td>1</td>\n",
       "      <td>7027.51</td>\n",
       "      <td>42.0</td>\n",
       "      <td>2</td>\n",
       "      <td>6</td>\n",
       "      <td>0</td>\n",
       "      <td>199</td>\n",
       "      <td>ultra</td>\n",
       "      <td>451.0</td>\n",
       "    </tr>\n",
       "    <tr>\n",
       "      <th>1</th>\n",
       "      <td>1</td>\n",
       "      <td>4</td>\n",
       "      <td>754.16</td>\n",
       "      <td>7.0</td>\n",
       "      <td>1</td>\n",
       "      <td>6</td>\n",
       "      <td>0</td>\n",
       "      <td>199</td>\n",
       "      <td>ultra</td>\n",
       "      <td>241.0</td>\n",
       "    </tr>\n",
       "    <tr>\n",
       "      <th>2</th>\n",
       "      <td>1</td>\n",
       "      <td>8</td>\n",
       "      <td>6723.47</td>\n",
       "      <td>46.0</td>\n",
       "      <td>2</td>\n",
       "      <td>6</td>\n",
       "      <td>0</td>\n",
       "      <td>199</td>\n",
       "      <td>ultra</td>\n",
       "      <td>475.0</td>\n",
       "    </tr>\n",
       "    <tr>\n",
       "      <th>3</th>\n",
       "      <td>1</td>\n",
       "      <td>10</td>\n",
       "      <td>5809.91</td>\n",
       "      <td>32.0</td>\n",
       "      <td>2</td>\n",
       "      <td>6</td>\n",
       "      <td>0</td>\n",
       "      <td>199</td>\n",
       "      <td>ultra</td>\n",
       "      <td>391.0</td>\n",
       "    </tr>\n",
       "    <tr>\n",
       "      <th>4</th>\n",
       "      <td>1</td>\n",
       "      <td>11</td>\n",
       "      <td>7003.50</td>\n",
       "      <td>56.0</td>\n",
       "      <td>3</td>\n",
       "      <td>6</td>\n",
       "      <td>0</td>\n",
       "      <td>199</td>\n",
       "      <td>ultra</td>\n",
       "      <td>535.0</td>\n",
       "    </tr>\n",
       "  </tbody>\n",
       "</table>\n",
       "</div>"
      ],
      "text/plain": [
       "   user_id  date_month  distance_total  duration_total  count  minute_price  \\\n",
       "0        1           1         7027.51            42.0      2             6   \n",
       "1        1           4          754.16             7.0      1             6   \n",
       "2        1           8         6723.47            46.0      2             6   \n",
       "3        1          10         5809.91            32.0      2             6   \n",
       "4        1          11         7003.50            56.0      3             6   \n",
       "\n",
       "   start_ride_price  subscription_fee subscription_type  gain_month  \n",
       "0                 0               199             ultra       451.0  \n",
       "1                 0               199             ultra       241.0  \n",
       "2                 0               199             ultra       475.0  \n",
       "3                 0               199             ultra       391.0  \n",
       "4                 0               199             ultra       535.0  "
      ]
     },
     "execution_count": 28,
     "metadata": {},
     "output_type": "execute_result"
    }
   ],
   "source": [
    "data_agg_full['gain_month'] = (\n",
    "    data_agg_full['count'] * data_agg_full['start_ride_price'] +  \n",
    "    data_agg_full['duration_total'] * data_agg_full['minute_price'] + \n",
    "    data_agg_full['subscription_fee']\n",
    ")\n",
    "data_agg_full.head()"
   ]
  },
  {
   "cell_type": "markdown",
   "id": "e4df13e7",
   "metadata": {},
   "source": [
    "<a id='hypotheses'></a>\n",
    "## Проверка гипотез"
   ]
  },
  {
   "cell_type": "markdown",
   "id": "7cdf6a24",
   "metadata": {},
   "source": [
    "<a id='hypothesis_duration'></a>\n",
    "### Гипотеза о времени поездки"
   ]
  },
  {
   "cell_type": "markdown",
   "id": "545fa3b7",
   "metadata": {},
   "source": [
    "Необходимо понять, как влияет подписка на время пользования самоката. Для этого сформулируем нулевую $(H_0)$ и альтернативную $(H_0)$ гипотезы:\n",
    "\n",
    "$H_0:$ средние выборочные времена поездок двух выборок равны друг-другу;  \n",
    "$H_1:$ среднее выборочное время поездки среди пользователей с подпиской больше среднего выборочного времени пользователей без подписки.\n",
    "\n",
    "Зададимся уровнем статистической значимости $\\alpha=0.025$, и найдем *p-value*:"
   ]
  },
  {
   "cell_type": "code",
   "execution_count": 29,
   "id": "5e938279",
   "metadata": {},
   "outputs": [
    {
     "name": "stdout",
     "output_type": "stream",
     "text": [
      "Значение p-value: 5.6460360110885e-37\n",
      "Отвергаем нулевую гипотезу в пользу альтернативной\n"
     ]
    }
   ],
   "source": [
    "# Зададим уровень статистической значимости\n",
    "\n",
    "alpha_time = 0.025 # Вдвое меньше типичного значения 0.05, ввиду того, что гипотеза односторонняя\n",
    "\n",
    "# Найдем p-value. equal_var=False, т.к. выборки слишком отличаются по размеру,\n",
    "# не можем с уверенностью говорить о равенстве дисперсий\n",
    "\n",
    "results_time_greater = st.ttest_ind(data_ultra['duration'],\n",
    "                                    data_free['duration'],\n",
    "                                    equal_var=False,\n",
    "                                    alternative='greater')\n",
    "\n",
    "print('Значение p-value:', results_time_greater.pvalue)\n",
    "\n",
    "# Проверка гипотезы\n",
    "\n",
    "if results_time_greater.pvalue < alpha_time:\n",
    "    print('Отвергаем нулевую гипотезу в пользу альтернативной')\n",
    "    \n",
    "else:\n",
    "    print('Не отвергаем нулевую гипотезу')"
   ]
  },
  {
   "cell_type": "markdown",
   "id": "9b8b061f",
   "metadata": {},
   "source": [
    "Значение p-value очень мало, поэтому могли взять и более низки уровень статистической значимости - нулевая гипотеза была бы отвергнута все равно. Можем сказать, что пользователи с подпиской вероятнее всего совершают более долгие поездки."
   ]
  },
  {
   "cell_type": "markdown",
   "id": "830267d1",
   "metadata": {},
   "source": [
    "<a id='hypothesis_distance'></a>\n",
    "### Гипотеза о расстоянии поездки"
   ]
  },
  {
   "cell_type": "markdown",
   "id": "72a422bb",
   "metadata": {},
   "source": [
    "По предоставленным заказчиком данным, расстояние одной поездки в 3130 метров - оптимальное с точки зрения износа самоката. Необходимо проверить одностороннюю гипотезу, проезжают ли пользователи в среднем меньше данного значения. Произведем проверку среди пользователей с подпиской и без нее. Нулевая гипотеза для обеих выборок будет одинаковая:\n",
    "\n",
    "$H_0:$ среднее расстояние поездок пользователей равно 3130 метрам;\n",
    "$H_1:$ среднее расстояние поездок пользователей с подпиской больше 3130 метров.\n",
    "\n",
    "Зададимся уровнем статистической значимости $\\alpha=0.025$, и найдем *p-value* для пользователей с палтной подпиской:"
   ]
  },
  {
   "cell_type": "code",
   "execution_count": 30,
   "id": "4078e2bc",
   "metadata": {},
   "outputs": [
    {
     "name": "stdout",
     "output_type": "stream",
     "text": [
      "Значение p-value для пользователей с подпиской: 0.9195362605842414\n",
      "Для пользователей с подпиской не отвергаем нулевую гипотезу\n",
      "\n",
      "Значение p-value для пользователей с подпиской: 1.6095168660822524e-13\n",
      "Для пользователей без подписки отвергаем нулевую гипотезу в пользу альтернативной\n"
     ]
    }
   ],
   "source": [
    "# Зададим уровень статистической значимости\n",
    "\n",
    "alpha_distance = 0.025 # Вдвое меньше типичного значения 0.05, ввиду того, что гипотеза односторонняя\n",
    "\n",
    "# Зададим предполагаемое в H0 среднее значение\n",
    "\n",
    "optimal_distance = 3130\n",
    "\n",
    "# Найдем p-value для пользователей с платной подпиской\n",
    "\n",
    "results_distance_greater_ultra = st.ttest_1samp(data_ultra['distance'],\n",
    "                                                optimal_distance,\n",
    "                                                alternative='greater')\n",
    "\n",
    "print('Значение p-value для пользователей с подпиской:', results_distance_greater_ultra.pvalue)\n",
    "\n",
    "print('Для пользователей с подпиской ', end='')\n",
    "\n",
    "# Проверка гипотезы для пользователей с платной подпиской\n",
    "\n",
    "if results_distance_greater_ultra.pvalue < alpha_distance:\n",
    "    print('отвергаем нулевую гипотезу в пользу альтернативной')\n",
    "    print()\n",
    "    \n",
    "else:\n",
    "    print('не отвергаем нулевую гипотезу')\n",
    "    print()\n",
    "    \n",
    "# Найдем p-value для пользователей без подписки\n",
    "\n",
    "results_distance_less_free = st.ttest_1samp(data_free['distance'],\n",
    "                                            optimal_distance,\n",
    "                                            alternative='less')\n",
    "\n",
    "print('Значение p-value для пользователей с подпиской:', results_distance_less_free.pvalue)\n",
    "\n",
    "print('Для пользователей без подписки ', end='')\n",
    "\n",
    "# Проверка гипотезы для пользователей без подписки\n",
    "\n",
    "if results_distance_less_free.pvalue < alpha_distance:\n",
    "    print('отвергаем нулевую гипотезу в пользу альтернативной')\n",
    "    \n",
    "else:\n",
    "    print('не отвергаем нулевую гипотезу')"
   ]
  },
  {
   "cell_type": "markdown",
   "id": "2f98528d",
   "metadata": {},
   "source": [
    "Можем сказать, что пользователи с подпиской в среднем проезжают не более 3130 метров. Реализуем еще один тест - проверим две гипотезы с тем же значением уровня статистической значимости:\n",
    "\n",
    "$H_0:$ среднее расстояние поездок пользователей с подпиской и без нее - одинаковое.  \n",
    "$H_1:$ среднее расстояние поездок пользователей без подписки меньше среднего расстояния поездок пользователей с подпиской.  "
   ]
  },
  {
   "cell_type": "code",
   "execution_count": 31,
   "id": "67674dbb",
   "metadata": {},
   "outputs": [
    {
     "name": "stdout",
     "output_type": "stream",
     "text": [
      "Значение p-value для пользователей с подпиской: 3.4748798377390786e-06\n",
      "Отвергаем нулевую гипотезу в пользу альтернативной\n"
     ]
    }
   ],
   "source": [
    "# Произведем односторонний Т-тест для двух независимых выборок\n",
    "\n",
    "results_sub_free_distance = st.ttest_ind(data_free['distance'],\n",
    "                                         data_ultra['distance'],\n",
    "                                         equal_var=False,\n",
    "                                         alternative='less')\n",
    "\n",
    "print('Значение p-value для пользователей с подпиской:', results_sub_free_distance.pvalue)\n",
    "\n",
    "if results_sub_free_distance.pvalue < alpha_distance:\n",
    "    print('Отвергаем нулевую гипотезу в пользу альтернативной')\n",
    "    \n",
    "else:\n",
    "    print('Не отвергаем нулевую гипотезу')"
   ]
  },
  {
   "cell_type": "markdown",
   "id": "5f7d3429",
   "metadata": {},
   "source": [
    "Получается пользователи без подписки, с точки зрения износа самоката, более предпочтительны, т.к. они проезжают в среднем меньшее расстояние чем пользователи с подпиской."
   ]
  },
  {
   "cell_type": "markdown",
   "id": "0b235f2c",
   "metadata": {},
   "source": [
    "<a id='hypothesis_gain'></a>\n",
    "### Гипотеза о выручке"
   ]
  },
  {
   "cell_type": "markdown",
   "id": "6cec427f",
   "metadata": {},
   "source": [
    "Проверим, приносят ли пользователи с подпиской большую прибыль. Сформулируем нулевую и альтернативную правостороннюю гипотезы:\n",
    "\n",
    "$H_0:$ средняя месячная прибыль с обеих групп пользователей одинаковая;  \n",
    "$H_1:$ средняя месячная прибыль от пользователей с подпиской больше.\n",
    "\n",
    "Зададимся уровнем статистической значимости $\\alpha=0.025$, и найдем *p-value*, также изобразим две гистограммы по выручке:"
   ]
  },
  {
   "cell_type": "code",
   "execution_count": 32,
   "id": "7b893757",
   "metadata": {},
   "outputs": [
    {
     "name": "stdout",
     "output_type": "stream",
     "text": [
      "Значение p-value: 8.473077792319447e-40\n",
      "Отвергаем нулевую гипотезу в пользу альтернативной\n"
     ]
    },
    {
     "data": {
      "image/png": "[encoded data removed]",
      "text/plain": [
       "<Figure size 576x288 with 1 Axes>"
      ]
     },
     "metadata": {
      "needs_background": "light"
     },
     "output_type": "display_data"
    }
   ],
   "source": [
    "# Зададим уровень статистической значимости\n",
    "alpha_gain = 0.025 # Вдвое меньше типичного значения 0.05, ввиду того, что гипотеза односторонняя\n",
    "\n",
    "# Найдем p-value. equal_var=False, т.к. выборки слишком отличаются по размеру,\n",
    "# не можем с уверенностью говорить о равенстве дисперсий\n",
    "results_gain_greater = st.ttest_ind(\n",
    "    data_agg_full.query('subscription_type == \"ultra\"')['gain_month'], # выборка по пользователям с подпиской\n",
    "    data_agg_full.query('subscription_type == \"free\"')['gain_month'], # выборка по пользователям без подписки\n",
    "    equal_var=False,\n",
    "    alternative='greater'\n",
    ")\n",
    "print('Значение p-value:', results_gain_greater.pvalue)\n",
    "\n",
    "# Проверка гипотезы\n",
    "if results_gain_greater.pvalue < alpha_gain:\n",
    "    print('Отвергаем нулевую гипотезу в пользу альтернативной')\n",
    "    \n",
    "else:\n",
    "    print('Не отвергаем нулевую гипотезу')\n",
    "    \n",
    "# Вызовем функцию построения гистограмм\n",
    "double_sub_hist(\n",
    "    data_agg_full.query('subscription_type == \"free\"'),\n",
    "    data_agg_full.query('subscription_type == \"ultra\"'),\n",
    "    'gain_month',\n",
    "    60,\n",
    "    'Месячная выручка',\n",
    "    '(руб)'\n",
    ")    "
   ]
  },
  {
   "cell_type": "markdown",
   "id": "6cccff4f",
   "metadata": {},
   "source": [
    "Пользователи с подпиской явно приносят больше денег, чем те, у кого подписки нет. Очевидно, что необходимо привлекать пользователей к приобретению подписки."
   ]
  },
  {
   "cell_type": "markdown",
   "id": "7c1a46f7",
   "metadata": {},
   "source": [
    "<a id='hypothesis_servers'></a>\n",
    "### Гипотеза с обновлением серверов"
   ]
  },
  {
   "cell_type": "markdown",
   "id": "0a91092f",
   "metadata": {},
   "source": [
    "Техническая команда сервиса **GoFast** обновила сервера, надеясь уменьшить число обращений пользователей в техническую поддержку. В некотором файле находится информация о количестве обращений каждого пользователя до и после обновления серверов. Заказчик просит расписать план проверки данной гипотезы.\n",
    "\n",
    "Для начала можно посмотреть, как численно изменилось общее число обращений в техническую поддержку за выделенный период, также для наглядности можно изобразить гистограмму по количеству обращений до и после обновления. Сформулируем гипотезы:\n",
    "$H_0:$ Среднее число обращений обеих выборок одинаково;\n",
    "$H_1:$ Среднее число обращений после обновления серверов меньше, чем среднее число обращений до обновления.\n",
    "\n",
    "В данной ситуации очевидно, что выборки зависимы, так как обращения исходят от одних и тех же пользователей. В таком случае следует проводить проверку гипотезы о равенстве средних выборочных двух зависимых выборок с помощью метода `ttest_rel` библиотеки `scipy`, передавая ему в качестве аргумента:\n",
    "* `data_1` - выборка после обновления серверов;\n",
    "* `data_2` - выборка до обновления серверов;\n",
    "* `alternative='less'` - альтернативная гипотеза левосторонняя.\n",
    "\n",
    "Важно, чтобы выборки были одинаковыми по размеру. С помощью данного метода находим p-value, т.е. вероятность получить текущее или более нетипичное значение среднего, сравниваем его с заранее выбранным уровнем статистической значимости. \n",
    "```python\n",
    "# Импорт библиотеки\n",
    "from scipy import stats as st\n",
    "\n",
    "# Зададимся уровнем статистической значимости\n",
    "alpha = 0.025\n",
    "\n",
    "# Использование метода ttest_rel\n",
    "results = st.ttest_rel(data_1, data_2, alternative='less')\n",
    "\n",
    "# Проверяем гипотезу\n",
    "if results.pvalue < alpha:\n",
    "    print('Отвергаем нулевую гипотезу')\n",
    "else:\n",
    "    print('Не отвергаем нулевую гипотезу')\n",
    "```"
   ]
  },
  {
   "cell_type": "markdown",
   "id": "bead80eb",
   "metadata": {},
   "source": [
    "<a id='distribution'></a>\n",
    "## Распределения"
   ]
  },
  {
   "cell_type": "markdown",
   "id": "9e1c124b",
   "metadata": {},
   "source": [
    "<a id='sub_sale'></a>\n",
    "### Распределение акционных подписок"
   ]
  },
  {
   "cell_type": "markdown",
   "id": "5496795e",
   "metadata": {},
   "source": [
    "Отдел маркетинга собирается провести акцию с раздачей промокодов на один бесплатный месяц подписки, в рамках которой как минимум 100 человек должны продлить эту подписку. Акция проводилась ранее, по ее результатам было выявлено, что продлевает подписку примерно 10% пользователей. Необходимо найти такое количество участников акции, чтобы с вероятностью $\\alpha=95$% план был выполнен.\n",
    "\n",
    "Акция представляет из себя биномиальный эксперимент, где в результате каждого испытания получаем один из двух возможных результатов: пользователь продлил подписку/пользователь не стал продлевать подписку. Имеем биномиальное распределение вероятностей продления подписки, с вероятностью успеха $p=0.1$, неизвестным числом испытаний.\n",
    "\n",
    "Можем пойти двумя путями:\n",
    "* найти число участников с помощью квантиля уровня 1 - $\\alpha$ (методом `.ppf()`), так как вероятность $\\alpha$ это вероятность получить значение 100 человек или больше, а для квантиля нужно значение вероятности получить 99 человек или меньше;\n",
    "* найти вероятность с помощью функции распределения вероятности (методом `.cdf()`), однако данная функция возвращает вероятность получения выведенного числа или меньше его. Необходимо вычесть эту вероятность из единицы, чтобы получить обратное.\n",
    "\n",
    "В последствии можем изобразить столбчатую диаграмму для получившегося распределения."
   ]
  },
  {
   "cell_type": "code",
   "execution_count": 33,
   "id": "260b6ee7",
   "metadata": {},
   "outputs": [
    {
     "name": "stdout",
     "output_type": "stream",
     "text": [
      "Вероятность получить минимум 100 новых подписчиков: 0.9492556344605638\n",
      "Необходимое число участников акции: 1160\n"
     ]
    },
    {
     "name": "stderr",
     "output_type": "stream",
     "text": [
      "/opt/conda/lib/python3.9/site-packages/scipy/stats/_discrete_distns.py:78: RuntimeWarning: divide by zero encountered in _binom_pdf\n",
      "  return _boost._binom_pdf(x, n, p)\n"
     ]
    },
    {
     "data": {
      "image/png": "[encoded data removed]",
      "text/plain": [
       "<Figure size 1080x360 with 1 Axes>"
      ]
     },
     "metadata": {
      "needs_background": "light"
     },
     "output_type": "display_data"
    }
   ],
   "source": [
    "# Запишем вероятность и подберем число участников\n",
    "p_sub = 0.1\n",
    "n_sub = 1160\n",
    "\n",
    "# Зададим целевое значение продлений\n",
    "sub_purpose = 100\n",
    "\n",
    "# Найдем матожидание и стандартное отклонение\n",
    "mu_sub = n_sub * p_sub\n",
    "sigma_sub = sqrt(n_sub * p_sub * (1 - p_sub))\n",
    "\n",
    "# Создадим биномиальное распределение на основе вероятности успеха и числа испытаний\n",
    "distr = st.binom(n_sub, p_sub)\n",
    "\n",
    "# Определим число участников\n",
    "print('Вероятность получить минимум 100 новых подписчиков:', 1 - distr.cdf(99))\n",
    "print('Необходимое число участников акции:', n_sub)\n",
    "\n",
    "# Построим столбчатую диаграмму\n",
    "# Для построения необходимо создать список со значениями функции плотности распредления\n",
    "distr_bar = []\n",
    "\n",
    "for k in range(0, n_sub + 1):\n",
    "    current_value = st.binom.pmf(k, n_sub, p_sub)\n",
    "    distr_bar.append(current_value)\n",
    "    \n",
    "plt.figure(figsize=(15, 5))\n",
    "plt.bar(range(0, n_sub + 1), distr_bar, color='cornflowerblue', alpha=0.6, label='Плотность распределения')\n",
    "plt.xlabel('Количество подписок')\n",
    "plt.ylabel('')\n",
    "plt.xlim(mu_sub - 3 * sigma_sub, mu_sub + 3 * sigma_sub)\n",
    "plt.title('Вероятность получения подписок')\n",
    "plt.grid(True)\n",
    "plt.axvline(sub_purpose, color='r', label='Цель 100 продлений')\n",
    "plt.legend()\n",
    "plt.show()\n"
   ]
  },
  {
   "cell_type": "markdown",
   "id": "dd6fddba",
   "metadata": {},
   "source": [
    "Получено необходимое количество участников акции - 1160 человек."
   ]
  },
  {
   "cell_type": "markdown",
   "id": "debc764c",
   "metadata": {},
   "source": [
    "<a id='push'></a>\n",
    "### Распределение для push-уведомлений"
   ]
  },
  {
   "cell_type": "markdown",
   "id": "229024ab",
   "metadata": {},
   "source": [
    "Отдел ммаркетинга рассылает клиентам push-уведомления. Известно, что уведомления открывает примерно 40% пользователей. Планируется разослать 1 млн уведомлений. Требуется оценить вероятность, что уведомления откроют не более 399.5 тыс. раз.\n",
    "\n",
    "Аналогично [предыдущему случаю](#sub_sale), тут также представлено биномиальное распределение - юзер откроет уведомление или не откроет с известной вероятностью. Работать с таким объемом данных нецелесообразно, необходима аппроксимация биномиального распределения. Воспользуемся правилом трех сигм и проверим, можно ли аппроксимировать исходное распределение нормальным:"
   ]
  },
  {
   "cell_type": "code",
   "execution_count": 35,
   "id": "e7de04f1",
   "metadata": {},
   "outputs": [
    {
     "name": "stdout",
     "output_type": "stream",
     "text": [
      "Можем аппроксимировать нормальным законом\n"
     ]
    }
   ],
   "source": [
    "# Запишем количество испытаний и вероятность успеха\n",
    "n_push = 1e6\n",
    "p_push = 0.4\n",
    "\n",
    "# Запишем целевое значение открытий уведомлений\n",
    "open_purpose = 399.5e3\n",
    "\n",
    "# Найдем среднее и стандартное отклонение\n",
    "mu_push = n_push * p_push\n",
    "sigma_push = sqrt(n_push * p_push * (1 - p_push))\n",
    "\n",
    "if mu_push - 3 * sigma_push < 0 or mu_push + 3 * sigma_push > n_push:\n",
    "    print('Аппроксимация невозможна')\n",
    "else:\n",
    "    print('Можем аппроксимировать нормальным законом')"
   ]
  },
  {
   "cell_type": "markdown",
   "id": "0477919d",
   "metadata": {},
   "source": [
    "Отлично, создадим аппроксимированное распределение и изобразим график:"
   ]
  },
  {
   "cell_type": "code",
   "execution_count": 36,
   "id": "31fcf770",
   "metadata": {},
   "outputs": [
    {
     "data": {
      "image/png": "[encoded data removed]",
      "text/plain": [
       "<Figure size 1080x360 with 1 Axes>"
      ]
     },
     "metadata": {
      "needs_background": "light"
     },
     "output_type": "display_data"
    },
    {
     "name": "stdout",
     "output_type": "stream",
     "text": [
      "Вероятность того, что push-уведомления откроют не более 399.5 тыс. раз: 0.15371708296369768\n"
     ]
    }
   ],
   "source": [
    "def linspace(start, end, num):\n",
    "    step = (end - start) / (num - 1)\n",
    "    res = []\n",
    "    for i in range(num):\n",
    "        res.append(start + step * i)\n",
    "    return res\n",
    "\n",
    "# Создадим границы отображения графика\n",
    "left = int(mu_push - 4 * sigma_push)\n",
    "right = int(mu_push + 4 * sigma_push)\n",
    "\n",
    "# Создадим список значений количества открытых уведомлений\n",
    "x = linspace(left, right, 200)\n",
    "\n",
    "# Построим график\n",
    "plt.figure(figsize=(15,5))\n",
    "plt.plot(x, st.norm.pdf(x, mu_push, sigma_push), 'b-', lw=3, label='Плотность вероятности')\n",
    "plt.title('Плотность вероятности нормального распределения')\n",
    "plt.grid(True)\n",
    "plt.fill_between(x, st.norm.pdf(x, mu_push, sigma_push), color='cornflowerblue', alpha=0.2)\n",
    "plt.axvline(open_purpose, color='r', label='Цель 399.5 тыс. открытий')\n",
    "plt.legend()\n",
    "plt.show()\n",
    "\n",
    "# Оценим вероятность получить не меньше 399.5 тысяч открытий уведомлений\n",
    "distr_push = st.norm(mu_push, sigma_push)\n",
    "\n",
    "print(\n",
    "    'Вероятность того, что push-уведомления откроют не более 399.5 тыс. раз:', \n",
    "      distr_push.cdf(open_purpose)\n",
    ")"
   ]
  },
  {
   "cell_type": "markdown",
   "id": "2dcb5c9e",
   "metadata": {},
   "source": [
    "С вероятностью 15% push-уведомление откроют не более 399.5 тысяч раз."
   ]
  },
  {
   "cell_type": "markdown",
   "id": "eb1571ef",
   "metadata": {},
   "source": [
    "<a id='calculations'></a>\n",
    "## Выводы"
   ]
  },
  {
   "cell_type": "markdown",
   "id": "81eec169",
   "metadata": {},
   "source": [
    "Было проведено исследование аренды самокатов по данным сервиса **GoFast**. \n",
    "\n",
    "Мы изучили общую информацию о полученных данных, в которых находилась информация о пользователях, их поездках и тарифных планах двух подписок - бесплатной и подписки *ultra*. Произвели предобработку данных:\n",
    "* были выявлены и удалены дубликаты id пользователей в столбце `user_id`\n",
    "* тип данных в столбце `date` изменен с `object` на корректный `datetime64`\n",
    "\n",
    "После предобработки были рассмотрены и визуализированы некоторые данные. Посмотрели частоту встречаемости городов, соотношение пользователей с подпиской и без нее. Изучили возраст имеющихся пользователей, расстояние и продолжительность их поездок. Выявили наиболее популярные значения. Также обнаружили аномальные поездки с неправдоподобным временем в пути и описали возможные причины их появления. \n",
    "\n",
    "Произвели объединение данных в одну таблицу, ввиду того, что данные были представлены в трех разных CSV файлах. После чего было удобно посмотреть полную информацию и разделить поездки по пользователям с подпиской и без нее. Изобразили совместные гистограммы для обеих групп пользователей по времени поездок, их дальности и средней скорости во время поездки.\n",
    "\n",
    "На следующем этапе была посчитана ежемесячная выручка от каждого пользователя по агрегированным данным из объединенного датафрейма. \n",
    "\n",
    "Ввиду желания продакт-менеджеров повысить число платных подписчиков, провели статистические тесты для проверки влияния подписки на некоторые факторы:\n",
    "1. Было необходимо понять, тратят ли пользователи с платной подпиской больше времени на аренду самоката.\n",
    "2. Проезжают ли пользователи из каждой группы в среднем за одну поездку не более 3130 метров, что является оптимальным значением с точки зрения ресурса самоката (данные предосталвены заказчиком).\n",
    "3. Будет ли помесячная выручка с пользователей с платной подпиской больше, чем без нее;\n",
    "\n",
    "По каждому из вопросов были сформулированы статистические гипотезы и проведены тесты, результатами которых являются:\n",
    "* пользователи с платной подпиской в среднем тратят больше времени на аренду;\n",
    "* пользователи с платной подпиской проезжают за поездку в среднем не больше 3130 метров (дополнительно выяснили, что пользователи без подписки в среднем проезжают меньшее расстояние, чем пользователи с подпиской);\n",
    "* помесячная выручка с пользователей с подписой в среднем больше, чем с пользователей без нее.\n",
    "\n",
    "Необходимо было проверить, снизится ли число обращений пользователей в техническую поддержку после обновления серверов. Был расписан алгоритм проведения статистического теста для случая проверки значимости обновления серверов.\n",
    "\n",
    "В дополнении ко всему, были сформулированы советы для отдела маркетинга по двум вопросам:\n",
    "* Было определено необходимое число участников в акции по раздаче купонов на бесплатный месяц подписки *ultra*, чтобы в последствие подписку продлило не менее 100 человек с вероятностью выполнить план 95% - 1160 участников.\n",
    "* Была определена вероятнось, что из разосланных 1 млн push-уведомлений откроют его не более 399.5 тысяч раз - 15%\n",
    "\n",
    "Таким образом, можем сказать, что необходимо привлекать пользователей к приобретению подписки *ultra*, ввиду большего дохода с таких пользователей. Однако в данном исследовании не учитывался ресурс самокатов - траты на закупку новых. Данный факт следует учитывать ввиду того, что пользователи без подписки в среднем проезжают меньшее расстояние, чем пользователи с подпиской. Выручка зависит напрямую не от расстояния, а от времени аренды, предпочтительнее, чтобы пользователи проезжали как можно меньшее расстояние за как можно большее время (выгодно, чтобы пользователи премещались медленно). Это потенциально уменьшает траты на закупку новых или починку старых самокатов."
   ]
  }
 ],
 "metadata": {
  "ExecuteTimeLog": [
   {
    "duration": 1567,
    "start_time": "2024-05-02T17:14:59.081Z"
   },
   {
    "duration": 56,
    "start_time": "2024-05-02T17:15:48.446Z"
   },
   {
    "duration": 61,
    "start_time": "2024-05-02T17:16:21.366Z"
   },
   {
    "duration": 49,
    "start_time": "2024-05-02T17:16:28.843Z"
   },
   {
    "duration": 14,
    "start_time": "2024-05-02T17:17:00.227Z"
   },
   {
    "duration": 308,
    "start_time": "2024-05-02T17:17:51.616Z"
   },
   {
    "duration": 69,
    "start_time": "2024-05-02T17:18:13.384Z"
   },
   {
    "duration": 78,
    "start_time": "2024-05-02T17:18:28.214Z"
   },
   {
    "duration": 76,
    "start_time": "2024-05-02T17:18:33.700Z"
   },
   {
    "duration": 77,
    "start_time": "2024-05-02T17:18:45.458Z"
   },
   {
    "duration": 87,
    "start_time": "2024-05-02T17:20:01.761Z"
   },
   {
    "duration": 103,
    "start_time": "2024-05-02T17:20:14.485Z"
   },
   {
    "duration": 90,
    "start_time": "2024-05-02T17:20:22.527Z"
   },
   {
    "duration": 79,
    "start_time": "2024-05-02T17:20:38.567Z"
   },
   {
    "duration": 103,
    "start_time": "2024-05-02T17:20:41.735Z"
   },
   {
    "duration": 92,
    "start_time": "2024-05-02T17:20:46.303Z"
   },
   {
    "duration": 99,
    "start_time": "2024-05-02T17:20:52.991Z"
   },
   {
    "duration": 83,
    "start_time": "2024-05-02T17:20:58.771Z"
   },
   {
    "duration": 128,
    "start_time": "2024-05-02T17:29:06.882Z"
   },
   {
    "duration": 103,
    "start_time": "2024-05-02T17:29:29.726Z"
   },
   {
    "duration": 4,
    "start_time": "2024-05-02T17:31:15.040Z"
   },
   {
    "duration": 72,
    "start_time": "2024-05-02T17:32:23.109Z"
   },
   {
    "duration": 79,
    "start_time": "2024-05-02T17:32:28.721Z"
   },
   {
    "duration": 24,
    "start_time": "2024-05-02T17:32:40.882Z"
   },
   {
    "duration": 31,
    "start_time": "2024-05-02T17:33:24.776Z"
   },
   {
    "duration": 30,
    "start_time": "2024-05-02T17:33:38.728Z"
   },
   {
    "duration": 45,
    "start_time": "2024-05-02T17:33:44.343Z"
   },
   {
    "duration": 31,
    "start_time": "2024-05-02T17:34:00.301Z"
   },
   {
    "duration": 27,
    "start_time": "2024-05-02T17:34:15.657Z"
   },
   {
    "duration": 67,
    "start_time": "2024-05-02T17:35:57.331Z"
   },
   {
    "duration": 27,
    "start_time": "2024-05-02T17:44:51.990Z"
   },
   {
    "duration": 9,
    "start_time": "2024-05-02T17:45:03.427Z"
   },
   {
    "duration": 8,
    "start_time": "2024-05-02T17:51:26.731Z"
   },
   {
    "duration": 22,
    "start_time": "2024-05-02T17:51:35.169Z"
   },
   {
    "duration": 21,
    "start_time": "2024-05-02T17:51:50.550Z"
   },
   {
    "duration": 29,
    "start_time": "2024-05-02T17:51:53.067Z"
   },
   {
    "duration": 20,
    "start_time": "2024-05-02T17:52:55.294Z"
   },
   {
    "duration": 19,
    "start_time": "2024-05-02T17:53:26.296Z"
   },
   {
    "duration": 20,
    "start_time": "2024-05-02T17:54:11.137Z"
   },
   {
    "duration": 23,
    "start_time": "2024-05-02T17:54:33.779Z"
   },
   {
    "duration": 13,
    "start_time": "2024-05-02T17:54:43.561Z"
   },
   {
    "duration": 5,
    "start_time": "2024-05-02T17:56:24.232Z"
   },
   {
    "duration": 16,
    "start_time": "2024-05-02T17:56:34.284Z"
   },
   {
    "duration": 1197,
    "start_time": "2024-05-02T17:56:55.716Z"
   },
   {
    "duration": 9,
    "start_time": "2024-05-02T17:57:04.267Z"
   },
   {
    "duration": 5,
    "start_time": "2024-05-02T17:57:11.285Z"
   },
   {
    "duration": 8,
    "start_time": "2024-05-02T18:00:38.976Z"
   },
   {
    "duration": 6,
    "start_time": "2024-05-02T18:00:50.142Z"
   },
   {
    "duration": 9,
    "start_time": "2024-05-02T18:01:18.112Z"
   },
   {
    "duration": 9,
    "start_time": "2024-05-02T18:02:08.823Z"
   },
   {
    "duration": 6,
    "start_time": "2024-05-02T18:02:23.257Z"
   },
   {
    "duration": 5,
    "start_time": "2024-05-02T18:02:56.641Z"
   },
   {
    "duration": 6,
    "start_time": "2024-05-02T18:03:13.809Z"
   },
   {
    "duration": 6,
    "start_time": "2024-05-02T18:07:19.394Z"
   },
   {
    "duration": 7,
    "start_time": "2024-05-02T18:08:14.387Z"
   },
   {
    "duration": 6,
    "start_time": "2024-05-02T18:08:26.075Z"
   },
   {
    "duration": 4,
    "start_time": "2024-05-02T18:10:09.812Z"
   },
   {
    "duration": 5,
    "start_time": "2024-05-02T18:11:14.513Z"
   },
   {
    "duration": 7,
    "start_time": "2024-05-02T18:11:22.193Z"
   },
   {
    "duration": 9,
    "start_time": "2024-05-02T18:14:00.881Z"
   },
   {
    "duration": 7,
    "start_time": "2024-05-02T18:14:03.843Z"
   },
   {
    "duration": 7,
    "start_time": "2024-05-02T18:14:19.409Z"
   },
   {
    "duration": 1228,
    "start_time": "2024-05-02T18:14:26.307Z"
   },
   {
    "duration": 25,
    "start_time": "2024-05-02T18:14:27.537Z"
   },
   {
    "duration": 14,
    "start_time": "2024-05-02T18:14:27.563Z"
   },
   {
    "duration": 8,
    "start_time": "2024-05-02T18:14:27.580Z"
   },
   {
    "duration": 12,
    "start_time": "2024-05-02T18:14:27.591Z"
   },
   {
    "duration": 13,
    "start_time": "2024-05-02T18:14:27.605Z"
   },
   {
    "duration": 5,
    "start_time": "2024-05-02T18:17:56.613Z"
   },
   {
    "duration": 118,
    "start_time": "2024-05-02T18:23:28.205Z"
   },
   {
    "duration": 16,
    "start_time": "2024-05-02T18:23:48.119Z"
   },
   {
    "duration": 18,
    "start_time": "2024-05-02T18:24:40.123Z"
   },
   {
    "duration": 1187,
    "start_time": "2024-05-02T18:27:13.279Z"
   },
   {
    "duration": 1156,
    "start_time": "2024-05-02T18:27:16.735Z"
   },
   {
    "duration": 67,
    "start_time": "2024-05-02T18:27:28.722Z"
   },
   {
    "duration": 9,
    "start_time": "2024-05-02T18:27:33.757Z"
   },
   {
    "duration": 18,
    "start_time": "2024-05-02T18:27:39.918Z"
   },
   {
    "duration": 14,
    "start_time": "2024-05-02T18:28:25.745Z"
   },
   {
    "duration": 17,
    "start_time": "2024-05-02T18:28:35.787Z"
   },
   {
    "duration": 21,
    "start_time": "2024-05-02T18:28:52.667Z"
   },
   {
    "duration": 12,
    "start_time": "2024-05-02T18:28:58.620Z"
   },
   {
    "duration": 182,
    "start_time": "2024-05-02T18:29:11.331Z"
   },
   {
    "duration": 99,
    "start_time": "2024-05-02T18:35:18.244Z"
   },
   {
    "duration": 21,
    "start_time": "2024-05-02T18:35:24.780Z"
   },
   {
    "duration": 1316,
    "start_time": "2024-05-02T18:36:14.092Z"
   },
   {
    "duration": 28,
    "start_time": "2024-05-02T18:36:15.410Z"
   },
   {
    "duration": 24,
    "start_time": "2024-05-02T18:36:15.440Z"
   },
   {
    "duration": 28,
    "start_time": "2024-05-02T18:36:15.466Z"
   },
   {
    "duration": 15,
    "start_time": "2024-05-02T18:36:15.497Z"
   },
   {
    "duration": 17,
    "start_time": "2024-05-02T18:36:15.514Z"
   },
   {
    "duration": 7,
    "start_time": "2024-05-02T18:36:15.533Z"
   },
   {
    "duration": 153,
    "start_time": "2024-05-02T18:36:15.542Z"
   },
   {
    "duration": 20,
    "start_time": "2024-05-02T18:38:10.144Z"
   },
   {
    "duration": 90,
    "start_time": "2024-05-02T18:38:36.601Z"
   },
   {
    "duration": 22,
    "start_time": "2024-05-02T18:38:41.085Z"
   },
   {
    "duration": 191,
    "start_time": "2024-05-02T18:38:43.952Z"
   },
   {
    "duration": 175,
    "start_time": "2024-05-02T18:40:31.383Z"
   },
   {
    "duration": 171,
    "start_time": "2024-05-02T18:43:39.293Z"
   },
   {
    "duration": 24,
    "start_time": "2024-05-02T18:45:58.087Z"
   },
   {
    "duration": 156,
    "start_time": "2024-05-02T18:46:23.244Z"
   },
   {
    "duration": 170,
    "start_time": "2024-05-02T18:46:49.933Z"
   },
   {
    "duration": 156,
    "start_time": "2024-05-02T18:49:30.685Z"
   },
   {
    "duration": 139,
    "start_time": "2024-05-02T18:49:49.689Z"
   },
   {
    "duration": 130,
    "start_time": "2024-05-02T18:49:57.187Z"
   },
   {
    "duration": 140,
    "start_time": "2024-05-02T18:50:02.659Z"
   },
   {
    "duration": 199,
    "start_time": "2024-05-02T18:50:20.232Z"
   },
   {
    "duration": 137,
    "start_time": "2024-05-02T18:50:24.085Z"
   },
   {
    "duration": 166,
    "start_time": "2024-05-02T18:51:04.461Z"
   },
   {
    "duration": 141,
    "start_time": "2024-05-02T18:51:14.385Z"
   },
   {
    "duration": 131,
    "start_time": "2024-05-02T18:51:47.790Z"
   },
   {
    "duration": 158,
    "start_time": "2024-05-02T18:51:59.443Z"
   },
   {
    "duration": 156,
    "start_time": "2024-05-02T18:52:20.740Z"
   },
   {
    "duration": 160,
    "start_time": "2024-05-02T18:52:25.992Z"
   },
   {
    "duration": 147,
    "start_time": "2024-05-02T18:52:41.250Z"
   },
   {
    "duration": 152,
    "start_time": "2024-05-02T18:52:57.156Z"
   },
   {
    "duration": 184,
    "start_time": "2024-05-02T18:53:15.851Z"
   },
   {
    "duration": 184,
    "start_time": "2024-05-02T18:53:34.186Z"
   },
   {
    "duration": 154,
    "start_time": "2024-05-02T18:53:37.826Z"
   },
   {
    "duration": 279,
    "start_time": "2024-05-02T18:54:05.485Z"
   },
   {
    "duration": 169,
    "start_time": "2024-05-02T18:54:18.340Z"
   },
   {
    "duration": 193,
    "start_time": "2024-05-02T18:54:21.921Z"
   },
   {
    "duration": 153,
    "start_time": "2024-05-02T18:54:26.260Z"
   },
   {
    "duration": 175,
    "start_time": "2024-05-02T18:54:27.808Z"
   },
   {
    "duration": 164,
    "start_time": "2024-05-02T18:54:47.744Z"
   },
   {
    "duration": 188,
    "start_time": "2024-05-02T19:00:17.522Z"
   },
   {
    "duration": 205,
    "start_time": "2024-05-02T19:01:21.022Z"
   },
   {
    "duration": 202,
    "start_time": "2024-05-02T19:01:30.728Z"
   },
   {
    "duration": 207,
    "start_time": "2024-05-02T19:03:36.500Z"
   },
   {
    "duration": 73,
    "start_time": "2024-05-04T16:06:57.136Z"
   },
   {
    "duration": 44,
    "start_time": "2024-05-04T16:07:00.100Z"
   },
   {
    "duration": 1838,
    "start_time": "2024-05-04T16:07:07.820Z"
   },
   {
    "duration": 28,
    "start_time": "2024-05-04T16:07:09.660Z"
   },
   {
    "duration": 7,
    "start_time": "2024-05-04T16:07:09.690Z"
   },
   {
    "duration": 18,
    "start_time": "2024-05-04T16:07:09.699Z"
   },
   {
    "duration": 12,
    "start_time": "2024-05-04T16:07:09.718Z"
   },
   {
    "duration": 11,
    "start_time": "2024-05-04T16:07:09.732Z"
   },
   {
    "duration": 18,
    "start_time": "2024-05-04T16:07:09.745Z"
   },
   {
    "duration": 175,
    "start_time": "2024-05-04T16:07:09.764Z"
   },
   {
    "duration": 122,
    "start_time": "2024-05-04T16:07:09.941Z"
   },
   {
    "duration": 1163,
    "start_time": "2024-05-04T16:08:01.465Z"
   },
   {
    "duration": 126,
    "start_time": "2024-05-04T16:08:17.919Z"
   },
   {
    "duration": 178,
    "start_time": "2024-05-04T16:08:31.756Z"
   },
   {
    "duration": 184,
    "start_time": "2024-05-04T16:08:44.494Z"
   },
   {
    "duration": 192,
    "start_time": "2024-05-04T16:08:51.073Z"
   },
   {
    "duration": 77,
    "start_time": "2024-05-04T16:09:33.586Z"
   },
   {
    "duration": 63,
    "start_time": "2024-05-04T16:09:35.864Z"
   },
   {
    "duration": 196,
    "start_time": "2024-05-04T16:09:37.710Z"
   },
   {
    "duration": 199,
    "start_time": "2024-05-04T16:09:56.844Z"
   },
   {
    "duration": 182,
    "start_time": "2024-05-04T16:10:02.156Z"
   },
   {
    "duration": 266,
    "start_time": "2024-05-04T16:11:20.932Z"
   },
   {
    "duration": 180,
    "start_time": "2024-05-04T16:12:19.998Z"
   },
   {
    "duration": 186,
    "start_time": "2024-05-04T16:12:26.839Z"
   },
   {
    "duration": 140,
    "start_time": "2024-05-04T16:12:42.010Z"
   },
   {
    "duration": 203,
    "start_time": "2024-05-04T16:12:47.445Z"
   },
   {
    "duration": 199,
    "start_time": "2024-05-04T17:23:02.009Z"
   },
   {
    "duration": 123,
    "start_time": "2024-05-04T17:23:17.101Z"
   },
   {
    "duration": 120,
    "start_time": "2024-05-04T17:23:34.999Z"
   },
   {
    "duration": 119,
    "start_time": "2024-05-04T17:23:37.781Z"
   },
   {
    "duration": 176,
    "start_time": "2024-05-04T17:24:12.309Z"
   },
   {
    "duration": 180,
    "start_time": "2024-05-04T17:24:25.691Z"
   },
   {
    "duration": 177,
    "start_time": "2024-05-04T17:24:36.824Z"
   },
   {
    "duration": 195,
    "start_time": "2024-05-04T17:24:39.328Z"
   },
   {
    "duration": 187,
    "start_time": "2024-05-04T17:24:45.536Z"
   },
   {
    "duration": 241,
    "start_time": "2024-05-04T17:30:59.290Z"
   },
   {
    "duration": 153,
    "start_time": "2024-05-04T17:31:05.986Z"
   },
   {
    "duration": 158,
    "start_time": "2024-05-04T17:31:59.748Z"
   },
   {
    "duration": 149,
    "start_time": "2024-05-04T17:32:09.295Z"
   },
   {
    "duration": 63,
    "start_time": "2024-05-04T17:34:54.171Z"
   },
   {
    "duration": 155,
    "start_time": "2024-05-04T17:35:00.750Z"
   },
   {
    "duration": 69,
    "start_time": "2024-05-04T17:35:13.092Z"
   },
   {
    "duration": 137,
    "start_time": "2024-05-04T17:35:15.908Z"
   },
   {
    "duration": 137,
    "start_time": "2024-05-04T17:35:24.394Z"
   },
   {
    "duration": 142,
    "start_time": "2024-05-04T17:36:55.011Z"
   },
   {
    "duration": 140,
    "start_time": "2024-05-04T17:37:16.901Z"
   },
   {
    "duration": 143,
    "start_time": "2024-05-04T17:37:23.238Z"
   },
   {
    "duration": 142,
    "start_time": "2024-05-04T17:37:36.398Z"
   },
   {
    "duration": 234,
    "start_time": "2024-05-04T17:37:40.773Z"
   },
   {
    "duration": 137,
    "start_time": "2024-05-04T17:37:49.225Z"
   },
   {
    "duration": 155,
    "start_time": "2024-05-04T17:38:11.484Z"
   },
   {
    "duration": 140,
    "start_time": "2024-05-04T17:38:24.279Z"
   },
   {
    "duration": 173,
    "start_time": "2024-05-04T17:38:42.728Z"
   },
   {
    "duration": 178,
    "start_time": "2024-05-04T17:38:50.143Z"
   },
   {
    "duration": 170,
    "start_time": "2024-05-04T17:39:40.193Z"
   },
   {
    "duration": 185,
    "start_time": "2024-05-04T17:40:45.785Z"
   },
   {
    "duration": 173,
    "start_time": "2024-05-04T17:42:35.272Z"
   },
   {
    "duration": 12,
    "start_time": "2024-05-04T17:43:11.909Z"
   },
   {
    "duration": 5,
    "start_time": "2024-05-04T17:43:24.764Z"
   },
   {
    "duration": 1098,
    "start_time": "2024-05-04T17:47:18.635Z"
   },
   {
    "duration": 193,
    "start_time": "2024-05-04T17:47:35.442Z"
   },
   {
    "duration": 213,
    "start_time": "2024-05-04T17:48:27.413Z"
   },
   {
    "duration": 310,
    "start_time": "2024-05-04T17:48:52.115Z"
   },
   {
    "duration": 175,
    "start_time": "2024-05-04T17:49:01.302Z"
   },
   {
    "duration": 209,
    "start_time": "2024-05-04T17:49:48.346Z"
   },
   {
    "duration": 225,
    "start_time": "2024-05-04T17:49:55.310Z"
   },
   {
    "duration": 254,
    "start_time": "2024-05-04T17:49:59.974Z"
   },
   {
    "duration": 193,
    "start_time": "2024-05-04T17:50:05.027Z"
   },
   {
    "duration": 215,
    "start_time": "2024-05-04T17:59:00.779Z"
   },
   {
    "duration": 183,
    "start_time": "2024-05-04T17:59:23.204Z"
   },
   {
    "duration": 368,
    "start_time": "2024-05-04T18:04:55.692Z"
   },
   {
    "duration": 235,
    "start_time": "2024-05-04T18:05:03.596Z"
   },
   {
    "duration": 48,
    "start_time": "2024-05-05T14:33:29.212Z"
   },
   {
    "duration": 1462,
    "start_time": "2024-05-05T14:33:34.091Z"
   },
   {
    "duration": 24,
    "start_time": "2024-05-05T14:33:35.555Z"
   },
   {
    "duration": 14,
    "start_time": "2024-05-05T14:33:35.580Z"
   },
   {
    "duration": 6,
    "start_time": "2024-05-05T14:33:35.596Z"
   },
   {
    "duration": 16,
    "start_time": "2024-05-05T14:33:35.603Z"
   },
   {
    "duration": 6,
    "start_time": "2024-05-05T14:33:35.620Z"
   },
   {
    "duration": 19,
    "start_time": "2024-05-05T14:33:35.627Z"
   },
   {
    "duration": 168,
    "start_time": "2024-05-05T14:33:35.647Z"
   },
   {
    "duration": 205,
    "start_time": "2024-05-05T14:33:35.817Z"
   },
   {
    "duration": 180,
    "start_time": "2024-05-05T14:33:36.025Z"
   },
   {
    "duration": 175,
    "start_time": "2024-05-05T14:33:36.207Z"
   },
   {
    "duration": 225,
    "start_time": "2024-05-05T14:33:36.383Z"
   },
   {
    "duration": 22,
    "start_time": "2024-05-05T14:33:36.609Z"
   },
   {
    "duration": 15,
    "start_time": "2024-05-05T14:34:18.264Z"
   },
   {
    "duration": 18,
    "start_time": "2024-05-05T14:34:32.511Z"
   },
   {
    "duration": 23,
    "start_time": "2024-05-05T14:36:12.426Z"
   },
   {
    "duration": 26,
    "start_time": "2024-05-05T14:36:22.876Z"
   },
   {
    "duration": 23,
    "start_time": "2024-05-05T14:36:41.549Z"
   },
   {
    "duration": 22,
    "start_time": "2024-05-05T14:36:54.848Z"
   },
   {
    "duration": 22,
    "start_time": "2024-05-05T14:38:10.158Z"
   },
   {
    "duration": 23,
    "start_time": "2024-05-05T14:38:16.771Z"
   },
   {
    "duration": 1164,
    "start_time": "2024-05-05T14:38:22.358Z"
   },
   {
    "duration": 24,
    "start_time": "2024-05-05T14:38:23.524Z"
   },
   {
    "duration": 6,
    "start_time": "2024-05-05T14:38:23.549Z"
   },
   {
    "duration": 4,
    "start_time": "2024-05-05T14:38:23.557Z"
   },
   {
    "duration": 8,
    "start_time": "2024-05-05T14:38:23.562Z"
   },
   {
    "duration": 22,
    "start_time": "2024-05-05T14:38:23.571Z"
   },
   {
    "duration": 6,
    "start_time": "2024-05-05T14:38:23.595Z"
   },
   {
    "duration": 174,
    "start_time": "2024-05-05T14:38:23.603Z"
   },
   {
    "duration": 183,
    "start_time": "2024-05-05T14:38:23.779Z"
   },
   {
    "duration": 159,
    "start_time": "2024-05-05T14:38:23.965Z"
   },
   {
    "duration": 171,
    "start_time": "2024-05-05T14:38:24.126Z"
   },
   {
    "duration": 214,
    "start_time": "2024-05-05T14:38:24.298Z"
   },
   {
    "duration": 38,
    "start_time": "2024-05-05T14:38:24.514Z"
   },
   {
    "duration": 23,
    "start_time": "2024-05-05T14:38:45.555Z"
   },
   {
    "duration": 21,
    "start_time": "2024-05-05T14:42:09.553Z"
   },
   {
    "duration": 24,
    "start_time": "2024-05-05T14:42:32.972Z"
   },
   {
    "duration": 27,
    "start_time": "2024-05-05T14:42:38.595Z"
   },
   {
    "duration": 12,
    "start_time": "2024-05-05T14:48:06.305Z"
   },
   {
    "duration": 17,
    "start_time": "2024-05-05T14:48:16.503Z"
   },
   {
    "duration": 17,
    "start_time": "2024-05-05T14:48:25.371Z"
   },
   {
    "duration": 10,
    "start_time": "2024-05-05T14:49:00.298Z"
   },
   {
    "duration": 9,
    "start_time": "2024-05-05T14:49:23.724Z"
   },
   {
    "duration": 245,
    "start_time": "2024-05-05T15:09:31.464Z"
   },
   {
    "duration": 107,
    "start_time": "2024-05-05T15:13:33.661Z"
   },
   {
    "duration": 178,
    "start_time": "2024-05-05T15:13:49.109Z"
   },
   {
    "duration": 107,
    "start_time": "2024-05-05T15:13:53.096Z"
   },
   {
    "duration": 106,
    "start_time": "2024-05-05T15:13:55.399Z"
   },
   {
    "duration": 113,
    "start_time": "2024-05-05T15:13:57.423Z"
   },
   {
    "duration": 102,
    "start_time": "2024-05-05T15:13:58.992Z"
   },
   {
    "duration": 117,
    "start_time": "2024-05-05T15:14:27.256Z"
   },
   {
    "duration": 37,
    "start_time": "2024-05-05T15:14:34.035Z"
   },
   {
    "duration": 134,
    "start_time": "2024-05-05T15:14:36.000Z"
   },
   {
    "duration": 153,
    "start_time": "2024-05-05T15:16:07.603Z"
   },
   {
    "duration": 46,
    "start_time": "2024-05-05T15:16:56.390Z"
   },
   {
    "duration": 138,
    "start_time": "2024-05-05T15:17:00.101Z"
   },
   {
    "duration": 144,
    "start_time": "2024-05-05T15:17:23.159Z"
   },
   {
    "duration": 133,
    "start_time": "2024-05-05T15:17:35.314Z"
   },
   {
    "duration": 152,
    "start_time": "2024-05-05T15:19:24.883Z"
   },
   {
    "duration": 266,
    "start_time": "2024-05-05T15:19:40.715Z"
   },
   {
    "duration": 156,
    "start_time": "2024-05-05T15:20:18.425Z"
   },
   {
    "duration": 160,
    "start_time": "2024-05-05T15:20:30.111Z"
   },
   {
    "duration": 159,
    "start_time": "2024-05-05T15:20:41.567Z"
   },
   {
    "duration": 47,
    "start_time": "2024-05-05T15:20:49.989Z"
   },
   {
    "duration": 145,
    "start_time": "2024-05-05T15:20:52.223Z"
   },
   {
    "duration": 157,
    "start_time": "2024-05-05T15:21:08.724Z"
   },
   {
    "duration": 40,
    "start_time": "2024-05-05T15:21:29.656Z"
   },
   {
    "duration": 166,
    "start_time": "2024-05-05T15:21:38.239Z"
   },
   {
    "duration": 162,
    "start_time": "2024-05-05T15:21:44.232Z"
   },
   {
    "duration": 154,
    "start_time": "2024-05-05T15:21:50.467Z"
   },
   {
    "duration": 168,
    "start_time": "2024-05-05T15:25:00.999Z"
   },
   {
    "duration": 161,
    "start_time": "2024-05-05T15:25:06.514Z"
   },
   {
    "duration": 220,
    "start_time": "2024-05-05T15:25:12.710Z"
   },
   {
    "duration": 154,
    "start_time": "2024-05-05T15:25:15.029Z"
   },
   {
    "duration": 39,
    "start_time": "2024-05-05T15:27:01.450Z"
   },
   {
    "duration": 152,
    "start_time": "2024-05-05T15:27:04.136Z"
   },
   {
    "duration": 47,
    "start_time": "2024-05-05T15:31:12.084Z"
   },
   {
    "duration": 16,
    "start_time": "2024-05-05T15:38:04.779Z"
   },
   {
    "duration": 17,
    "start_time": "2024-05-05T15:38:16.137Z"
   },
   {
    "duration": 6,
    "start_time": "2024-05-05T15:38:26.340Z"
   },
   {
    "duration": 15,
    "start_time": "2024-05-05T15:38:38.776Z"
   },
   {
    "duration": 9,
    "start_time": "2024-05-05T15:39:06.245Z"
   },
   {
    "duration": 15,
    "start_time": "2024-05-05T15:39:36.547Z"
   },
   {
    "duration": 15,
    "start_time": "2024-05-05T15:39:46.604Z"
   },
   {
    "duration": 124,
    "start_time": "2024-05-05T15:40:01.696Z"
   },
   {
    "duration": 138,
    "start_time": "2024-05-05T15:40:12.891Z"
   },
   {
    "duration": 127,
    "start_time": "2024-05-05T15:40:17.973Z"
   },
   {
    "duration": 131,
    "start_time": "2024-05-05T15:40:37.906Z"
   },
   {
    "duration": 112,
    "start_time": "2024-05-05T15:41:05.288Z"
   },
   {
    "duration": 119,
    "start_time": "2024-05-05T15:41:08.998Z"
   },
   {
    "duration": 6,
    "start_time": "2024-05-05T15:41:36.235Z"
   },
   {
    "duration": 7,
    "start_time": "2024-05-05T15:41:40.522Z"
   },
   {
    "duration": 7,
    "start_time": "2024-05-05T15:42:01.281Z"
   },
   {
    "duration": 12,
    "start_time": "2024-05-05T15:42:53.802Z"
   },
   {
    "duration": 28,
    "start_time": "2024-05-05T15:43:12.431Z"
   },
   {
    "duration": 5,
    "start_time": "2024-05-05T15:43:38.340Z"
   },
   {
    "duration": 121,
    "start_time": "2024-05-05T15:45:57.457Z"
   },
   {
    "duration": 120,
    "start_time": "2024-05-05T15:47:24.548Z"
   },
   {
    "duration": 115,
    "start_time": "2024-05-05T15:47:38.111Z"
   },
   {
    "duration": 30,
    "start_time": "2024-05-05T15:48:40.043Z"
   },
   {
    "duration": 29,
    "start_time": "2024-05-05T15:48:49.019Z"
   },
   {
    "duration": 199,
    "start_time": "2024-05-05T15:49:11.221Z"
   },
   {
    "duration": 128,
    "start_time": "2024-05-05T15:51:30.756Z"
   },
   {
    "duration": 25,
    "start_time": "2024-05-05T15:52:51.850Z"
   },
   {
    "duration": 116,
    "start_time": "2024-05-05T15:52:58.526Z"
   },
   {
    "duration": 170,
    "start_time": "2024-05-05T15:53:22.426Z"
   },
   {
    "duration": 681,
    "start_time": "2024-05-05T15:54:07.574Z"
   },
   {
    "duration": 145,
    "start_time": "2024-05-05T15:54:23.884Z"
   },
   {
    "duration": 24,
    "start_time": "2024-05-05T15:56:37.357Z"
   },
   {
    "duration": 38,
    "start_time": "2024-05-05T15:57:38.998Z"
   },
   {
    "duration": 141,
    "start_time": "2024-05-05T15:57:54.321Z"
   },
   {
    "duration": 146,
    "start_time": "2024-05-05T15:58:00.490Z"
   },
   {
    "duration": 26,
    "start_time": "2024-05-05T15:58:05.706Z"
   },
   {
    "duration": 12,
    "start_time": "2024-05-05T15:58:07.958Z"
   },
   {
    "duration": 155,
    "start_time": "2024-05-05T15:58:09.802Z"
   },
   {
    "duration": 134,
    "start_time": "2024-05-05T15:58:12.327Z"
   },
   {
    "duration": 10,
    "start_time": "2024-05-05T15:59:11.920Z"
   },
   {
    "duration": 184,
    "start_time": "2024-05-05T15:59:21.286Z"
   },
   {
    "duration": 183,
    "start_time": "2024-05-05T15:59:38.530Z"
   },
   {
    "duration": 259,
    "start_time": "2024-05-05T16:01:32.501Z"
   },
   {
    "duration": 172,
    "start_time": "2024-05-05T16:01:44.537Z"
   },
   {
    "duration": 22,
    "start_time": "2024-05-05T16:02:16.306Z"
   },
   {
    "duration": 11,
    "start_time": "2024-05-05T16:02:53.330Z"
   },
   {
    "duration": 14,
    "start_time": "2024-05-05T16:02:57.633Z"
   },
   {
    "duration": 12,
    "start_time": "2024-05-05T16:04:24.443Z"
   },
   {
    "duration": 12,
    "start_time": "2024-05-05T16:04:30.251Z"
   },
   {
    "duration": 12,
    "start_time": "2024-05-05T16:04:33.689Z"
   },
   {
    "duration": 18,
    "start_time": "2024-05-05T16:04:37.350Z"
   },
   {
    "duration": 12,
    "start_time": "2024-05-05T16:07:26.879Z"
   },
   {
    "duration": 12,
    "start_time": "2024-05-05T16:11:26.052Z"
   },
   {
    "duration": 13,
    "start_time": "2024-05-05T16:11:29.079Z"
   },
   {
    "duration": 9,
    "start_time": "2024-05-05T16:13:19.847Z"
   },
   {
    "duration": 15,
    "start_time": "2024-05-05T16:13:32.230Z"
   },
   {
    "duration": 15,
    "start_time": "2024-05-05T16:13:56.031Z"
   },
   {
    "duration": 7,
    "start_time": "2024-05-05T16:14:38.803Z"
   },
   {
    "duration": 175,
    "start_time": "2024-05-05T16:14:45.211Z"
   },
   {
    "duration": 191,
    "start_time": "2024-05-05T16:15:50.319Z"
   },
   {
    "duration": 180,
    "start_time": "2024-05-05T16:15:54.811Z"
   },
   {
    "duration": 9,
    "start_time": "2024-05-05T16:16:23.791Z"
   },
   {
    "duration": 163,
    "start_time": "2024-05-05T16:16:27.750Z"
   },
   {
    "duration": 220,
    "start_time": "2024-05-05T16:17:21.026Z"
   },
   {
    "duration": 137,
    "start_time": "2024-05-05T16:17:36.250Z"
   },
   {
    "duration": 8,
    "start_time": "2024-05-05T16:17:41.048Z"
   },
   {
    "duration": 182,
    "start_time": "2024-05-05T16:17:47.328Z"
   },
   {
    "duration": 25,
    "start_time": "2024-05-05T16:17:54.615Z"
   },
   {
    "duration": 136,
    "start_time": "2024-05-05T16:17:58.471Z"
   },
   {
    "duration": 1132,
    "start_time": "2024-05-05T16:18:02.888Z"
   },
   {
    "duration": 25,
    "start_time": "2024-05-05T16:18:04.021Z"
   },
   {
    "duration": 42,
    "start_time": "2024-05-05T16:18:04.047Z"
   },
   {
    "duration": 34,
    "start_time": "2024-05-05T16:18:04.091Z"
   },
   {
    "duration": 36,
    "start_time": "2024-05-05T16:18:04.127Z"
   },
   {
    "duration": 39,
    "start_time": "2024-05-05T16:18:04.164Z"
   },
   {
    "duration": 28,
    "start_time": "2024-05-05T16:18:04.205Z"
   },
   {
    "duration": 173,
    "start_time": "2024-05-05T16:18:04.235Z"
   },
   {
    "duration": 184,
    "start_time": "2024-05-05T16:18:04.410Z"
   },
   {
    "duration": 164,
    "start_time": "2024-05-05T16:18:04.596Z"
   },
   {
    "duration": 189,
    "start_time": "2024-05-05T16:18:04.761Z"
   },
   {
    "duration": 217,
    "start_time": "2024-05-05T16:18:04.951Z"
   },
   {
    "duration": 26,
    "start_time": "2024-05-05T16:18:05.170Z"
   },
   {
    "duration": 204,
    "start_time": "2024-05-05T16:18:05.197Z"
   },
   {
    "duration": 99,
    "start_time": "2024-05-05T16:18:05.402Z"
   },
   {
    "duration": 192,
    "start_time": "2024-05-05T16:18:05.503Z"
   },
   {
    "duration": 9,
    "start_time": "2024-05-05T16:18:05.697Z"
   },
   {
    "duration": 190,
    "start_time": "2024-05-05T16:18:05.707Z"
   },
   {
    "duration": 142,
    "start_time": "2024-05-05T16:18:05.899Z"
   },
   {
    "duration": 7,
    "start_time": "2024-05-05T16:18:06.044Z"
   },
   {
    "duration": 806,
    "start_time": "2024-05-05T16:18:06.053Z"
   },
   {
    "duration": 13,
    "start_time": "2024-05-05T16:18:29.904Z"
   },
   {
    "duration": 12,
    "start_time": "2024-05-05T16:18:36.234Z"
   },
   {
    "duration": 11,
    "start_time": "2024-05-05T16:18:44.257Z"
   },
   {
    "duration": 12,
    "start_time": "2024-05-05T16:18:53.009Z"
   },
   {
    "duration": 146,
    "start_time": "2024-05-05T16:19:26.291Z"
   },
   {
    "duration": 143,
    "start_time": "2024-05-05T16:19:41.288Z"
   },
   {
    "duration": 163,
    "start_time": "2024-05-05T16:27:58.278Z"
   },
   {
    "duration": 153,
    "start_time": "2024-05-05T16:31:42.875Z"
   },
   {
    "duration": 11,
    "start_time": "2024-05-05T16:35:32.463Z"
   },
   {
    "duration": 11,
    "start_time": "2024-05-05T16:36:28.410Z"
   },
   {
    "duration": 152,
    "start_time": "2024-05-05T16:36:35.712Z"
   },
   {
    "duration": 160,
    "start_time": "2024-05-05T16:37:59.961Z"
   },
   {
    "duration": 168,
    "start_time": "2024-05-05T16:38:55.372Z"
   },
   {
    "duration": 213,
    "start_time": "2024-05-05T16:39:32.708Z"
   },
   {
    "duration": 143,
    "start_time": "2024-05-05T16:39:37.969Z"
   },
   {
    "duration": 319,
    "start_time": "2024-05-05T16:40:31.330Z"
   },
   {
    "duration": 158,
    "start_time": "2024-05-05T16:40:48.597Z"
   },
   {
    "duration": 29,
    "start_time": "2024-05-05T16:45:15.702Z"
   },
   {
    "duration": 41,
    "start_time": "2024-05-05T16:45:21.461Z"
   },
   {
    "duration": 34,
    "start_time": "2024-05-05T16:45:27.841Z"
   },
   {
    "duration": 31,
    "start_time": "2024-05-05T16:45:32.746Z"
   },
   {
    "duration": 32,
    "start_time": "2024-05-05T16:45:37.751Z"
   },
   {
    "duration": 32,
    "start_time": "2024-05-05T16:45:42.010Z"
   },
   {
    "duration": 24,
    "start_time": "2024-05-05T16:45:50.402Z"
   },
   {
    "duration": 84,
    "start_time": "2024-05-05T16:47:51.308Z"
   },
   {
    "duration": 182,
    "start_time": "2024-05-05T16:54:33.107Z"
   },
   {
    "duration": 1241,
    "start_time": "2024-05-05T16:54:38.618Z"
   },
   {
    "duration": 23,
    "start_time": "2024-05-05T16:54:39.861Z"
   },
   {
    "duration": 6,
    "start_time": "2024-05-05T16:54:39.886Z"
   },
   {
    "duration": 8,
    "start_time": "2024-05-05T16:54:39.894Z"
   },
   {
    "duration": 11,
    "start_time": "2024-05-05T16:54:39.903Z"
   },
   {
    "duration": 32,
    "start_time": "2024-05-05T16:54:39.915Z"
   },
   {
    "duration": 6,
    "start_time": "2024-05-05T16:54:39.948Z"
   },
   {
    "duration": 160,
    "start_time": "2024-05-05T16:54:39.956Z"
   },
   {
    "duration": 186,
    "start_time": "2024-05-05T16:54:40.118Z"
   },
   {
    "duration": 168,
    "start_time": "2024-05-05T16:54:40.307Z"
   },
   {
    "duration": 195,
    "start_time": "2024-05-05T16:54:40.477Z"
   },
   {
    "duration": 212,
    "start_time": "2024-05-05T16:54:40.674Z"
   },
   {
    "duration": 27,
    "start_time": "2024-05-05T16:54:40.888Z"
   },
   {
    "duration": 198,
    "start_time": "2024-05-05T16:54:40.916Z"
   },
   {
    "duration": 84,
    "start_time": "2024-05-05T16:54:41.116Z"
   },
   {
    "duration": 183,
    "start_time": "2024-05-05T16:54:41.201Z"
   },
   {
    "duration": 9,
    "start_time": "2024-05-05T16:54:41.385Z"
   },
   {
    "duration": 179,
    "start_time": "2024-05-05T16:54:41.396Z"
   },
   {
    "duration": 141,
    "start_time": "2024-05-05T16:54:41.576Z"
   },
   {
    "duration": 153,
    "start_time": "2024-05-05T16:54:41.718Z"
   },
   {
    "duration": 2,
    "start_time": "2024-05-05T16:54:41.872Z"
   },
   {
    "duration": 10,
    "start_time": "2024-05-05T16:54:57.842Z"
   },
   {
    "duration": 174,
    "start_time": "2024-05-05T16:55:09.194Z"
   },
   {
    "duration": 1208,
    "start_time": "2024-05-05T16:55:14.115Z"
   },
   {
    "duration": 22,
    "start_time": "2024-05-05T16:55:15.325Z"
   },
   {
    "duration": 6,
    "start_time": "2024-05-05T16:55:15.348Z"
   },
   {
    "duration": 4,
    "start_time": "2024-05-05T16:55:15.356Z"
   },
   {
    "duration": 10,
    "start_time": "2024-05-05T16:55:15.361Z"
   },
   {
    "duration": 5,
    "start_time": "2024-05-05T16:55:15.373Z"
   },
   {
    "duration": 5,
    "start_time": "2024-05-05T16:55:15.379Z"
   },
   {
    "duration": 170,
    "start_time": "2024-05-05T16:55:15.386Z"
   },
   {
    "duration": 188,
    "start_time": "2024-05-05T16:55:15.557Z"
   },
   {
    "duration": 160,
    "start_time": "2024-05-05T16:55:15.747Z"
   },
   {
    "duration": 169,
    "start_time": "2024-05-05T16:55:15.908Z"
   },
   {
    "duration": 209,
    "start_time": "2024-05-05T16:55:16.079Z"
   },
   {
    "duration": 24,
    "start_time": "2024-05-05T16:55:16.290Z"
   },
   {
    "duration": 188,
    "start_time": "2024-05-05T16:55:16.315Z"
   },
   {
    "duration": 93,
    "start_time": "2024-05-05T16:55:16.504Z"
   },
   {
    "duration": 172,
    "start_time": "2024-05-05T16:55:16.598Z"
   },
   {
    "duration": 8,
    "start_time": "2024-05-05T16:55:16.772Z"
   },
   {
    "duration": 154,
    "start_time": "2024-05-05T16:55:16.781Z"
   },
   {
    "duration": 154,
    "start_time": "2024-05-05T16:55:16.937Z"
   },
   {
    "duration": 171,
    "start_time": "2024-05-05T16:55:17.093Z"
   },
   {
    "duration": 2,
    "start_time": "2024-05-05T16:55:17.266Z"
   },
   {
    "duration": 101,
    "start_time": "2024-05-05T17:01:10.017Z"
   },
   {
    "duration": 12,
    "start_time": "2024-05-05T17:02:19.398Z"
   },
   {
    "duration": 15,
    "start_time": "2024-05-05T17:02:26.044Z"
   },
   {
    "duration": 5,
    "start_time": "2024-05-05T17:02:55.059Z"
   },
   {
    "duration": 5,
    "start_time": "2024-05-05T17:04:06.520Z"
   },
   {
    "duration": 6,
    "start_time": "2024-05-05T17:04:19.829Z"
   },
   {
    "duration": 43,
    "start_time": "2024-05-05T17:06:34.904Z"
   },
   {
    "duration": 26,
    "start_time": "2024-05-05T17:06:39.286Z"
   },
   {
    "duration": 34,
    "start_time": "2024-05-05T17:07:18.616Z"
   },
   {
    "duration": 21,
    "start_time": "2024-05-05T17:08:11.532Z"
   },
   {
    "duration": 27,
    "start_time": "2024-05-05T17:12:24.895Z"
   },
   {
    "duration": 32,
    "start_time": "2024-05-05T17:12:43.788Z"
   },
   {
    "duration": 51,
    "start_time": "2024-05-05T17:13:21.351Z"
   },
   {
    "duration": 26,
    "start_time": "2024-05-05T17:13:30.588Z"
   },
   {
    "duration": 36,
    "start_time": "2024-05-05T17:13:56.592Z"
   },
   {
    "duration": 29,
    "start_time": "2024-05-05T17:15:19.244Z"
   },
   {
    "duration": 24,
    "start_time": "2024-05-05T17:15:43.163Z"
   },
   {
    "duration": 27,
    "start_time": "2024-05-05T17:16:51.998Z"
   },
   {
    "duration": 30,
    "start_time": "2024-05-05T17:17:10.290Z"
   },
   {
    "duration": 29,
    "start_time": "2024-05-05T17:17:21.089Z"
   },
   {
    "duration": 22,
    "start_time": "2024-05-05T17:17:56.042Z"
   },
   {
    "duration": 27,
    "start_time": "2024-05-05T17:18:00.545Z"
   },
   {
    "duration": 663,
    "start_time": "2024-05-05T17:20:23.342Z"
   },
   {
    "duration": 29,
    "start_time": "2024-05-05T17:20:29.064Z"
   },
   {
    "duration": 28,
    "start_time": "2024-05-05T17:22:13.054Z"
   },
   {
    "duration": 26,
    "start_time": "2024-05-05T17:22:33.910Z"
   },
   {
    "duration": 23,
    "start_time": "2024-05-05T17:22:37.085Z"
   },
   {
    "duration": 27,
    "start_time": "2024-05-05T17:23:36.406Z"
   },
   {
    "duration": 27,
    "start_time": "2024-05-05T17:23:57.404Z"
   },
   {
    "duration": 29,
    "start_time": "2024-05-05T17:24:36.137Z"
   },
   {
    "duration": 4,
    "start_time": "2024-05-05T17:25:48.761Z"
   },
   {
    "duration": 21,
    "start_time": "2024-05-05T17:25:57.315Z"
   },
   {
    "duration": 20,
    "start_time": "2024-05-05T17:26:05.823Z"
   },
   {
    "duration": 8,
    "start_time": "2024-05-05T17:41:57.177Z"
   },
   {
    "duration": 4,
    "start_time": "2024-05-05T17:42:04.454Z"
   },
   {
    "duration": 3,
    "start_time": "2024-05-05T17:42:51.434Z"
   },
   {
    "duration": 7,
    "start_time": "2024-05-05T17:42:57.560Z"
   },
   {
    "duration": 20,
    "start_time": "2024-05-05T17:43:13.970Z"
   },
   {
    "duration": 29,
    "start_time": "2024-05-05T17:44:10.868Z"
   },
   {
    "duration": 28,
    "start_time": "2024-05-05T17:44:30.899Z"
   },
   {
    "duration": 950,
    "start_time": "2024-05-05T17:51:10.911Z"
   },
   {
    "duration": 27,
    "start_time": "2024-05-05T17:51:18.621Z"
   },
   {
    "duration": 12,
    "start_time": "2024-05-05T17:56:11.971Z"
   },
   {
    "duration": 51,
    "start_time": "2024-05-05T17:59:08.309Z"
   },
   {
    "duration": 17,
    "start_time": "2024-05-05T17:59:15.074Z"
   },
   {
    "duration": 8,
    "start_time": "2024-05-05T18:10:20.078Z"
   },
   {
    "duration": 4,
    "start_time": "2024-05-05T18:10:27.299Z"
   },
   {
    "duration": 9,
    "start_time": "2024-05-05T18:10:40.498Z"
   },
   {
    "duration": 4,
    "start_time": "2024-05-05T18:11:04.748Z"
   },
   {
    "duration": 8,
    "start_time": "2024-05-05T18:11:45.589Z"
   },
   {
    "duration": 8,
    "start_time": "2024-05-05T18:12:10.381Z"
   },
   {
    "duration": 10,
    "start_time": "2024-05-05T18:13:27.550Z"
   },
   {
    "duration": 10,
    "start_time": "2024-05-05T18:13:46.362Z"
   },
   {
    "duration": 80,
    "start_time": "2024-05-05T19:12:51.299Z"
   },
   {
    "duration": 15,
    "start_time": "2024-05-05T19:25:14.648Z"
   },
   {
    "duration": 24,
    "start_time": "2024-05-05T19:25:22.383Z"
   },
   {
    "duration": 24,
    "start_time": "2024-05-05T19:27:05.609Z"
   },
   {
    "duration": 650,
    "start_time": "2024-05-05T19:27:41.221Z"
   },
   {
    "duration": 710,
    "start_time": "2024-05-05T19:27:56.631Z"
   },
   {
    "duration": 19,
    "start_time": "2024-05-05T19:28:11.463Z"
   },
   {
    "duration": 34,
    "start_time": "2024-05-05T19:28:22.508Z"
   },
   {
    "duration": 17,
    "start_time": "2024-05-05T19:28:26.326Z"
   },
   {
    "duration": 17,
    "start_time": "2024-05-05T19:28:32.166Z"
   },
   {
    "duration": 21,
    "start_time": "2024-05-05T19:28:37.785Z"
   },
   {
    "duration": 38,
    "start_time": "2024-05-05T19:32:07.159Z"
   },
   {
    "duration": 36,
    "start_time": "2024-05-05T19:32:32.535Z"
   },
   {
    "duration": 60,
    "start_time": "2024-05-05T19:32:39.617Z"
   },
   {
    "duration": 631,
    "start_time": "2024-05-05T19:32:50.737Z"
   },
   {
    "duration": 4,
    "start_time": "2024-05-05T19:33:03.899Z"
   },
   {
    "duration": 12,
    "start_time": "2024-05-05T19:33:10.125Z"
   },
   {
    "duration": 68,
    "start_time": "2024-05-05T19:33:39.201Z"
   },
   {
    "duration": 46,
    "start_time": "2024-05-05T19:33:48.882Z"
   },
   {
    "duration": 39,
    "start_time": "2024-05-05T19:34:01.356Z"
   },
   {
    "duration": 36,
    "start_time": "2024-05-05T19:34:04.469Z"
   },
   {
    "duration": 31,
    "start_time": "2024-05-05T19:34:15.054Z"
   },
   {
    "duration": 41,
    "start_time": "2024-05-05T19:34:18.553Z"
   },
   {
    "duration": 42,
    "start_time": "2024-05-05T19:34:25.588Z"
   },
   {
    "duration": 59,
    "start_time": "2024-05-05T19:34:29.721Z"
   },
   {
    "duration": 35,
    "start_time": "2024-05-05T19:34:33.042Z"
   },
   {
    "duration": 32,
    "start_time": "2024-05-05T19:34:35.404Z"
   },
   {
    "duration": 11,
    "start_time": "2024-05-05T19:36:41.540Z"
   },
   {
    "duration": 11,
    "start_time": "2024-05-05T19:36:45.794Z"
   },
   {
    "duration": 1548,
    "start_time": "2024-05-06T15:03:38.035Z"
   },
   {
    "duration": 29,
    "start_time": "2024-05-06T15:03:39.585Z"
   },
   {
    "duration": 7,
    "start_time": "2024-05-06T15:03:39.615Z"
   },
   {
    "duration": 24,
    "start_time": "2024-05-06T15:03:39.624Z"
   },
   {
    "duration": 15,
    "start_time": "2024-05-06T15:03:39.650Z"
   },
   {
    "duration": 15,
    "start_time": "2024-05-06T15:03:39.666Z"
   },
   {
    "duration": 14,
    "start_time": "2024-05-06T15:03:39.682Z"
   },
   {
    "duration": 185,
    "start_time": "2024-05-06T15:03:39.697Z"
   },
   {
    "duration": 197,
    "start_time": "2024-05-06T15:03:39.883Z"
   },
   {
    "duration": 198,
    "start_time": "2024-05-06T15:03:40.083Z"
   },
   {
    "duration": 203,
    "start_time": "2024-05-06T15:03:40.283Z"
   },
   {
    "duration": 259,
    "start_time": "2024-05-06T15:03:40.488Z"
   },
   {
    "duration": 32,
    "start_time": "2024-05-06T15:03:40.749Z"
   },
   {
    "duration": 243,
    "start_time": "2024-05-06T15:03:40.783Z"
   },
   {
    "duration": 104,
    "start_time": "2024-05-06T15:03:41.028Z"
   },
   {
    "duration": 202,
    "start_time": "2024-05-06T15:03:41.134Z"
   },
   {
    "duration": 10,
    "start_time": "2024-05-06T15:03:41.337Z"
   },
   {
    "duration": 190,
    "start_time": "2024-05-06T15:03:41.348Z"
   },
   {
    "duration": 169,
    "start_time": "2024-05-06T15:03:41.540Z"
   },
   {
    "duration": 169,
    "start_time": "2024-05-06T15:03:41.710Z"
   },
   {
    "duration": 33,
    "start_time": "2024-05-06T15:03:41.881Z"
   },
   {
    "duration": 34,
    "start_time": "2024-05-06T15:03:41.915Z"
   },
   {
    "duration": 12,
    "start_time": "2024-05-06T15:03:41.951Z"
   },
   {
    "duration": 6,
    "start_time": "2024-05-06T15:17:31.972Z"
   },
   {
    "duration": 7,
    "start_time": "2024-05-06T15:18:15.501Z"
   },
   {
    "duration": 4,
    "start_time": "2024-05-06T15:19:34.553Z"
   },
   {
    "duration": 863,
    "start_time": "2024-05-06T15:19:55.147Z"
   },
   {
    "duration": 5,
    "start_time": "2024-05-06T15:20:04.373Z"
   },
   {
    "duration": 21,
    "start_time": "2024-05-06T15:20:17.981Z"
   },
   {
    "duration": 1262,
    "start_time": "2024-05-06T15:20:57.990Z"
   },
   {
    "duration": 27,
    "start_time": "2024-05-06T15:20:59.253Z"
   },
   {
    "duration": 7,
    "start_time": "2024-05-06T15:20:59.282Z"
   },
   {
    "duration": 9,
    "start_time": "2024-05-06T15:20:59.291Z"
   },
   {
    "duration": 29,
    "start_time": "2024-05-06T15:20:59.301Z"
   },
   {
    "duration": 7,
    "start_time": "2024-05-06T15:20:59.331Z"
   },
   {
    "duration": 9,
    "start_time": "2024-05-06T15:20:59.340Z"
   },
   {
    "duration": 186,
    "start_time": "2024-05-06T15:20:59.351Z"
   },
   {
    "duration": 209,
    "start_time": "2024-05-06T15:20:59.539Z"
   },
   {
    "duration": 206,
    "start_time": "2024-05-06T15:20:59.751Z"
   },
   {
    "duration": 207,
    "start_time": "2024-05-06T15:20:59.959Z"
   },
   {
    "duration": 287,
    "start_time": "2024-05-06T15:21:00.168Z"
   },
   {
    "duration": 27,
    "start_time": "2024-05-06T15:21:00.457Z"
   },
   {
    "duration": 308,
    "start_time": "2024-05-06T15:21:00.485Z"
   },
   {
    "duration": 103,
    "start_time": "2024-05-06T15:21:00.795Z"
   },
   {
    "duration": 202,
    "start_time": "2024-05-06T15:21:00.899Z"
   },
   {
    "duration": 11,
    "start_time": "2024-05-06T15:21:01.103Z"
   },
   {
    "duration": 243,
    "start_time": "2024-05-06T15:21:01.115Z"
   },
   {
    "duration": 171,
    "start_time": "2024-05-06T15:21:01.360Z"
   },
   {
    "duration": 180,
    "start_time": "2024-05-06T15:21:01.533Z"
   },
   {
    "duration": 40,
    "start_time": "2024-05-06T15:21:01.715Z"
   },
   {
    "duration": 66,
    "start_time": "2024-05-06T15:21:01.757Z"
   },
   {
    "duration": 74,
    "start_time": "2024-05-06T15:21:01.824Z"
   },
   {
    "duration": 29,
    "start_time": "2024-05-06T15:21:01.900Z"
   },
   {
    "duration": 82,
    "start_time": "2024-05-06T15:21:01.930Z"
   },
   {
    "duration": 47,
    "start_time": "2024-05-06T15:21:02.014Z"
   },
   {
    "duration": 22,
    "start_time": "2024-05-06T15:21:12.081Z"
   },
   {
    "duration": 175,
    "start_time": "2024-05-06T15:22:03.048Z"
   },
   {
    "duration": 24,
    "start_time": "2024-05-06T15:22:17.224Z"
   },
   {
    "duration": 21,
    "start_time": "2024-05-06T15:22:28.893Z"
   },
   {
    "duration": 141,
    "start_time": "2024-05-06T15:22:53.734Z"
   },
   {
    "duration": 6,
    "start_time": "2024-05-06T15:23:02.255Z"
   },
   {
    "duration": 6,
    "start_time": "2024-05-06T15:23:16.275Z"
   },
   {
    "duration": 7,
    "start_time": "2024-05-06T15:23:21.364Z"
   },
   {
    "duration": 5,
    "start_time": "2024-05-06T15:24:14.659Z"
   },
   {
    "duration": 4,
    "start_time": "2024-05-06T15:24:21.167Z"
   },
   {
    "duration": 84,
    "start_time": "2024-05-06T15:27:08.816Z"
   },
   {
    "duration": 10,
    "start_time": "2024-05-06T15:28:31.557Z"
   },
   {
    "duration": 23,
    "start_time": "2024-05-06T15:28:36.760Z"
   },
   {
    "duration": 12,
    "start_time": "2024-05-06T15:28:52.910Z"
   },
   {
    "duration": 17,
    "start_time": "2024-05-06T15:29:09.365Z"
   },
   {
    "duration": 18,
    "start_time": "2024-05-06T15:29:40.385Z"
   },
   {
    "duration": 55,
    "start_time": "2024-05-06T15:31:19.712Z"
   },
   {
    "duration": 14,
    "start_time": "2024-05-06T15:31:23.980Z"
   },
   {
    "duration": 13,
    "start_time": "2024-05-06T15:31:47.021Z"
   },
   {
    "duration": 53,
    "start_time": "2024-05-06T15:33:52.098Z"
   },
   {
    "duration": 187,
    "start_time": "2024-05-06T15:33:55.493Z"
   },
   {
    "duration": 55,
    "start_time": "2024-05-06T15:34:03.639Z"
   },
   {
    "duration": 201,
    "start_time": "2024-05-06T15:34:04.330Z"
   },
   {
    "duration": 53,
    "start_time": "2024-05-06T15:34:12.287Z"
   },
   {
    "duration": 177,
    "start_time": "2024-05-06T15:34:13.022Z"
   },
   {
    "duration": 8,
    "start_time": "2024-05-06T15:34:36.047Z"
   },
   {
    "duration": 56,
    "start_time": "2024-05-06T15:34:40.831Z"
   },
   {
    "duration": 184,
    "start_time": "2024-05-06T15:34:41.561Z"
   },
   {
    "duration": 6,
    "start_time": "2024-05-06T15:34:43.171Z"
   },
   {
    "duration": 121,
    "start_time": "2024-05-06T15:36:41.533Z"
   },
   {
    "duration": 6,
    "start_time": "2024-05-06T15:36:46.791Z"
   },
   {
    "duration": 12,
    "start_time": "2024-05-06T15:37:05.946Z"
   },
   {
    "duration": 6,
    "start_time": "2024-05-06T15:37:14.503Z"
   },
   {
    "duration": 6,
    "start_time": "2024-05-06T15:37:38.363Z"
   },
   {
    "duration": 170,
    "start_time": "2024-05-06T15:37:57.826Z"
   },
   {
    "duration": 6,
    "start_time": "2024-05-06T15:43:25.644Z"
   },
   {
    "duration": 6,
    "start_time": "2024-05-06T15:43:31.586Z"
   },
   {
    "duration": 6,
    "start_time": "2024-05-06T15:43:43.526Z"
   },
   {
    "duration": 6,
    "start_time": "2024-05-06T15:43:53.813Z"
   },
   {
    "duration": 5,
    "start_time": "2024-05-06T15:44:05.415Z"
   },
   {
    "duration": 6,
    "start_time": "2024-05-06T15:55:21.626Z"
   },
   {
    "duration": 6,
    "start_time": "2024-05-06T15:55:46.778Z"
   },
   {
    "duration": 84,
    "start_time": "2024-05-06T16:11:55.904Z"
   },
   {
    "duration": 12,
    "start_time": "2024-05-06T16:13:18.471Z"
   },
   {
    "duration": 10,
    "start_time": "2024-05-06T16:13:55.399Z"
   },
   {
    "duration": 6,
    "start_time": "2024-05-06T16:16:12.451Z"
   },
   {
    "duration": 6,
    "start_time": "2024-05-06T16:16:29.795Z"
   },
   {
    "duration": 6,
    "start_time": "2024-05-06T16:17:03.862Z"
   },
   {
    "duration": 6,
    "start_time": "2024-05-06T16:18:03.893Z"
   },
   {
    "duration": 6,
    "start_time": "2024-05-06T16:18:11.899Z"
   },
   {
    "duration": 5,
    "start_time": "2024-05-06T16:18:54.150Z"
   },
   {
    "duration": 6,
    "start_time": "2024-05-06T16:19:23.018Z"
   },
   {
    "duration": 9,
    "start_time": "2024-05-06T16:20:35.032Z"
   },
   {
    "duration": 8,
    "start_time": "2024-05-06T16:21:35.109Z"
   },
   {
    "duration": 9,
    "start_time": "2024-05-06T16:22:18.320Z"
   },
   {
    "duration": 11,
    "start_time": "2024-05-06T16:22:35.799Z"
   },
   {
    "duration": 11,
    "start_time": "2024-05-06T16:22:49.092Z"
   },
   {
    "duration": 15,
    "start_time": "2024-05-06T17:15:15.960Z"
   },
   {
    "duration": 14,
    "start_time": "2024-05-06T17:15:21.576Z"
   },
   {
    "duration": 34,
    "start_time": "2024-05-06T17:17:03.264Z"
   },
   {
    "duration": 1298,
    "start_time": "2024-05-06T17:17:11.652Z"
   },
   {
    "duration": 38,
    "start_time": "2024-05-06T17:17:12.952Z"
   },
   {
    "duration": 8,
    "start_time": "2024-05-06T17:17:12.992Z"
   },
   {
    "duration": 27,
    "start_time": "2024-05-06T17:17:13.002Z"
   },
   {
    "duration": 29,
    "start_time": "2024-05-06T17:17:13.031Z"
   },
   {
    "duration": 18,
    "start_time": "2024-05-06T17:17:13.063Z"
   },
   {
    "duration": 8,
    "start_time": "2024-05-06T17:17:13.082Z"
   },
   {
    "duration": 177,
    "start_time": "2024-05-06T17:17:13.092Z"
   },
   {
    "duration": 206,
    "start_time": "2024-05-06T17:17:13.271Z"
   },
   {
    "duration": 187,
    "start_time": "2024-05-06T17:17:13.480Z"
   },
   {
    "duration": 206,
    "start_time": "2024-05-06T17:17:13.669Z"
   },
   {
    "duration": 232,
    "start_time": "2024-05-06T17:17:13.876Z"
   },
   {
    "duration": 34,
    "start_time": "2024-05-06T17:17:14.110Z"
   },
   {
    "duration": 216,
    "start_time": "2024-05-06T17:17:14.145Z"
   },
   {
    "duration": 106,
    "start_time": "2024-05-06T17:17:14.363Z"
   },
   {
    "duration": 231,
    "start_time": "2024-05-06T17:17:14.470Z"
   },
   {
    "duration": 11,
    "start_time": "2024-05-06T17:17:14.702Z"
   },
   {
    "duration": 203,
    "start_time": "2024-05-06T17:17:14.715Z"
   },
   {
    "duration": 179,
    "start_time": "2024-05-06T17:17:14.920Z"
   },
   {
    "duration": 182,
    "start_time": "2024-05-06T17:17:15.101Z"
   },
   {
    "duration": 33,
    "start_time": "2024-05-06T17:17:15.285Z"
   },
   {
    "duration": 55,
    "start_time": "2024-05-06T17:17:15.330Z"
   },
   {
    "duration": 19,
    "start_time": "2024-05-06T17:17:15.387Z"
   },
   {
    "duration": 24,
    "start_time": "2024-05-06T17:17:15.408Z"
   },
   {
    "duration": 44,
    "start_time": "2024-05-06T17:17:15.434Z"
   },
   {
    "duration": 58,
    "start_time": "2024-05-06T17:17:15.480Z"
   },
   {
    "duration": 124,
    "start_time": "2024-05-06T17:17:34.657Z"
   },
   {
    "duration": 1287,
    "start_time": "2024-05-06T17:17:39.456Z"
   },
   {
    "duration": 31,
    "start_time": "2024-05-06T17:17:40.745Z"
   },
   {
    "duration": 13,
    "start_time": "2024-05-06T17:17:40.777Z"
   },
   {
    "duration": 6,
    "start_time": "2024-05-06T17:17:40.792Z"
   },
   {
    "duration": 34,
    "start_time": "2024-05-06T17:17:40.800Z"
   },
   {
    "duration": 8,
    "start_time": "2024-05-06T17:17:40.836Z"
   },
   {
    "duration": 9,
    "start_time": "2024-05-06T17:17:40.845Z"
   },
   {
    "duration": 192,
    "start_time": "2024-05-06T17:17:40.856Z"
   },
   {
    "duration": 217,
    "start_time": "2024-05-06T17:17:41.050Z"
   },
   {
    "duration": 192,
    "start_time": "2024-05-06T17:17:41.271Z"
   },
   {
    "duration": 216,
    "start_time": "2024-05-06T17:17:41.465Z"
   },
   {
    "duration": 233,
    "start_time": "2024-05-06T17:17:41.683Z"
   },
   {
    "duration": 33,
    "start_time": "2024-05-06T17:17:41.918Z"
   },
   {
    "duration": 233,
    "start_time": "2024-05-06T17:17:41.953Z"
   },
   {
    "duration": 105,
    "start_time": "2024-05-06T17:17:42.188Z"
   },
   {
    "duration": 209,
    "start_time": "2024-05-06T17:17:42.295Z"
   },
   {
    "duration": 11,
    "start_time": "2024-05-06T17:17:42.506Z"
   },
   {
    "duration": 191,
    "start_time": "2024-05-06T17:17:42.519Z"
   },
   {
    "duration": 176,
    "start_time": "2024-05-06T17:17:42.711Z"
   },
   {
    "duration": 180,
    "start_time": "2024-05-06T17:17:42.889Z"
   },
   {
    "duration": 32,
    "start_time": "2024-05-06T17:17:43.071Z"
   },
   {
    "duration": 44,
    "start_time": "2024-05-06T17:17:43.105Z"
   },
   {
    "duration": 14,
    "start_time": "2024-05-06T17:17:43.151Z"
   },
   {
    "duration": 6,
    "start_time": "2024-05-06T17:17:43.166Z"
   },
   {
    "duration": 11,
    "start_time": "2024-05-06T17:17:43.174Z"
   },
   {
    "duration": 45,
    "start_time": "2024-05-06T17:17:43.186Z"
   },
   {
    "duration": 13,
    "start_time": "2024-05-06T17:25:28.789Z"
   },
   {
    "duration": 166,
    "start_time": "2024-05-06T17:26:22.582Z"
   },
   {
    "duration": 159,
    "start_time": "2024-05-06T17:26:38.292Z"
   },
   {
    "duration": 158,
    "start_time": "2024-05-06T17:26:45.291Z"
   },
   {
    "duration": 154,
    "start_time": "2024-05-06T17:26:49.710Z"
   },
   {
    "duration": 210,
    "start_time": "2024-05-06T17:27:14.737Z"
   },
   {
    "duration": 16,
    "start_time": "2024-05-06T17:27:36.397Z"
   },
   {
    "duration": 14,
    "start_time": "2024-05-06T17:27:51.759Z"
   },
   {
    "duration": 214,
    "start_time": "2024-05-06T17:29:27.672Z"
   },
   {
    "duration": 303,
    "start_time": "2024-05-06T17:29:40.284Z"
   },
   {
    "duration": 206,
    "start_time": "2024-05-06T17:30:03.569Z"
   },
   {
    "duration": 210,
    "start_time": "2024-05-06T17:30:08.930Z"
   },
   {
    "duration": 201,
    "start_time": "2024-05-06T17:30:27.021Z"
   },
   {
    "duration": 204,
    "start_time": "2024-05-06T17:31:32.622Z"
   },
   {
    "duration": 218,
    "start_time": "2024-05-06T17:31:37.464Z"
   },
   {
    "duration": 1025,
    "start_time": "2024-05-06T17:31:58.790Z"
   },
   {
    "duration": 19,
    "start_time": "2024-05-06T17:32:39.507Z"
   },
   {
    "duration": 816,
    "start_time": "2024-05-06T17:33:48.332Z"
   },
   {
    "duration": 9,
    "start_time": "2024-05-06T17:34:21.560Z"
   },
   {
    "duration": 843,
    "start_time": "2024-05-06T17:35:51.009Z"
   },
   {
    "duration": 213,
    "start_time": "2024-05-06T17:36:08.461Z"
   },
   {
    "duration": 867,
    "start_time": "2024-05-06T17:36:54.393Z"
   },
   {
    "duration": 177,
    "start_time": "2024-05-06T17:37:19.885Z"
   },
   {
    "duration": 168,
    "start_time": "2024-05-06T17:37:23.129Z"
   },
   {
    "duration": 182,
    "start_time": "2024-05-06T17:37:25.105Z"
   },
   {
    "duration": 165,
    "start_time": "2024-05-06T17:37:32.504Z"
   },
   {
    "duration": 170,
    "start_time": "2024-05-06T17:37:59.154Z"
   },
   {
    "duration": 262,
    "start_time": "2024-05-06T17:38:20.775Z"
   },
   {
    "duration": 189,
    "start_time": "2024-05-06T17:38:40.904Z"
   },
   {
    "duration": 181,
    "start_time": "2024-05-06T17:39:58.631Z"
   },
   {
    "duration": 4,
    "start_time": "2024-05-06T18:49:02.326Z"
   },
   {
    "duration": 13,
    "start_time": "2024-05-06T18:49:28.320Z"
   },
   {
    "duration": 9,
    "start_time": "2024-05-06T18:49:39.098Z"
   },
   {
    "duration": 7,
    "start_time": "2024-05-06T18:49:46.031Z"
   },
   {
    "duration": 6,
    "start_time": "2024-05-06T18:50:05.061Z"
   },
   {
    "duration": 5,
    "start_time": "2024-05-06T18:50:11.944Z"
   },
   {
    "duration": 6,
    "start_time": "2024-05-06T18:50:15.533Z"
   },
   {
    "duration": 8,
    "start_time": "2024-05-06T18:50:32.466Z"
   },
   {
    "duration": 7,
    "start_time": "2024-05-06T18:50:38.747Z"
   },
   {
    "duration": 5,
    "start_time": "2024-05-06T18:50:42.265Z"
   },
   {
    "duration": 5,
    "start_time": "2024-05-06T18:50:44.915Z"
   },
   {
    "duration": 6,
    "start_time": "2024-05-06T18:50:50.362Z"
   },
   {
    "duration": 6,
    "start_time": "2024-05-06T18:50:52.729Z"
   },
   {
    "duration": 6,
    "start_time": "2024-05-06T18:50:55.365Z"
   },
   {
    "duration": 5,
    "start_time": "2024-05-06T18:50:59.321Z"
   },
   {
    "duration": 6,
    "start_time": "2024-05-06T18:51:01.499Z"
   },
   {
    "duration": 13,
    "start_time": "2024-05-06T19:03:20.748Z"
   },
   {
    "duration": 10,
    "start_time": "2024-05-06T19:03:27.305Z"
   },
   {
    "duration": 6,
    "start_time": "2024-05-06T19:03:31.142Z"
   },
   {
    "duration": 5,
    "start_time": "2024-05-06T19:03:38.849Z"
   },
   {
    "duration": 6,
    "start_time": "2024-05-06T19:03:59.673Z"
   },
   {
    "duration": 9,
    "start_time": "2024-05-06T19:04:49.151Z"
   },
   {
    "duration": 128,
    "start_time": "2024-05-06T19:04:57.152Z"
   },
   {
    "duration": 10,
    "start_time": "2024-05-06T19:05:42.661Z"
   },
   {
    "duration": 5,
    "start_time": "2024-05-06T19:05:48.584Z"
   },
   {
    "duration": 37,
    "start_time": "2024-05-06T19:09:59.632Z"
   },
   {
    "duration": 10,
    "start_time": "2024-05-06T19:10:04.044Z"
   },
   {
    "duration": 10,
    "start_time": "2024-05-06T19:10:18.504Z"
   },
   {
    "duration": 9,
    "start_time": "2024-05-06T19:10:24.078Z"
   },
   {
    "duration": 226,
    "start_time": "2024-05-06T19:10:37.928Z"
   },
   {
    "duration": 130,
    "start_time": "2024-05-06T19:10:46.556Z"
   },
   {
    "duration": 289,
    "start_time": "2024-05-06T19:10:51.791Z"
   },
   {
    "duration": 10,
    "start_time": "2024-05-06T19:11:24.232Z"
   },
   {
    "duration": 1780,
    "start_time": "2024-05-06T19:11:30.840Z"
   },
   {
    "duration": 890,
    "start_time": "2024-05-06T19:11:49.541Z"
   },
   {
    "duration": 269,
    "start_time": "2024-05-06T19:11:57.486Z"
   },
   {
    "duration": 249,
    "start_time": "2024-05-06T19:14:17.089Z"
   },
   {
    "duration": 6,
    "start_time": "2024-05-06T19:24:32.595Z"
   },
   {
    "duration": 6,
    "start_time": "2024-05-06T19:24:42.047Z"
   },
   {
    "duration": 6,
    "start_time": "2024-05-06T19:25:19.219Z"
   },
   {
    "duration": 5,
    "start_time": "2024-05-06T19:25:24.554Z"
   },
   {
    "duration": 5,
    "start_time": "2024-05-06T19:25:31.492Z"
   },
   {
    "duration": 6,
    "start_time": "2024-05-06T19:27:05.688Z"
   },
   {
    "duration": 5,
    "start_time": "2024-05-06T19:27:08.754Z"
   },
   {
    "duration": 5,
    "start_time": "2024-05-06T19:27:12.914Z"
   },
   {
    "duration": 5,
    "start_time": "2024-05-06T19:27:16.017Z"
   },
   {
    "duration": 5,
    "start_time": "2024-05-06T19:27:18.708Z"
   },
   {
    "duration": 8,
    "start_time": "2024-05-06T19:27:22.500Z"
   },
   {
    "duration": 6,
    "start_time": "2024-05-06T19:27:25.504Z"
   },
   {
    "duration": 5,
    "start_time": "2024-05-06T19:27:29.735Z"
   },
   {
    "duration": 6,
    "start_time": "2024-05-06T19:27:34.916Z"
   },
   {
    "duration": 6,
    "start_time": "2024-05-06T19:28:02.501Z"
   },
   {
    "duration": 5,
    "start_time": "2024-05-06T19:28:14.824Z"
   },
   {
    "duration": 7,
    "start_time": "2024-05-06T19:28:25.932Z"
   },
   {
    "duration": 6,
    "start_time": "2024-05-06T19:30:03.809Z"
   },
   {
    "duration": 5,
    "start_time": "2024-05-06T19:30:13.084Z"
   },
   {
    "duration": 5,
    "start_time": "2024-05-06T19:30:32.670Z"
   },
   {
    "duration": 6,
    "start_time": "2024-05-06T19:30:36.515Z"
   },
   {
    "duration": 6,
    "start_time": "2024-05-06T19:30:40.301Z"
   },
   {
    "duration": 5,
    "start_time": "2024-05-06T19:30:53.322Z"
   },
   {
    "duration": 6,
    "start_time": "2024-05-06T19:30:55.137Z"
   },
   {
    "duration": 5,
    "start_time": "2024-05-06T19:30:56.860Z"
   },
   {
    "duration": 5,
    "start_time": "2024-05-06T19:30:58.378Z"
   },
   {
    "duration": 5,
    "start_time": "2024-05-06T19:30:59.868Z"
   },
   {
    "duration": 6,
    "start_time": "2024-05-06T19:31:02.486Z"
   },
   {
    "duration": 5,
    "start_time": "2024-05-06T19:31:04.359Z"
   },
   {
    "duration": 5,
    "start_time": "2024-05-06T19:31:05.872Z"
   },
   {
    "duration": 5,
    "start_time": "2024-05-06T19:31:11.358Z"
   },
   {
    "duration": 7,
    "start_time": "2024-05-06T19:31:14.172Z"
   },
   {
    "duration": 6,
    "start_time": "2024-05-06T19:31:15.699Z"
   },
   {
    "duration": 7,
    "start_time": "2024-05-06T19:31:17.199Z"
   },
   {
    "duration": 5,
    "start_time": "2024-05-06T19:31:18.899Z"
   },
   {
    "duration": 5,
    "start_time": "2024-05-06T19:31:20.965Z"
   },
   {
    "duration": 6,
    "start_time": "2024-05-06T19:32:56.474Z"
   },
   {
    "duration": 6,
    "start_time": "2024-05-06T19:33:03.412Z"
   },
   {
    "duration": 6,
    "start_time": "2024-05-06T19:33:12.857Z"
   },
   {
    "duration": 7,
    "start_time": "2024-05-06T19:42:47.194Z"
   },
   {
    "duration": 6,
    "start_time": "2024-05-06T19:42:57.481Z"
   },
   {
    "duration": 7,
    "start_time": "2024-05-06T19:43:01.364Z"
   },
   {
    "duration": 5,
    "start_time": "2024-05-06T19:43:05.067Z"
   },
   {
    "duration": 10,
    "start_time": "2024-05-06T19:43:07.725Z"
   },
   {
    "duration": 5,
    "start_time": "2024-05-06T19:43:09.499Z"
   },
   {
    "duration": 5,
    "start_time": "2024-05-06T19:43:11.316Z"
   },
   {
    "duration": 4,
    "start_time": "2024-05-06T19:43:53.297Z"
   },
   {
    "duration": 5,
    "start_time": "2024-05-06T19:46:32.308Z"
   },
   {
    "duration": 12,
    "start_time": "2024-05-06T19:47:38.361Z"
   },
   {
    "duration": 5,
    "start_time": "2024-05-06T19:47:46.334Z"
   },
   {
    "duration": 286,
    "start_time": "2024-05-06T19:54:07.199Z"
   },
   {
    "duration": 1922,
    "start_time": "2024-05-06T19:54:13.162Z"
   },
   {
    "duration": 1968,
    "start_time": "2024-05-06T19:54:22.372Z"
   },
   {
    "duration": 2046,
    "start_time": "2024-05-06T19:54:45.631Z"
   },
   {
    "duration": 462,
    "start_time": "2024-05-06T19:55:06.182Z"
   },
   {
    "duration": 47,
    "start_time": "2024-05-06T19:55:26.846Z"
   },
   {
    "duration": 1775,
    "start_time": "2024-05-06T19:55:29.437Z"
   },
   {
    "duration": 2058,
    "start_time": "2024-05-06T19:55:38.882Z"
   },
   {
    "duration": 1482,
    "start_time": "2024-05-06T19:56:27.838Z"
   },
   {
    "duration": 1967,
    "start_time": "2024-05-06T19:56:45.769Z"
   },
   {
    "duration": 2024,
    "start_time": "2024-05-06T19:57:40.120Z"
   },
   {
    "duration": 2038,
    "start_time": "2024-05-06T19:58:03.658Z"
   },
   {
    "duration": 2038,
    "start_time": "2024-05-06T19:58:34.463Z"
   },
   {
    "duration": 2013,
    "start_time": "2024-05-06T19:58:44.376Z"
   },
   {
    "duration": 12,
    "start_time": "2024-05-06T20:12:10.633Z"
   },
   {
    "duration": 87,
    "start_time": "2024-05-06T20:12:17.701Z"
   },
   {
    "duration": 9,
    "start_time": "2024-05-06T20:12:21.710Z"
   },
   {
    "duration": 4,
    "start_time": "2024-05-06T20:12:54.436Z"
   },
   {
    "duration": 618,
    "start_time": "2024-05-06T20:16:35.587Z"
   },
   {
    "duration": 1744,
    "start_time": "2024-05-06T20:17:29.413Z"
   },
   {
    "duration": 2028,
    "start_time": "2024-05-06T20:17:40.459Z"
   },
   {
    "duration": 1998,
    "start_time": "2024-05-06T20:17:54.386Z"
   },
   {
    "duration": 1977,
    "start_time": "2024-05-06T20:18:01.480Z"
   },
   {
    "duration": 1946,
    "start_time": "2024-05-06T20:18:07.355Z"
   },
   {
    "duration": 3,
    "start_time": "2024-05-06T20:18:22.162Z"
   },
   {
    "duration": 9,
    "start_time": "2024-05-06T20:20:22.907Z"
   },
   {
    "duration": 454,
    "start_time": "2024-05-06T20:51:04.777Z"
   },
   {
    "duration": 118,
    "start_time": "2024-05-06T20:51:29.672Z"
   },
   {
    "duration": 114,
    "start_time": "2024-05-06T20:51:50.578Z"
   },
   {
    "duration": 124,
    "start_time": "2024-05-06T20:52:14.257Z"
   },
   {
    "duration": 109,
    "start_time": "2024-05-06T20:52:34.940Z"
   },
   {
    "duration": 215,
    "start_time": "2024-05-06T20:53:05.269Z"
   },
   {
    "duration": 221,
    "start_time": "2024-05-06T20:53:26.089Z"
   },
   {
    "duration": 131,
    "start_time": "2024-05-06T20:53:38.718Z"
   },
   {
    "duration": 120,
    "start_time": "2024-05-06T20:55:41.128Z"
   },
   {
    "duration": 124,
    "start_time": "2024-05-06T20:55:45.675Z"
   },
   {
    "duration": 32,
    "start_time": "2024-05-06T20:56:54.334Z"
   },
   {
    "duration": 30,
    "start_time": "2024-05-06T20:56:57.352Z"
   },
   {
    "duration": 122,
    "start_time": "2024-05-06T20:57:22.571Z"
   },
   {
    "duration": 31,
    "start_time": "2024-05-06T20:57:30.335Z"
   },
   {
    "duration": 237,
    "start_time": "2024-05-06T20:57:59.953Z"
   },
   {
    "duration": 237,
    "start_time": "2024-05-06T20:58:07.430Z"
   },
   {
    "duration": 223,
    "start_time": "2024-05-06T20:58:25.141Z"
   },
   {
    "duration": 130,
    "start_time": "2024-05-06T20:58:31.226Z"
   },
   {
    "duration": 115,
    "start_time": "2024-05-06T20:58:53.797Z"
   },
   {
    "duration": 138,
    "start_time": "2024-05-06T20:59:15.047Z"
   },
   {
    "duration": 144,
    "start_time": "2024-05-06T21:01:35.418Z"
   },
   {
    "duration": 136,
    "start_time": "2024-05-06T21:02:01.865Z"
   },
   {
    "duration": 4,
    "start_time": "2024-05-06T21:02:46.738Z"
   },
   {
    "duration": 3,
    "start_time": "2024-05-06T21:03:45.168Z"
   },
   {
    "duration": 4,
    "start_time": "2024-05-06T21:03:52.367Z"
   },
   {
    "duration": 145,
    "start_time": "2024-05-06T21:03:56.566Z"
   },
   {
    "duration": 4,
    "start_time": "2024-05-06T21:04:07.425Z"
   },
   {
    "duration": 163,
    "start_time": "2024-05-06T21:04:09.882Z"
   },
   {
    "duration": 3,
    "start_time": "2024-05-06T21:04:14.183Z"
   },
   {
    "duration": 10,
    "start_time": "2024-05-06T21:04:15.796Z"
   },
   {
    "duration": 5,
    "start_time": "2024-05-06T21:05:11.298Z"
   },
   {
    "duration": 6,
    "start_time": "2024-05-06T21:05:18.658Z"
   },
   {
    "duration": 169,
    "start_time": "2024-05-06T21:08:15.226Z"
   },
   {
    "duration": 56,
    "start_time": "2024-05-07T15:07:16.639Z"
   },
   {
    "duration": 1607,
    "start_time": "2024-05-07T15:07:23.459Z"
   },
   {
    "duration": 37,
    "start_time": "2024-05-07T15:07:25.069Z"
   },
   {
    "duration": 9,
    "start_time": "2024-05-07T15:07:25.108Z"
   },
   {
    "duration": 15,
    "start_time": "2024-05-07T15:07:25.119Z"
   },
   {
    "duration": 19,
    "start_time": "2024-05-07T15:07:25.136Z"
   },
   {
    "duration": 9,
    "start_time": "2024-05-07T15:07:25.157Z"
   },
   {
    "duration": 16,
    "start_time": "2024-05-07T15:07:25.167Z"
   },
   {
    "duration": 178,
    "start_time": "2024-05-07T15:07:25.185Z"
   },
   {
    "duration": 191,
    "start_time": "2024-05-07T15:07:25.364Z"
   },
   {
    "duration": 171,
    "start_time": "2024-05-07T15:07:25.557Z"
   },
   {
    "duration": 181,
    "start_time": "2024-05-07T15:07:25.729Z"
   },
   {
    "duration": 202,
    "start_time": "2024-05-07T15:07:25.914Z"
   },
   {
    "duration": 39,
    "start_time": "2024-05-07T15:07:26.118Z"
   },
   {
    "duration": 210,
    "start_time": "2024-05-07T15:07:26.159Z"
   },
   {
    "duration": 108,
    "start_time": "2024-05-07T15:07:26.371Z"
   },
   {
    "duration": 190,
    "start_time": "2024-05-07T15:07:26.481Z"
   },
   {
    "duration": 11,
    "start_time": "2024-05-07T15:07:26.672Z"
   },
   {
    "duration": 172,
    "start_time": "2024-05-07T15:07:26.684Z"
   },
   {
    "duration": 154,
    "start_time": "2024-05-07T15:07:26.858Z"
   },
   {
    "duration": 161,
    "start_time": "2024-05-07T15:07:27.013Z"
   },
   {
    "duration": 29,
    "start_time": "2024-05-07T15:07:27.175Z"
   },
   {
    "duration": 32,
    "start_time": "2024-05-07T15:07:27.205Z"
   },
   {
    "duration": 12,
    "start_time": "2024-05-07T15:07:27.239Z"
   },
   {
    "duration": 26,
    "start_time": "2024-05-07T15:07:27.252Z"
   },
   {
    "duration": 8,
    "start_time": "2024-05-07T15:07:27.280Z"
   },
   {
    "duration": 164,
    "start_time": "2024-05-07T15:07:27.290Z"
   },
   {
    "duration": 1842,
    "start_time": "2024-05-07T15:07:27.455Z"
   },
   {
    "duration": 3,
    "start_time": "2024-05-07T15:07:29.300Z"
   },
   {
    "duration": 159,
    "start_time": "2024-05-07T15:07:29.304Z"
   },
   {
    "duration": 1932,
    "start_time": "2024-05-07T15:08:04.521Z"
   },
   {
    "duration": 1992,
    "start_time": "2024-05-07T15:09:28.262Z"
   },
   {
    "duration": 1986,
    "start_time": "2024-05-07T15:09:45.171Z"
   },
   {
    "duration": 277,
    "start_time": "2024-05-07T15:10:18.292Z"
   },
   {
    "duration": 1850,
    "start_time": "2024-05-07T15:10:32.587Z"
   },
   {
    "duration": 2344,
    "start_time": "2024-05-07T15:11:57.033Z"
   },
   {
    "duration": 2378,
    "start_time": "2024-05-07T15:13:00.497Z"
   },
   {
    "duration": 2210,
    "start_time": "2024-05-07T15:14:32.033Z"
   },
   {
    "duration": 2280,
    "start_time": "2024-05-07T15:15:35.737Z"
   },
   {
    "duration": 154,
    "start_time": "2024-05-07T15:17:38.419Z"
   },
   {
    "duration": 161,
    "start_time": "2024-05-07T15:18:08.898Z"
   },
   {
    "duration": 161,
    "start_time": "2024-05-07T15:20:09.492Z"
   },
   {
    "duration": 152,
    "start_time": "2024-05-07T15:20:23.937Z"
   },
   {
    "duration": 148,
    "start_time": "2024-05-07T15:20:27.702Z"
   },
   {
    "duration": 111,
    "start_time": "2024-05-07T15:20:50.554Z"
   },
   {
    "duration": 320,
    "start_time": "2024-05-07T15:20:56.308Z"
   },
   {
    "duration": 160,
    "start_time": "2024-05-07T15:21:00.850Z"
   },
   {
    "duration": 163,
    "start_time": "2024-05-07T15:21:25.271Z"
   },
   {
    "duration": 272,
    "start_time": "2024-05-07T15:28:53.365Z"
   },
   {
    "duration": 2170,
    "start_time": "2024-05-07T15:30:10.781Z"
   },
   {
    "duration": 4,
    "start_time": "2024-05-07T15:34:02.220Z"
   },
   {
    "duration": 12,
    "start_time": "2024-05-07T15:36:00.971Z"
   },
   {
    "duration": 4,
    "start_time": "2024-05-07T15:36:07.312Z"
   },
   {
    "duration": 16,
    "start_time": "2024-05-07T15:36:08.802Z"
   },
   {
    "duration": 13,
    "start_time": "2024-05-07T15:37:09.479Z"
   },
   {
    "duration": 6,
    "start_time": "2024-05-07T15:37:29.972Z"
   },
   {
    "duration": 334,
    "start_time": "2024-05-07T15:38:33.787Z"
   },
   {
    "duration": 63,
    "start_time": "2024-05-07T15:38:55.829Z"
   },
   {
    "duration": 1307,
    "start_time": "2024-05-07T15:39:08.193Z"
   },
   {
    "duration": 24,
    "start_time": "2024-05-07T15:39:09.501Z"
   },
   {
    "duration": 10,
    "start_time": "2024-05-07T15:39:09.526Z"
   },
   {
    "duration": 4,
    "start_time": "2024-05-07T15:39:09.538Z"
   },
   {
    "duration": 9,
    "start_time": "2024-05-07T15:39:09.543Z"
   },
   {
    "duration": 5,
    "start_time": "2024-05-07T15:39:09.553Z"
   },
   {
    "duration": 6,
    "start_time": "2024-05-07T15:39:09.559Z"
   },
   {
    "duration": 180,
    "start_time": "2024-05-07T15:39:09.567Z"
   },
   {
    "duration": 184,
    "start_time": "2024-05-07T15:39:09.749Z"
   },
   {
    "duration": 182,
    "start_time": "2024-05-07T15:39:09.935Z"
   },
   {
    "duration": 193,
    "start_time": "2024-05-07T15:39:10.119Z"
   },
   {
    "duration": 228,
    "start_time": "2024-05-07T15:39:10.314Z"
   },
   {
    "duration": 25,
    "start_time": "2024-05-07T15:39:10.544Z"
   },
   {
    "duration": 216,
    "start_time": "2024-05-07T15:39:10.571Z"
   },
   {
    "duration": 99,
    "start_time": "2024-05-07T15:39:10.788Z"
   },
   {
    "duration": 208,
    "start_time": "2024-05-07T15:39:10.889Z"
   },
   {
    "duration": 19,
    "start_time": "2024-05-07T15:39:11.098Z"
   },
   {
    "duration": 168,
    "start_time": "2024-05-07T15:39:11.118Z"
   },
   {
    "duration": 162,
    "start_time": "2024-05-07T15:39:11.287Z"
   },
   {
    "duration": 175,
    "start_time": "2024-05-07T15:39:11.451Z"
   },
   {
    "duration": 31,
    "start_time": "2024-05-07T15:39:11.627Z"
   },
   {
    "duration": 26,
    "start_time": "2024-05-07T15:39:11.660Z"
   },
   {
    "duration": 36,
    "start_time": "2024-05-07T15:39:11.688Z"
   },
   {
    "duration": 6,
    "start_time": "2024-05-07T15:39:11.725Z"
   },
   {
    "duration": 56,
    "start_time": "2024-05-07T15:39:11.732Z"
   },
   {
    "duration": 203,
    "start_time": "2024-05-07T15:39:11.789Z"
   },
   {
    "duration": 67,
    "start_time": "2024-05-07T15:39:11.994Z"
   },
   {
    "duration": 0,
    "start_time": "2024-05-07T15:39:12.062Z"
   },
   {
    "duration": 1,
    "start_time": "2024-05-07T15:39:12.063Z"
   },
   {
    "duration": 99,
    "start_time": "2024-05-07T15:41:57.130Z"
   },
   {
    "duration": 2230,
    "start_time": "2024-05-07T15:42:09.437Z"
   },
   {
    "duration": 1227,
    "start_time": "2024-05-07T15:42:22.831Z"
   },
   {
    "duration": 26,
    "start_time": "2024-05-07T15:42:24.060Z"
   },
   {
    "duration": 6,
    "start_time": "2024-05-07T15:42:24.088Z"
   },
   {
    "duration": 10,
    "start_time": "2024-05-07T15:42:24.096Z"
   },
   {
    "duration": 11,
    "start_time": "2024-05-07T15:42:24.108Z"
   },
   {
    "duration": 9,
    "start_time": "2024-05-07T15:42:24.120Z"
   },
   {
    "duration": 5,
    "start_time": "2024-05-07T15:42:24.131Z"
   },
   {
    "duration": 163,
    "start_time": "2024-05-07T15:42:24.137Z"
   },
   {
    "duration": 185,
    "start_time": "2024-05-07T15:42:24.302Z"
   },
   {
    "duration": 178,
    "start_time": "2024-05-07T15:42:24.490Z"
   },
   {
    "duration": 178,
    "start_time": "2024-05-07T15:42:24.670Z"
   },
   {
    "duration": 260,
    "start_time": "2024-05-07T15:42:24.850Z"
   },
   {
    "duration": 29,
    "start_time": "2024-05-07T15:42:25.114Z"
   },
   {
    "duration": 198,
    "start_time": "2024-05-07T15:42:25.145Z"
   },
   {
    "duration": 100,
    "start_time": "2024-05-07T15:42:25.345Z"
   },
   {
    "duration": 193,
    "start_time": "2024-05-07T15:42:25.447Z"
   },
   {
    "duration": 13,
    "start_time": "2024-05-07T15:42:25.642Z"
   },
   {
    "duration": 195,
    "start_time": "2024-05-07T15:42:25.657Z"
   },
   {
    "duration": 163,
    "start_time": "2024-05-07T15:42:25.854Z"
   },
   {
    "duration": 171,
    "start_time": "2024-05-07T15:42:26.019Z"
   },
   {
    "duration": 42,
    "start_time": "2024-05-07T15:42:26.192Z"
   },
   {
    "duration": 28,
    "start_time": "2024-05-07T15:42:26.236Z"
   },
   {
    "duration": 12,
    "start_time": "2024-05-07T15:42:26.266Z"
   },
   {
    "duration": 16,
    "start_time": "2024-05-07T15:42:26.279Z"
   },
   {
    "duration": 24,
    "start_time": "2024-05-07T15:42:26.297Z"
   },
   {
    "duration": 179,
    "start_time": "2024-05-07T15:42:26.322Z"
   },
   {
    "duration": 2116,
    "start_time": "2024-05-07T15:42:26.502Z"
   },
   {
    "duration": 4,
    "start_time": "2024-05-07T15:42:28.620Z"
   },
   {
    "duration": 433,
    "start_time": "2024-05-07T15:42:28.626Z"
   },
   {
    "duration": 13,
    "start_time": "2024-05-07T15:44:25.200Z"
   },
   {
    "duration": 2194,
    "start_time": "2024-05-07T15:45:01.828Z"
   },
   {
    "duration": 356,
    "start_time": "2024-05-07T15:45:14.863Z"
   },
   {
    "duration": 2293,
    "start_time": "2024-05-07T15:45:28.607Z"
   },
   {
    "duration": 2307,
    "start_time": "2024-05-07T15:46:47.309Z"
   },
   {
    "duration": 2247,
    "start_time": "2024-05-07T15:47:04.459Z"
   },
   {
    "duration": 2285,
    "start_time": "2024-05-07T15:47:11.816Z"
   },
   {
    "duration": 172,
    "start_time": "2024-05-07T15:47:20.368Z"
   },
   {
    "duration": 189,
    "start_time": "2024-05-07T15:47:45.529Z"
   },
   {
    "duration": 317,
    "start_time": "2024-05-07T15:48:08.530Z"
   },
   {
    "duration": 10,
    "start_time": "2024-05-07T15:59:51.273Z"
   },
   {
    "duration": 6,
    "start_time": "2024-05-07T16:01:02.606Z"
   },
   {
    "duration": 148,
    "start_time": "2024-05-07T16:10:35.790Z"
   },
   {
    "duration": 19,
    "start_time": "2024-05-07T16:11:32.439Z"
   },
   {
    "duration": 196,
    "start_time": "2024-05-07T16:14:55.021Z"
   },
   {
    "duration": 81,
    "start_time": "2024-05-07T16:15:16.449Z"
   },
   {
    "duration": 175,
    "start_time": "2024-05-07T16:15:19.341Z"
   },
   {
    "duration": 439,
    "start_time": "2024-05-07T16:16:37.779Z"
   },
   {
    "duration": 189,
    "start_time": "2024-05-07T16:17:27.369Z"
   },
   {
    "duration": 193,
    "start_time": "2024-05-07T16:17:32.567Z"
   },
   {
    "duration": 194,
    "start_time": "2024-05-07T16:17:38.897Z"
   },
   {
    "duration": 184,
    "start_time": "2024-05-07T16:17:44.241Z"
   },
   {
    "duration": 197,
    "start_time": "2024-05-07T16:17:48.128Z"
   },
   {
    "duration": 190,
    "start_time": "2024-05-07T16:17:52.763Z"
   },
   {
    "duration": 206,
    "start_time": "2024-05-07T16:17:58.898Z"
   },
   {
    "duration": 198,
    "start_time": "2024-05-07T16:18:01.697Z"
   },
   {
    "duration": 199,
    "start_time": "2024-05-07T16:18:06.395Z"
   },
   {
    "duration": 192,
    "start_time": "2024-05-07T16:18:10.428Z"
   },
   {
    "duration": 202,
    "start_time": "2024-05-07T16:18:14.987Z"
   },
   {
    "duration": 193,
    "start_time": "2024-05-07T16:18:17.505Z"
   },
   {
    "duration": 195,
    "start_time": "2024-05-07T16:18:23.581Z"
   },
   {
    "duration": 278,
    "start_time": "2024-05-07T16:18:27.368Z"
   },
   {
    "duration": 194,
    "start_time": "2024-05-07T16:18:31.857Z"
   },
   {
    "duration": 193,
    "start_time": "2024-05-07T16:18:39.377Z"
   },
   {
    "duration": 194,
    "start_time": "2024-05-07T16:18:42.914Z"
   },
   {
    "duration": 194,
    "start_time": "2024-05-07T16:18:49.366Z"
   },
   {
    "duration": 193,
    "start_time": "2024-05-07T16:18:55.309Z"
   },
   {
    "duration": 204,
    "start_time": "2024-05-07T16:19:00.513Z"
   },
   {
    "duration": 189,
    "start_time": "2024-05-07T16:19:04.535Z"
   },
   {
    "duration": 187,
    "start_time": "2024-05-07T16:19:07.341Z"
   },
   {
    "duration": 199,
    "start_time": "2024-05-07T16:19:10.759Z"
   },
   {
    "duration": 194,
    "start_time": "2024-05-07T16:19:13.986Z"
   },
   {
    "duration": 171,
    "start_time": "2024-05-07T16:19:47.275Z"
   },
   {
    "duration": 239,
    "start_time": "2024-05-07T16:19:50.003Z"
   },
   {
    "duration": 281,
    "start_time": "2024-05-07T16:19:52.959Z"
   },
   {
    "duration": 201,
    "start_time": "2024-05-07T16:20:01.634Z"
   },
   {
    "duration": 200,
    "start_time": "2024-05-07T16:20:05.704Z"
   },
   {
    "duration": 185,
    "start_time": "2024-05-07T16:20:08.487Z"
   },
   {
    "duration": 193,
    "start_time": "2024-05-07T16:20:10.440Z"
   },
   {
    "duration": 189,
    "start_time": "2024-05-07T16:20:13.267Z"
   },
   {
    "duration": 194,
    "start_time": "2024-05-07T16:20:16.069Z"
   },
   {
    "duration": 208,
    "start_time": "2024-05-07T16:20:20.026Z"
   },
   {
    "duration": 197,
    "start_time": "2024-05-07T16:20:25.451Z"
   },
   {
    "duration": 189,
    "start_time": "2024-05-07T16:20:29.355Z"
   },
   {
    "duration": 198,
    "start_time": "2024-05-07T16:20:31.735Z"
   },
   {
    "duration": 184,
    "start_time": "2024-05-07T16:20:34.596Z"
   },
   {
    "duration": 188,
    "start_time": "2024-05-07T16:20:37.451Z"
   },
   {
    "duration": 292,
    "start_time": "2024-05-07T16:20:40.292Z"
   },
   {
    "duration": 191,
    "start_time": "2024-05-07T16:20:44.727Z"
   },
   {
    "duration": 186,
    "start_time": "2024-05-07T16:20:55.703Z"
   },
   {
    "duration": 198,
    "start_time": "2024-05-07T16:21:10.538Z"
   },
   {
    "duration": 190,
    "start_time": "2024-05-07T16:22:48.210Z"
   },
   {
    "duration": 175,
    "start_time": "2024-05-07T16:22:52.695Z"
   },
   {
    "duration": 188,
    "start_time": "2024-05-07T16:23:00.575Z"
   },
   {
    "duration": 116,
    "start_time": "2024-05-07T16:23:22.127Z"
   },
   {
    "duration": 201,
    "start_time": "2024-05-07T16:23:36.198Z"
   },
   {
    "duration": 193,
    "start_time": "2024-05-07T16:23:40.557Z"
   },
   {
    "duration": 137,
    "start_time": "2024-05-07T16:24:15.679Z"
   },
   {
    "duration": 161,
    "start_time": "2024-05-07T16:24:19.408Z"
   },
   {
    "duration": 249,
    "start_time": "2024-05-07T16:24:35.259Z"
   },
   {
    "duration": 209,
    "start_time": "2024-05-07T16:24:43.709Z"
   },
   {
    "duration": 198,
    "start_time": "2024-05-07T16:24:59.095Z"
   },
   {
    "duration": 177,
    "start_time": "2024-05-07T16:25:02.309Z"
   },
   {
    "duration": 165,
    "start_time": "2024-05-07T16:25:10.119Z"
   },
   {
    "duration": 170,
    "start_time": "2024-05-07T16:25:17.052Z"
   },
   {
    "duration": 159,
    "start_time": "2024-05-07T16:25:19.112Z"
   },
   {
    "duration": 181,
    "start_time": "2024-05-07T16:25:35.669Z"
   },
   {
    "duration": 388,
    "start_time": "2024-05-07T16:59:20.649Z"
   },
   {
    "duration": 2146,
    "start_time": "2024-05-07T17:00:45.215Z"
   },
   {
    "duration": 152,
    "start_time": "2024-05-07T17:06:07.494Z"
   },
   {
    "duration": 1260,
    "start_time": "2024-05-07T17:11:18.224Z"
   },
   {
    "duration": 26,
    "start_time": "2024-05-07T17:11:19.485Z"
   },
   {
    "duration": 7,
    "start_time": "2024-05-07T17:11:19.512Z"
   },
   {
    "duration": 8,
    "start_time": "2024-05-07T17:11:19.521Z"
   },
   {
    "duration": 24,
    "start_time": "2024-05-07T17:11:19.530Z"
   },
   {
    "duration": 6,
    "start_time": "2024-05-07T17:11:19.556Z"
   },
   {
    "duration": 8,
    "start_time": "2024-05-07T17:11:19.563Z"
   },
   {
    "duration": 176,
    "start_time": "2024-05-07T17:11:19.572Z"
   },
   {
    "duration": 285,
    "start_time": "2024-05-07T17:11:19.750Z"
   },
   {
    "duration": 167,
    "start_time": "2024-05-07T17:11:20.037Z"
   },
   {
    "duration": 187,
    "start_time": "2024-05-07T17:11:20.206Z"
   },
   {
    "duration": 220,
    "start_time": "2024-05-07T17:11:20.395Z"
   },
   {
    "duration": 26,
    "start_time": "2024-05-07T17:11:20.617Z"
   },
   {
    "duration": 280,
    "start_time": "2024-05-07T17:11:20.644Z"
   },
   {
    "duration": 18,
    "start_time": "2024-05-07T17:11:20.925Z"
   },
   {
    "duration": 218,
    "start_time": "2024-05-07T17:11:20.944Z"
   },
   {
    "duration": 10,
    "start_time": "2024-05-07T17:11:21.163Z"
   },
   {
    "duration": 178,
    "start_time": "2024-05-07T17:11:21.175Z"
   },
   {
    "duration": 162,
    "start_time": "2024-05-07T17:11:21.354Z"
   },
   {
    "duration": 153,
    "start_time": "2024-05-07T17:11:21.517Z"
   },
   {
    "duration": 168,
    "start_time": "2024-05-07T17:11:21.672Z"
   },
   {
    "duration": 29,
    "start_time": "2024-05-07T17:11:21.842Z"
   },
   {
    "duration": 25,
    "start_time": "2024-05-07T17:11:21.873Z"
   },
   {
    "duration": 12,
    "start_time": "2024-05-07T17:11:21.915Z"
   },
   {
    "duration": 5,
    "start_time": "2024-05-07T17:11:21.929Z"
   },
   {
    "duration": 15,
    "start_time": "2024-05-07T17:11:21.935Z"
   },
   {
    "duration": 189,
    "start_time": "2024-05-07T17:11:21.952Z"
   },
   {
    "duration": 2251,
    "start_time": "2024-05-07T17:11:22.144Z"
   },
   {
    "duration": 4,
    "start_time": "2024-05-07T17:11:24.397Z"
   },
   {
    "duration": 337,
    "start_time": "2024-05-07T17:11:24.403Z"
   },
   {
    "duration": 2274,
    "start_time": "2024-05-07T17:12:00.007Z"
   },
   {
    "duration": 2353,
    "start_time": "2024-05-07T17:12:08.589Z"
   },
   {
    "duration": 2276,
    "start_time": "2024-05-07T17:14:32.157Z"
   },
   {
    "duration": 2423,
    "start_time": "2024-05-07T17:14:35.726Z"
   },
   {
    "duration": 1089,
    "start_time": "2024-05-08T00:44:54.125Z"
   },
   {
    "duration": 20,
    "start_time": "2024-05-08T00:44:55.216Z"
   },
   {
    "duration": 6,
    "start_time": "2024-05-08T00:44:55.237Z"
   },
   {
    "duration": 13,
    "start_time": "2024-05-08T00:44:55.244Z"
   },
   {
    "duration": 35,
    "start_time": "2024-05-08T00:44:55.258Z"
   },
   {
    "duration": 8,
    "start_time": "2024-05-08T00:44:55.294Z"
   },
   {
    "duration": 16,
    "start_time": "2024-05-08T00:44:55.303Z"
   },
   {
    "duration": 137,
    "start_time": "2024-05-08T00:44:55.320Z"
   },
   {
    "duration": 242,
    "start_time": "2024-05-08T00:44:55.459Z"
   },
   {
    "duration": 140,
    "start_time": "2024-05-08T00:44:55.703Z"
   },
   {
    "duration": 158,
    "start_time": "2024-05-08T00:44:55.844Z"
   },
   {
    "duration": 188,
    "start_time": "2024-05-08T00:44:56.003Z"
   },
   {
    "duration": 25,
    "start_time": "2024-05-08T00:44:56.192Z"
   },
   {
    "duration": 210,
    "start_time": "2024-05-08T00:44:56.218Z"
   },
   {
    "duration": 15,
    "start_time": "2024-05-08T00:44:56.430Z"
   },
   {
    "duration": 168,
    "start_time": "2024-05-08T00:44:56.447Z"
   },
   {
    "duration": 9,
    "start_time": "2024-05-08T00:44:56.616Z"
   },
   {
    "duration": 141,
    "start_time": "2024-05-08T00:44:56.626Z"
   },
   {
    "duration": 135,
    "start_time": "2024-05-08T00:44:56.769Z"
   },
   {
    "duration": 132,
    "start_time": "2024-05-08T00:44:56.905Z"
   },
   {
    "duration": 143,
    "start_time": "2024-05-08T00:44:57.039Z"
   },
   {
    "duration": 33,
    "start_time": "2024-05-08T00:44:57.183Z"
   },
   {
    "duration": 22,
    "start_time": "2024-05-08T00:44:57.218Z"
   },
   {
    "duration": 10,
    "start_time": "2024-05-08T00:44:57.241Z"
   },
   {
    "duration": 28,
    "start_time": "2024-05-08T00:44:57.253Z"
   },
   {
    "duration": 26,
    "start_time": "2024-05-08T00:44:57.282Z"
   },
   {
    "duration": 160,
    "start_time": "2024-05-08T00:44:57.309Z"
   },
   {
    "duration": 1831,
    "start_time": "2024-05-08T00:44:57.472Z"
   },
   {
    "duration": 4,
    "start_time": "2024-05-08T00:44:59.304Z"
   },
   {
    "duration": 282,
    "start_time": "2024-05-08T00:44:59.309Z"
   },
   {
    "duration": 98,
    "start_time": "2024-05-08T00:57:11.265Z"
   },
   {
    "duration": 10,
    "start_time": "2024-05-08T00:57:41.113Z"
   },
   {
    "duration": 19,
    "start_time": "2024-05-08T00:58:00.699Z"
   },
   {
    "duration": 5,
    "start_time": "2024-05-08T00:58:37.212Z"
   },
   {
    "duration": 1798,
    "start_time": "2024-05-08T01:04:00.472Z"
   },
   {
    "duration": 1766,
    "start_time": "2024-05-08T01:04:06.445Z"
   },
   {
    "duration": 1760,
    "start_time": "2024-05-08T01:04:27.988Z"
   },
   {
    "duration": 9,
    "start_time": "2024-05-08T01:05:58.710Z"
   },
   {
    "duration": 109,
    "start_time": "2024-05-08T01:06:16.048Z"
   },
   {
    "duration": 1031,
    "start_time": "2024-05-08T01:07:31.284Z"
   },
   {
    "duration": 19,
    "start_time": "2024-05-08T01:07:32.317Z"
   },
   {
    "duration": 12,
    "start_time": "2024-05-08T01:07:32.338Z"
   },
   {
    "duration": 18,
    "start_time": "2024-05-08T01:07:32.352Z"
   },
   {
    "duration": 33,
    "start_time": "2024-05-08T01:07:32.372Z"
   },
   {
    "duration": 20,
    "start_time": "2024-05-08T01:07:32.407Z"
   },
   {
    "duration": 39,
    "start_time": "2024-05-08T01:07:32.428Z"
   },
   {
    "duration": 179,
    "start_time": "2024-05-08T01:07:32.468Z"
   },
   {
    "duration": 238,
    "start_time": "2024-05-08T01:07:32.649Z"
   },
   {
    "duration": 139,
    "start_time": "2024-05-08T01:07:32.889Z"
   },
   {
    "duration": 154,
    "start_time": "2024-05-08T01:07:33.030Z"
   },
   {
    "duration": 175,
    "start_time": "2024-05-08T01:07:33.186Z"
   },
   {
    "duration": 22,
    "start_time": "2024-05-08T01:07:33.362Z"
   },
   {
    "duration": 210,
    "start_time": "2024-05-08T01:07:33.385Z"
   },
   {
    "duration": 17,
    "start_time": "2024-05-08T01:07:33.596Z"
   },
   {
    "duration": 161,
    "start_time": "2024-05-08T01:07:33.615Z"
   },
   {
    "duration": 8,
    "start_time": "2024-05-08T01:07:33.778Z"
   },
   {
    "duration": 157,
    "start_time": "2024-05-08T01:07:33.788Z"
   },
   {
    "duration": 132,
    "start_time": "2024-05-08T01:07:33.946Z"
   },
   {
    "duration": 134,
    "start_time": "2024-05-08T01:07:34.079Z"
   },
   {
    "duration": 140,
    "start_time": "2024-05-08T01:07:34.214Z"
   },
   {
    "duration": 24,
    "start_time": "2024-05-08T01:07:34.355Z"
   },
   {
    "duration": 29,
    "start_time": "2024-05-08T01:07:34.380Z"
   },
   {
    "duration": 24,
    "start_time": "2024-05-08T01:07:34.410Z"
   },
   {
    "duration": 10,
    "start_time": "2024-05-08T01:07:34.435Z"
   },
   {
    "duration": 5,
    "start_time": "2024-05-08T01:07:34.446Z"
   },
   {
    "duration": 18,
    "start_time": "2024-05-08T01:07:34.452Z"
   },
   {
    "duration": 160,
    "start_time": "2024-05-08T01:07:34.473Z"
   },
   {
    "duration": 1804,
    "start_time": "2024-05-08T01:07:34.635Z"
   },
   {
    "duration": 119,
    "start_time": "2024-05-08T01:07:36.441Z"
   },
   {
    "duration": 3,
    "start_time": "2024-05-08T01:07:36.561Z"
   },
   {
    "duration": 305,
    "start_time": "2024-05-08T01:07:36.566Z"
   },
   {
    "duration": 1333,
    "start_time": "2024-05-08T13:48:32.611Z"
   },
   {
    "duration": 4,
    "start_time": "2024-05-08T13:51:12.739Z"
   },
   {
    "duration": 100,
    "start_time": "2024-05-08T13:54:27.743Z"
   },
   {
    "duration": 10,
    "start_time": "2024-05-08T14:22:14.201Z"
   },
   {
    "duration": 1291,
    "start_time": "2024-05-08T14:22:19.235Z"
   },
   {
    "duration": 324,
    "start_time": "2024-05-08T14:22:20.528Z"
   },
   {
    "duration": 31,
    "start_time": "2024-05-08T14:22:20.854Z"
   },
   {
    "duration": 36,
    "start_time": "2024-05-08T14:22:20.887Z"
   },
   {
    "duration": 34,
    "start_time": "2024-05-08T14:22:20.924Z"
   },
   {
    "duration": 5,
    "start_time": "2024-05-08T14:22:20.960Z"
   },
   {
    "duration": 23,
    "start_time": "2024-05-08T14:22:20.967Z"
   },
   {
    "duration": 17,
    "start_time": "2024-05-08T14:22:20.991Z"
   },
   {
    "duration": 25,
    "start_time": "2024-05-08T14:22:21.009Z"
   },
   {
    "duration": 199,
    "start_time": "2024-05-08T14:22:21.036Z"
   },
   {
    "duration": 326,
    "start_time": "2024-05-08T14:22:21.237Z"
   },
   {
    "duration": 191,
    "start_time": "2024-05-08T14:22:21.564Z"
   },
   {
    "duration": 228,
    "start_time": "2024-05-08T14:22:21.757Z"
   },
   {
    "duration": 281,
    "start_time": "2024-05-08T14:22:21.987Z"
   },
   {
    "duration": 33,
    "start_time": "2024-05-08T14:22:22.270Z"
   },
   {
    "duration": 302,
    "start_time": "2024-05-08T14:22:22.305Z"
   },
   {
    "duration": 19,
    "start_time": "2024-05-08T14:22:22.609Z"
   },
   {
    "duration": 267,
    "start_time": "2024-05-08T14:22:22.630Z"
   },
   {
    "duration": 11,
    "start_time": "2024-05-08T14:22:22.898Z"
   },
   {
    "duration": 199,
    "start_time": "2024-05-08T14:22:22.910Z"
   },
   {
    "duration": 185,
    "start_time": "2024-05-08T14:22:23.111Z"
   },
   {
    "duration": 190,
    "start_time": "2024-05-08T14:22:23.297Z"
   },
   {
    "duration": 189,
    "start_time": "2024-05-08T14:22:23.489Z"
   },
   {
    "duration": 33,
    "start_time": "2024-05-08T14:22:23.681Z"
   },
   {
    "duration": 32,
    "start_time": "2024-05-08T14:22:23.716Z"
   },
   {
    "duration": 43,
    "start_time": "2024-05-08T14:22:23.750Z"
   },
   {
    "duration": 13,
    "start_time": "2024-05-08T14:22:23.795Z"
   },
   {
    "duration": 5,
    "start_time": "2024-05-08T14:22:23.811Z"
   },
   {
    "duration": 13,
    "start_time": "2024-05-08T14:22:23.817Z"
   },
   {
    "duration": 213,
    "start_time": "2024-05-08T14:22:23.832Z"
   },
   {
    "duration": 2651,
    "start_time": "2024-05-08T14:22:24.047Z"
   },
   {
    "duration": 150,
    "start_time": "2024-05-08T14:22:26.699Z"
   },
   {
    "duration": 4,
    "start_time": "2024-05-08T14:22:26.851Z"
   },
   {
    "duration": 362,
    "start_time": "2024-05-08T14:22:26.856Z"
   },
   {
    "duration": 61,
    "start_time": "2024-05-08T14:38:49.401Z"
   },
   {
    "duration": 4,
    "start_time": "2024-05-08T14:40:50.430Z"
   },
   {
    "duration": 107,
    "start_time": "2024-05-08T14:42:52.110Z"
   },
   {
    "duration": 5,
    "start_time": "2024-05-08T14:42:57.355Z"
   },
   {
    "duration": 8,
    "start_time": "2024-05-08T14:43:12.330Z"
   },
   {
    "duration": 9,
    "start_time": "2024-05-08T14:43:14.584Z"
   },
   {
    "duration": 5,
    "start_time": "2024-05-08T14:43:17.770Z"
   },
   {
    "duration": 5,
    "start_time": "2024-05-08T14:43:51.371Z"
   },
   {
    "duration": 21,
    "start_time": "2024-05-08T14:44:27.565Z"
   },
   {
    "duration": 36,
    "start_time": "2024-05-08T14:44:45.433Z"
   },
   {
    "duration": 178,
    "start_time": "2024-05-08T14:45:06.594Z"
   },
   {
    "duration": 32,
    "start_time": "2024-05-08T14:48:40.550Z"
   },
   {
    "duration": 103,
    "start_time": "2024-05-08T14:48:52.121Z"
   },
   {
    "duration": 62,
    "start_time": "2024-05-08T14:51:13.359Z"
   },
   {
    "duration": 18,
    "start_time": "2024-05-08T14:51:18.221Z"
   },
   {
    "duration": 9,
    "start_time": "2024-05-08T14:52:41.125Z"
   },
   {
    "duration": 28,
    "start_time": "2024-05-08T14:52:55.825Z"
   },
   {
    "duration": 21,
    "start_time": "2024-05-08T14:53:04.087Z"
   },
   {
    "duration": 10,
    "start_time": "2024-05-08T14:53:18.358Z"
   },
   {
    "duration": 6,
    "start_time": "2024-05-08T14:54:39.929Z"
   },
   {
    "duration": 13,
    "start_time": "2024-05-08T15:07:04.258Z"
   },
   {
    "duration": 179,
    "start_time": "2024-05-08T15:10:46.448Z"
   },
   {
    "duration": 186,
    "start_time": "2024-05-08T15:11:12.838Z"
   },
   {
    "duration": 12,
    "start_time": "2024-05-08T15:14:59.033Z"
   },
   {
    "duration": 10,
    "start_time": "2024-05-08T15:15:07.081Z"
   },
   {
    "duration": 15,
    "start_time": "2024-05-08T15:15:21.761Z"
   },
   {
    "duration": 14,
    "start_time": "2024-05-08T15:16:32.624Z"
   },
   {
    "duration": 31,
    "start_time": "2024-05-08T15:16:47.359Z"
   },
   {
    "duration": 12,
    "start_time": "2024-05-08T15:17:02.731Z"
   },
   {
    "duration": 28,
    "start_time": "2024-05-08T15:17:21.946Z"
   },
   {
    "duration": 28,
    "start_time": "2024-05-08T15:17:41.465Z"
   },
   {
    "duration": 12,
    "start_time": "2024-05-08T15:18:37.548Z"
   },
   {
    "duration": 20,
    "start_time": "2024-05-08T15:18:45.359Z"
   },
   {
    "duration": 207,
    "start_time": "2024-05-08T15:21:41.853Z"
   },
   {
    "duration": 207,
    "start_time": "2024-05-08T15:22:12.384Z"
   },
   {
    "duration": 260,
    "start_time": "2024-05-08T15:22:16.629Z"
   },
   {
    "duration": 196,
    "start_time": "2024-05-08T15:22:20.934Z"
   },
   {
    "duration": 194,
    "start_time": "2024-05-08T15:23:39.603Z"
   },
   {
    "duration": 236,
    "start_time": "2024-05-08T15:23:59.813Z"
   },
   {
    "duration": 26,
    "start_time": "2024-05-08T15:35:58.155Z"
   },
   {
    "duration": 29,
    "start_time": "2024-05-08T15:36:32.540Z"
   },
   {
    "duration": 28,
    "start_time": "2024-05-08T15:37:13.460Z"
   },
   {
    "duration": 29,
    "start_time": "2024-05-08T15:37:23.789Z"
   },
   {
    "duration": 31,
    "start_time": "2024-05-08T15:37:29.844Z"
   },
   {
    "duration": 28,
    "start_time": "2024-05-08T15:37:39.122Z"
   },
   {
    "duration": 4,
    "start_time": "2024-05-08T15:38:03.573Z"
   },
   {
    "duration": 23,
    "start_time": "2024-05-08T15:38:22.985Z"
   },
   {
    "duration": 27,
    "start_time": "2024-05-08T15:38:26.570Z"
   },
   {
    "duration": 28,
    "start_time": "2024-05-08T15:38:30.441Z"
   },
   {
    "duration": 26,
    "start_time": "2024-05-08T15:38:34.702Z"
   },
   {
    "duration": 28,
    "start_time": "2024-05-08T15:39:07.196Z"
   },
   {
    "duration": 28,
    "start_time": "2024-05-08T15:39:13.850Z"
   },
   {
    "duration": 28,
    "start_time": "2024-05-08T15:39:20.835Z"
   },
   {
    "duration": 22,
    "start_time": "2024-05-08T15:39:53.981Z"
   },
   {
    "duration": 27,
    "start_time": "2024-05-08T15:40:00.586Z"
   },
   {
    "duration": 1197,
    "start_time": "2024-05-08T15:40:09.679Z"
   },
   {
    "duration": 86,
    "start_time": "2024-05-08T15:40:10.878Z"
   },
   {
    "duration": 25,
    "start_time": "2024-05-08T15:40:10.966Z"
   },
   {
    "duration": 4,
    "start_time": "2024-05-08T15:40:10.993Z"
   },
   {
    "duration": 9,
    "start_time": "2024-05-08T15:40:10.999Z"
   },
   {
    "duration": 9,
    "start_time": "2024-05-08T15:40:11.010Z"
   },
   {
    "duration": 9,
    "start_time": "2024-05-08T15:40:11.021Z"
   },
   {
    "duration": 7,
    "start_time": "2024-05-08T15:40:11.032Z"
   },
   {
    "duration": 38,
    "start_time": "2024-05-08T15:40:11.040Z"
   },
   {
    "duration": 6,
    "start_time": "2024-05-08T15:40:11.079Z"
   },
   {
    "duration": 190,
    "start_time": "2024-05-08T15:40:11.086Z"
   },
   {
    "duration": 318,
    "start_time": "2024-05-08T15:40:11.277Z"
   },
   {
    "duration": 215,
    "start_time": "2024-05-08T15:40:11.597Z"
   },
   {
    "duration": 217,
    "start_time": "2024-05-08T15:40:11.815Z"
   },
   {
    "duration": 244,
    "start_time": "2024-05-08T15:40:12.034Z"
   },
   {
    "duration": 27,
    "start_time": "2024-05-08T15:40:12.280Z"
   },
   {
    "duration": 3,
    "start_time": "2024-05-08T15:40:12.309Z"
   },
   {
    "duration": 286,
    "start_time": "2024-05-08T15:40:12.313Z"
   },
   {
    "duration": 18,
    "start_time": "2024-05-08T15:40:12.601Z"
   },
   {
    "duration": 210,
    "start_time": "2024-05-08T15:40:12.620Z"
   },
   {
    "duration": 10,
    "start_time": "2024-05-08T15:40:12.832Z"
   },
   {
    "duration": 198,
    "start_time": "2024-05-08T15:40:12.843Z"
   },
   {
    "duration": 188,
    "start_time": "2024-05-08T15:40:13.042Z"
   },
   {
    "duration": 172,
    "start_time": "2024-05-08T15:40:13.232Z"
   },
   {
    "duration": 182,
    "start_time": "2024-05-08T15:40:13.406Z"
   },
   {
    "duration": 32,
    "start_time": "2024-05-08T15:40:13.589Z"
   },
   {
    "duration": 23,
    "start_time": "2024-05-08T15:40:13.622Z"
   },
   {
    "duration": 49,
    "start_time": "2024-05-08T15:40:13.647Z"
   },
   {
    "duration": 13,
    "start_time": "2024-05-08T15:40:13.698Z"
   },
   {
    "duration": 18,
    "start_time": "2024-05-08T15:40:13.713Z"
   },
   {
    "duration": 8,
    "start_time": "2024-05-08T15:40:13.732Z"
   },
   {
    "duration": 204,
    "start_time": "2024-05-08T15:40:13.742Z"
   },
   {
    "duration": 2513,
    "start_time": "2024-05-08T15:40:13.948Z"
   },
   {
    "duration": 142,
    "start_time": "2024-05-08T15:40:16.463Z"
   },
   {
    "duration": 4,
    "start_time": "2024-05-08T15:40:16.607Z"
   },
   {
    "duration": 313,
    "start_time": "2024-05-08T15:40:16.613Z"
   },
   {
    "duration": 27,
    "start_time": "2024-05-08T15:40:42.814Z"
   },
   {
    "duration": 28,
    "start_time": "2024-05-08T15:42:07.250Z"
   },
   {
    "duration": 28,
    "start_time": "2024-05-08T15:42:13.949Z"
   },
   {
    "duration": 35,
    "start_time": "2024-05-08T15:44:33.329Z"
   },
   {
    "duration": 35,
    "start_time": "2024-05-08T15:44:42.062Z"
   },
   {
    "duration": 36,
    "start_time": "2024-05-08T15:45:17.352Z"
   },
   {
    "duration": 39,
    "start_time": "2024-05-08T15:45:33.666Z"
   },
   {
    "duration": 35,
    "start_time": "2024-05-08T15:45:41.695Z"
   },
   {
    "duration": 215,
    "start_time": "2024-05-08T17:21:32.198Z"
   },
   {
    "duration": 34,
    "start_time": "2024-05-08T17:53:16.935Z"
   },
   {
    "duration": 32,
    "start_time": "2024-05-08T17:53:33.236Z"
   },
   {
    "duration": 1240,
    "start_time": "2024-05-08T18:16:42.101Z"
   },
   {
    "duration": 30,
    "start_time": "2024-05-08T18:16:51.073Z"
   },
   {
    "duration": 13,
    "start_time": "2024-05-08T18:16:53.300Z"
   },
   {
    "duration": 9,
    "start_time": "2024-05-08T18:27:17.398Z"
   },
   {
    "duration": 9,
    "start_time": "2024-05-08T18:28:18.098Z"
   },
   {
    "duration": 9,
    "start_time": "2024-05-08T18:28:30.467Z"
   },
   {
    "duration": 8,
    "start_time": "2024-05-08T18:28:42.814Z"
   },
   {
    "duration": 9,
    "start_time": "2024-05-08T18:28:46.955Z"
   },
   {
    "duration": 7,
    "start_time": "2024-05-08T18:30:10.192Z"
   },
   {
    "duration": 7,
    "start_time": "2024-05-08T18:31:01.128Z"
   },
   {
    "duration": 8,
    "start_time": "2024-05-08T18:31:59.928Z"
   },
   {
    "duration": 9,
    "start_time": "2024-05-08T18:32:03.470Z"
   },
   {
    "duration": 8,
    "start_time": "2024-05-08T18:32:15.363Z"
   },
   {
    "duration": 7,
    "start_time": "2024-05-08T18:33:00.024Z"
   },
   {
    "duration": 8,
    "start_time": "2024-05-08T18:33:05.618Z"
   },
   {
    "duration": 7,
    "start_time": "2024-05-08T18:39:19.094Z"
   },
   {
    "duration": 6,
    "start_time": "2024-05-08T18:43:32.787Z"
   },
   {
    "duration": 6,
    "start_time": "2024-05-08T18:44:35.592Z"
   },
   {
    "duration": 1103,
    "start_time": "2024-05-09T04:43:03.903Z"
   },
   {
    "duration": 81,
    "start_time": "2024-05-09T04:43:05.008Z"
   },
   {
    "duration": 24,
    "start_time": "2024-05-09T04:43:05.091Z"
   },
   {
    "duration": 4,
    "start_time": "2024-05-09T04:43:05.118Z"
   },
   {
    "duration": 20,
    "start_time": "2024-05-09T04:43:05.124Z"
   },
   {
    "duration": 23,
    "start_time": "2024-05-09T04:43:05.146Z"
   },
   {
    "duration": 6,
    "start_time": "2024-05-09T04:43:05.171Z"
   },
   {
    "duration": 7,
    "start_time": "2024-05-09T04:43:05.179Z"
   },
   {
    "duration": 17,
    "start_time": "2024-05-09T04:43:05.187Z"
   },
   {
    "duration": 13,
    "start_time": "2024-05-09T04:43:05.206Z"
   },
   {
    "duration": 185,
    "start_time": "2024-05-09T04:43:05.221Z"
   },
   {
    "duration": 302,
    "start_time": "2024-05-09T04:43:05.407Z"
   },
   {
    "duration": 197,
    "start_time": "2024-05-09T04:43:05.711Z"
   },
   {
    "duration": 195,
    "start_time": "2024-05-09T04:43:05.909Z"
   },
   {
    "duration": 242,
    "start_time": "2024-05-09T04:43:06.105Z"
   },
   {
    "duration": 43,
    "start_time": "2024-05-09T04:43:06.348Z"
   },
   {
    "duration": 267,
    "start_time": "2024-05-09T04:43:06.393Z"
   },
   {
    "duration": 23,
    "start_time": "2024-05-09T04:43:06.662Z"
   },
   {
    "duration": 195,
    "start_time": "2024-05-09T04:43:06.687Z"
   },
   {
    "duration": 10,
    "start_time": "2024-05-09T04:43:06.884Z"
   },
   {
    "duration": 181,
    "start_time": "2024-05-09T04:43:06.895Z"
   },
   {
    "duration": 165,
    "start_time": "2024-05-09T04:43:07.077Z"
   },
   {
    "duration": 190,
    "start_time": "2024-05-09T04:43:07.243Z"
   },
   {
    "duration": 171,
    "start_time": "2024-05-09T04:43:07.435Z"
   },
   {
    "duration": 29,
    "start_time": "2024-05-09T04:43:07.607Z"
   },
   {
    "duration": 32,
    "start_time": "2024-05-09T04:43:07.638Z"
   },
   {
    "duration": 28,
    "start_time": "2024-05-09T04:43:07.672Z"
   },
   {
    "duration": 28,
    "start_time": "2024-05-09T04:43:07.703Z"
   },
   {
    "duration": 20,
    "start_time": "2024-05-09T04:43:07.732Z"
   },
   {
    "duration": 14,
    "start_time": "2024-05-09T04:43:07.753Z"
   },
   {
    "duration": 11,
    "start_time": "2024-05-09T04:43:07.769Z"
   },
   {
    "duration": 196,
    "start_time": "2024-05-09T04:43:07.781Z"
   },
   {
    "duration": 2339,
    "start_time": "2024-05-09T04:43:07.978Z"
   },
   {
    "duration": 142,
    "start_time": "2024-05-09T04:43:10.318Z"
   },
   {
    "duration": 10,
    "start_time": "2024-05-09T04:43:10.461Z"
   },
   {
    "duration": 315,
    "start_time": "2024-05-09T04:43:10.472Z"
   }
  ],
  "kernelspec": {
   "display_name": "Python 3 (ipykernel)",
   "language": "python",
   "name": "python3"
  },
  "language_info": {
   "codemirror_mode": {
    "name": "ipython",
    "version": 3
   },
   "file_extension": ".py",
   "mimetype": "text/x-python",
   "name": "python",
   "nbconvert_exporter": "python",
   "pygments_lexer": "ipython3",
   "version": "3.11.7"
  },
  "toc": {
   "base_numbering": 1,
   "nav_menu": {},
   "number_sections": true,
   "sideBar": true,
   "skip_h1_title": true,
   "title_cell": "Table of Contents",
   "title_sidebar": "Contents",
   "toc_cell": false,
   "toc_position": {},
   "toc_section_display": true,
   "toc_window_display": false
  }
 },
 "nbformat": 4,
 "nbformat_minor": 5
}
